{
 "cells": [
  {
   "cell_type": "code",
   "execution_count": null,
   "metadata": {},
   "outputs": [],
   "source": []
  },
  {
   "cell_type": "code",
   "execution_count": 1,
   "metadata": {
    "jupyter": {
     "outputs_hidden": true
    },
    "tags": []
   },
   "outputs": [
    {
     "name": "stdout",
     "output_type": "stream",
     "text": [
      "Requirement already satisfied: pip in /opt/conda/lib/python3.9/site-packages (21.2.1)\n",
      "Collecting Kqlmagic\n",
      "  Downloading Kqlmagic-0.1.114.post2-py3-none-any.whl (229 kB)\n",
      "\u001b[K     |████████████████████████████████| 229 kB 6.7 MB/s eta 0:00:01\n",
      "\u001b[?25hRequirement already satisfied: Pygments>=2.2.0 in /opt/conda/lib/python3.9/site-packages (from Kqlmagic) (2.9.0)\n",
      "Requirement already satisfied: ipykernel>=5.1.1 in /opt/conda/lib/python3.9/site-packages (from Kqlmagic) (6.0.3)\n",
      "Requirement already satisfied: setuptools>=41.0.1 in /opt/conda/lib/python3.9/site-packages (from Kqlmagic) (49.6.0.post20210108)\n",
      "Collecting azure-identity>=1.5.0\n",
      "  Downloading azure_identity-1.6.0-py2.py3-none-any.whl (108 kB)\n",
      "\u001b[K     |████████████████████████████████| 108 kB 17.5 MB/s eta 0:00:01\n",
      "\u001b[?25hCollecting ipywidgets\n",
      "  Downloading ipywidgets-7.6.3-py2.py3-none-any.whl (121 kB)\n",
      "\u001b[K     |████████████████████████████████| 121 kB 19.8 MB/s eta 0:00:01\n",
      "\u001b[?25hCollecting flask>=1.0.3\n",
      "  Downloading Flask-2.0.1-py3-none-any.whl (94 kB)\n",
      "\u001b[K     |████████████████████████████████| 94 kB 16.6 MB/s eta 0:00:01\n",
      "\u001b[?25hRequirement already satisfied: python-dateutil>=2.7.5 in /opt/conda/lib/python3.9/site-packages (from Kqlmagic) (2.8.2)\n",
      "Collecting msal-extensions>=0.3.0\n",
      "  Downloading msal_extensions-0.3.0-py2.py3-none-any.whl (16 kB)\n",
      "Collecting plotly>=3.10.0\n",
      "  Downloading plotly-5.1.0-py2.py3-none-any.whl (20.6 MB)\n",
      "\u001b[K     |████████████████████████████████| 20.6 MB 11.5 MB/s eta 0:00:01    |██████████████▌                 | 9.3 MB 11.5 MB/s eta 0:00:01\n",
      "\u001b[?25hRequirement already satisfied: ipython>=7.1.1 in /opt/conda/lib/python3.9/site-packages (from Kqlmagic) (7.25.0)\n",
      "Collecting psutil>=5.4.7\n",
      "  Downloading psutil-5.8.0-cp39-cp39-manylinux2010_x86_64.whl (293 kB)\n",
      "\u001b[K     |████████████████████████████████| 293 kB 17.7 MB/s eta 0:00:01\n",
      "\u001b[?25hCollecting pyperclip>=1.7.0\n",
      "  Downloading pyperclip-1.8.2.tar.gz (20 kB)\n",
      "Collecting password-strength>=0.0.3\n",
      "  Downloading password_strength-0.0.3.post2-py2.py3-none-any.whl (12 kB)\n",
      "Collecting prettytable>=0.7.2\n",
      "  Downloading prettytable-2.1.0-py3-none-any.whl (22 kB)\n",
      "Collecting matplotlib>=3.0.0\n",
      "  Downloading matplotlib-3.4.2-cp39-cp39-manylinux1_x86_64.whl (10.3 MB)\n",
      "\u001b[K     |████████████████████████████████| 10.3 MB 15.4 MB/s eta 0:00:01\n",
      "\u001b[?25hCollecting lxml>=4.2.5\n",
      "  Downloading lxml-4.6.3-cp39-cp39-manylinux2014_x86_64.whl (6.9 MB)\n",
      "\u001b[K     |████████████████████████████████| 6.9 MB 6.0 MB/s eta 0:00:01\n",
      "\u001b[?25hCollecting beautifulsoup4>=4.6.3\n",
      "  Downloading beautifulsoup4-4.9.3-py3-none-any.whl (115 kB)\n",
      "\u001b[K     |████████████████████████████████| 115 kB 26.5 MB/s eta 0:00:01\n",
      "\u001b[?25hRequirement already satisfied: traitlets>=4.3.2 in /opt/conda/lib/python3.9/site-packages (from Kqlmagic) (5.0.5)\n",
      "Collecting Markdown>=3.0.1\n",
      "  Downloading Markdown-3.3.4-py3-none-any.whl (97 kB)\n",
      "\u001b[K     |████████████████████████████████| 97 kB 18.0 MB/s eta 0:00:01\n",
      "\u001b[?25hCollecting msrestazure>=0.6.3\n",
      "  Downloading msrestazure-0.6.4-py2.py3-none-any.whl (40 kB)\n",
      "\u001b[K     |████████████████████████████████| 40 kB 65.6 MB/s eta 0:00:01\n",
      "\u001b[?25hRequirement already satisfied: cryptography>=2.7 in /opt/conda/lib/python3.9/site-packages (from Kqlmagic) (3.4.7)\n",
      "Collecting msal>=1.11.0\n",
      "  Downloading msal-1.13.0-py2.py3-none-any.whl (67 kB)\n",
      "\u001b[K     |████████████████████████████████| 67 kB 54.4 MB/s eta 0:00:01\n",
      "\u001b[?25hCollecting azure-common>=1.1.25\n",
      "  Downloading azure_common-1.1.27-py2.py3-none-any.whl (12 kB)\n",
      "Collecting isodate>=0.6.0\n",
      "  Downloading isodate-0.6.0-py2.py3-none-any.whl (45 kB)\n",
      "\u001b[K     |████████████████████████████████| 45 kB 45.1 MB/s eta 0:00:01\n",
      "\u001b[?25hRequirement already satisfied: requests>=2.21.0 in /opt/conda/lib/python3.9/site-packages (from Kqlmagic) (2.26.0)\n",
      "Collecting pandas>=0.23.4\n",
      "  Downloading pandas-1.3.1-cp39-cp39-manylinux_2_17_x86_64.manylinux2014_x86_64.whl (11.7 MB)\n",
      "\u001b[K     |████████████████████████████████| 11.7 MB 13.7 MB/s eta 0:00:01\n",
      "\u001b[?25hRequirement already satisfied: six>=1.12.0 in /opt/conda/lib/python3.9/site-packages (from azure-identity>=1.5.0->Kqlmagic) (1.16.0)\n",
      "Collecting azure-core<2.0.0,>=1.0.0\n",
      "  Downloading azure_core-1.16.0-py2.py3-none-any.whl (163 kB)\n",
      "\u001b[K     |████████████████████████████████| 163 kB 17.4 MB/s eta 0:00:01\n",
      "\u001b[?25hCollecting soupsieve>1.2\n",
      "  Downloading soupsieve-2.2.1-py3-none-any.whl (33 kB)\n",
      "Requirement already satisfied: cffi>=1.12 in /opt/conda/lib/python3.9/site-packages (from cryptography>=2.7->Kqlmagic) (1.14.6)\n",
      "Requirement already satisfied: pycparser in /opt/conda/lib/python3.9/site-packages (from cffi>=1.12->cryptography>=2.7->Kqlmagic) (2.20)\n",
      "Collecting itsdangerous>=2.0\n",
      "  Downloading itsdangerous-2.0.1-py3-none-any.whl (18 kB)\n",
      "Collecting Werkzeug>=2.0\n",
      "  Downloading Werkzeug-2.0.1-py3-none-any.whl (288 kB)\n",
      "\u001b[K     |████████████████████████████████| 288 kB 41.0 MB/s eta 0:00:01\n",
      "\u001b[?25hRequirement already satisfied: Jinja2>=3.0 in /opt/conda/lib/python3.9/site-packages (from flask>=1.0.3->Kqlmagic) (3.0.1)\n",
      "Collecting click>=7.1.2\n",
      "  Downloading click-8.0.1-py3-none-any.whl (97 kB)\n",
      "\u001b[K     |████████████████████████████████| 97 kB 43.5 MB/s eta 0:00:01\n",
      "\u001b[?25hRequirement already satisfied: jupyter-client<7.0 in /opt/conda/lib/python3.9/site-packages (from ipykernel>=5.1.1->Kqlmagic) (6.1.12)\n",
      "Requirement already satisfied: tornado<7.0,>=4.2 in /opt/conda/lib/python3.9/site-packages (from ipykernel>=5.1.1->Kqlmagic) (6.1)\n",
      "Requirement already satisfied: matplotlib-inline<0.2.0,>=0.1.0 in /opt/conda/lib/python3.9/site-packages (from ipykernel>=5.1.1->Kqlmagic) (0.1.2)\n",
      "Requirement already satisfied: debugpy<2.0,>=1.0.0 in /opt/conda/lib/python3.9/site-packages (from ipykernel>=5.1.1->Kqlmagic) (1.4.1)\n",
      "Requirement already satisfied: pexpect>4.3 in /opt/conda/lib/python3.9/site-packages (from ipython>=7.1.1->Kqlmagic) (4.8.0)\n",
      "Requirement already satisfied: decorator in /opt/conda/lib/python3.9/site-packages (from ipython>=7.1.1->Kqlmagic) (5.0.9)\n",
      "Requirement already satisfied: pickleshare in /opt/conda/lib/python3.9/site-packages (from ipython>=7.1.1->Kqlmagic) (0.7.5)\n",
      "Requirement already satisfied: jedi>=0.16 in /opt/conda/lib/python3.9/site-packages (from ipython>=7.1.1->Kqlmagic) (0.18.0)\n",
      "Requirement already satisfied: backcall in /opt/conda/lib/python3.9/site-packages (from ipython>=7.1.1->Kqlmagic) (0.2.0)\n",
      "Requirement already satisfied: prompt-toolkit!=3.0.0,!=3.0.1,<3.1.0,>=2.0.0 in /opt/conda/lib/python3.9/site-packages (from ipython>=7.1.1->Kqlmagic) (3.0.19)\n",
      "Requirement already satisfied: parso<0.9.0,>=0.8.0 in /opt/conda/lib/python3.9/site-packages (from jedi>=0.16->ipython>=7.1.1->Kqlmagic) (0.8.2)\n",
      "Requirement already satisfied: MarkupSafe>=2.0 in /opt/conda/lib/python3.9/site-packages (from Jinja2>=3.0->flask>=1.0.3->Kqlmagic) (2.0.1)\n",
      "Requirement already satisfied: pyzmq>=13 in /opt/conda/lib/python3.9/site-packages (from jupyter-client<7.0->ipykernel>=5.1.1->Kqlmagic) (22.1.0)\n",
      "Requirement already satisfied: jupyter-core>=4.6.0 in /opt/conda/lib/python3.9/site-packages (from jupyter-client<7.0->ipykernel>=5.1.1->Kqlmagic) (4.7.1)\n",
      "Requirement already satisfied: pyparsing>=2.2.1 in /opt/conda/lib/python3.9/site-packages (from matplotlib>=3.0.0->Kqlmagic) (2.4.7)\n",
      "Collecting numpy>=1.16\n",
      "  Downloading numpy-1.21.1-cp39-cp39-manylinux_2_12_x86_64.manylinux2010_x86_64.whl (15.8 MB)\n",
      "\u001b[K     |████████████████████████████████| 15.8 MB 27.6 MB/s eta 0:00:01    |███████▏                        | 3.5 MB 27.6 MB/s eta 0:00:01     |███████████████████████████▏    | 13.4 MB 27.6 MB/s eta 0:00:01\n",
      "\u001b[?25hCollecting pillow>=6.2.0\n",
      "  Downloading Pillow-8.3.1-cp39-cp39-manylinux_2_5_x86_64.manylinux1_x86_64.whl (3.0 MB)\n",
      "\u001b[K     |████████████████████████████████| 3.0 MB 15.8 MB/s eta 0:00:01\n",
      "\u001b[?25hCollecting cycler>=0.10\n",
      "  Downloading cycler-0.10.0-py2.py3-none-any.whl (6.5 kB)\n",
      "Collecting kiwisolver>=1.0.1\n",
      "  Downloading kiwisolver-1.3.1-cp39-cp39-manylinux1_x86_64.whl (1.2 MB)\n",
      "\u001b[K     |████████████████████████████████| 1.2 MB 30.1 MB/s eta 0:00:01\n",
      "\u001b[?25hRequirement already satisfied: PyJWT[crypto]<3,>=1.0.0 in /opt/conda/lib/python3.9/site-packages (from msal>=1.11.0->Kqlmagic) (2.1.0)\n",
      "Collecting portalocker~=1.0\n",
      "  Downloading portalocker-1.7.1-py2.py3-none-any.whl (10 kB)\n",
      "Collecting msrest<2.0.0,>=0.6.0\n",
      "  Downloading msrest-0.6.21-py2.py3-none-any.whl (85 kB)\n",
      "\u001b[K     |████████████████████████████████| 85 kB 27.3 MB/s eta 0:00:01\n"
     ]
    },
    {
     "name": "stdout",
     "output_type": "stream",
     "text": [
      "\u001b[?25hCollecting adal<2.0.0,>=0.6.0\n",
      "  Downloading adal-1.2.7-py2.py3-none-any.whl (55 kB)\n",
      "\u001b[K     |████████████████████████████████| 55 kB 63.1 MB/s eta 0:00:01\n",
      "\u001b[?25hCollecting requests-oauthlib>=0.5.0\n",
      "  Downloading requests_oauthlib-1.3.0-py2.py3-none-any.whl (23 kB)\n",
      "Requirement already satisfied: certifi>=2017.4.17 in /opt/conda/lib/python3.9/site-packages (from msrest<2.0.0,>=0.6.0->msrestazure>=0.6.3->Kqlmagic) (2021.5.30)\n",
      "Requirement already satisfied: pytz>=2017.3 in /opt/conda/lib/python3.9/site-packages (from pandas>=0.23.4->Kqlmagic) (2021.1)\n",
      "Requirement already satisfied: ptyprocess>=0.5 in /opt/conda/lib/python3.9/site-packages (from pexpect>4.3->ipython>=7.1.1->Kqlmagic) (0.7.0)\n",
      "Collecting tenacity>=6.2.0\n",
      "  Downloading tenacity-8.0.1-py3-none-any.whl (24 kB)\n",
      "Requirement already satisfied: wcwidth in /opt/conda/lib/python3.9/site-packages (from prettytable>=0.7.2->Kqlmagic) (0.2.5)\n",
      "Requirement already satisfied: charset-normalizer~=2.0.0 in /opt/conda/lib/python3.9/site-packages (from requests>=2.21.0->Kqlmagic) (2.0.0)\n",
      "Requirement already satisfied: urllib3<1.27,>=1.21.1 in /opt/conda/lib/python3.9/site-packages (from requests>=2.21.0->Kqlmagic) (1.26.6)\n",
      "Requirement already satisfied: idna<4,>=2.5 in /opt/conda/lib/python3.9/site-packages (from requests>=2.21.0->Kqlmagic) (3.1)\n",
      "Requirement already satisfied: oauthlib>=3.0.0 in /opt/conda/lib/python3.9/site-packages (from requests-oauthlib>=0.5.0->msrest<2.0.0,>=0.6.0->msrestazure>=0.6.3->Kqlmagic) (3.1.1)\n",
      "Requirement already satisfied: ipython-genutils in /opt/conda/lib/python3.9/site-packages (from traitlets>=4.3.2->Kqlmagic) (0.2.0)\n",
      "Collecting jupyterlab-widgets>=1.0.0\n",
      "  Downloading jupyterlab_widgets-1.0.0-py3-none-any.whl (243 kB)\n",
      "\u001b[K     |████████████████████████████████| 243 kB 23.8 MB/s eta 0:00:01\n",
      "\u001b[?25hCollecting widgetsnbextension~=3.5.0\n",
      "  Downloading widgetsnbextension-3.5.1-py2.py3-none-any.whl (2.2 MB)\n",
      "\u001b[K     |████████████████████████████████| 2.2 MB 29.0 MB/s eta 0:00:01\n",
      "\u001b[?25hRequirement already satisfied: nbformat>=4.2.0 in /opt/conda/lib/python3.9/site-packages (from ipywidgets->Kqlmagic) (5.1.3)\n",
      "Requirement already satisfied: jsonschema!=2.5.0,>=2.4 in /opt/conda/lib/python3.9/site-packages (from nbformat>=4.2.0->ipywidgets->Kqlmagic) (3.2.0)\n",
      "Requirement already satisfied: pyrsistent>=0.14.0 in /opt/conda/lib/python3.9/site-packages (from jsonschema!=2.5.0,>=2.4->nbformat>=4.2.0->ipywidgets->Kqlmagic) (0.17.3)\n",
      "Requirement already satisfied: attrs>=17.4.0 in /opt/conda/lib/python3.9/site-packages (from jsonschema!=2.5.0,>=2.4->nbformat>=4.2.0->ipywidgets->Kqlmagic) (21.2.0)\n",
      "Requirement already satisfied: notebook>=4.4.1 in /opt/conda/lib/python3.9/site-packages (from widgetsnbextension~=3.5.0->ipywidgets->Kqlmagic) (6.4.0)\n",
      "Requirement already satisfied: terminado>=0.8.3 in /opt/conda/lib/python3.9/site-packages (from notebook>=4.4.1->widgetsnbextension~=3.5.0->ipywidgets->Kqlmagic) (0.10.1)\n",
      "Requirement already satisfied: nbconvert in /opt/conda/lib/python3.9/site-packages (from notebook>=4.4.1->widgetsnbextension~=3.5.0->ipywidgets->Kqlmagic) (6.1.0)\n",
      "Requirement already satisfied: Send2Trash>=1.5.0 in /opt/conda/lib/python3.9/site-packages (from notebook>=4.4.1->widgetsnbextension~=3.5.0->ipywidgets->Kqlmagic) (1.7.1)\n",
      "Requirement already satisfied: argon2-cffi in /opt/conda/lib/python3.9/site-packages (from notebook>=4.4.1->widgetsnbextension~=3.5.0->ipywidgets->Kqlmagic) (20.1.0)\n",
      "Requirement already satisfied: prometheus-client in /opt/conda/lib/python3.9/site-packages (from notebook>=4.4.1->widgetsnbextension~=3.5.0->ipywidgets->Kqlmagic) (0.11.0)\n",
      "Requirement already satisfied: jupyterlab-pygments in /opt/conda/lib/python3.9/site-packages (from nbconvert->notebook>=4.4.1->widgetsnbextension~=3.5.0->ipywidgets->Kqlmagic) (0.1.2)\n",
      "Requirement already satisfied: entrypoints>=0.2.2 in /opt/conda/lib/python3.9/site-packages (from nbconvert->notebook>=4.4.1->widgetsnbextension~=3.5.0->ipywidgets->Kqlmagic) (0.3)\n",
      "Requirement already satisfied: bleach in /opt/conda/lib/python3.9/site-packages (from nbconvert->notebook>=4.4.1->widgetsnbextension~=3.5.0->ipywidgets->Kqlmagic) (3.3.1)\n",
      "Requirement already satisfied: defusedxml in /opt/conda/lib/python3.9/site-packages (from nbconvert->notebook>=4.4.1->widgetsnbextension~=3.5.0->ipywidgets->Kqlmagic) (0.7.1)\n",
      "Requirement already satisfied: nbclient<0.6.0,>=0.5.0 in /opt/conda/lib/python3.9/site-packages (from nbconvert->notebook>=4.4.1->widgetsnbextension~=3.5.0->ipywidgets->Kqlmagic) (0.5.3)\n",
      "Requirement already satisfied: pandocfilters>=1.4.1 in /opt/conda/lib/python3.9/site-packages (from nbconvert->notebook>=4.4.1->widgetsnbextension~=3.5.0->ipywidgets->Kqlmagic) (1.4.2)\n",
      "Requirement already satisfied: testpath in /opt/conda/lib/python3.9/site-packages (from nbconvert->notebook>=4.4.1->widgetsnbextension~=3.5.0->ipywidgets->Kqlmagic) (0.5.0)\n",
      "Requirement already satisfied: mistune<2,>=0.8.1 in /opt/conda/lib/python3.9/site-packages (from nbconvert->notebook>=4.4.1->widgetsnbextension~=3.5.0->ipywidgets->Kqlmagic) (0.8.4)\n",
      "Requirement already satisfied: async-generator in /opt/conda/lib/python3.9/site-packages (from nbclient<0.6.0,>=0.5.0->nbconvert->notebook>=4.4.1->widgetsnbextension~=3.5.0->ipywidgets->Kqlmagic) (1.10)\n",
      "Requirement already satisfied: nest-asyncio in /opt/conda/lib/python3.9/site-packages (from nbclient<0.6.0,>=0.5.0->nbconvert->notebook>=4.4.1->widgetsnbextension~=3.5.0->ipywidgets->Kqlmagic) (1.5.1)\n",
      "Requirement already satisfied: webencodings in /opt/conda/lib/python3.9/site-packages (from bleach->nbconvert->notebook>=4.4.1->widgetsnbextension~=3.5.0->ipywidgets->Kqlmagic) (0.5.1)\n",
      "Requirement already satisfied: packaging in /opt/conda/lib/python3.9/site-packages (from bleach->nbconvert->notebook>=4.4.1->widgetsnbextension~=3.5.0->ipywidgets->Kqlmagic) (21.0)\n",
      "Building wheels for collected packages: pyperclip\n",
      "  Building wheel for pyperclip (setup.py) ... \u001b[?25ldone\n",
      "\u001b[?25h  Created wheel for pyperclip: filename=pyperclip-1.8.2-py3-none-any.whl size=11107 sha256=abe299b08034b6d888a2edf1ad58ed845262b37064949589fdd4870047e59488\n",
      "  Stored in directory: /tmp/pip-ephem-wheel-cache-2ez4byi6/wheels/0c/09/9e/49e21a6840ef7955b06d47394afef0058f0378c0914e48b8b8\n",
      "Successfully built pyperclip\n",
      "Installing collected packages: requests-oauthlib, portalocker, msal, isodate, widgetsnbextension, Werkzeug, tenacity, soupsieve, pillow, numpy, msrest, msal-extensions, kiwisolver, jupyterlab-widgets, itsdangerous, cycler, click, azure-core, adal, pyperclip, psutil, prettytable, plotly, password-strength, pandas, msrestazure, matplotlib, Markdown, lxml, ipywidgets, flask, beautifulsoup4, azure-identity, azure-common, Kqlmagic\n",
      "Successfully installed Kqlmagic-0.1.114.post2 Markdown-3.3.4 Werkzeug-2.0.1 adal-1.2.7 azure-common-1.1.27 azure-core-1.16.0 azure-identity-1.6.0 beautifulsoup4-4.9.3 click-8.0.1 cycler-0.10.0 flask-2.0.1 ipywidgets-7.6.3 isodate-0.6.0 itsdangerous-2.0.1 jupyterlab-widgets-1.0.0 kiwisolver-1.3.1 lxml-4.6.3 matplotlib-3.4.2 msal-1.13.0 msal-extensions-0.3.0 msrest-0.6.21 msrestazure-0.6.4 numpy-1.21.1 pandas-1.3.1 password-strength-0.0.3.post2 pillow-8.3.1 plotly-5.1.0 portalocker-1.7.1 prettytable-2.1.0 psutil-5.8.0 pyperclip-1.8.2 requests-oauthlib-1.3.0 soupsieve-2.2.1 tenacity-8.0.1 widgetsnbextension-3.5.1\n",
      "Requirement already satisfied: nbformat in /opt/conda/lib/python3.9/site-packages (5.1.3)\n",
      "Requirement already satisfied: ipython-genutils in /opt/conda/lib/python3.9/site-packages (from nbformat) (0.2.0)\n",
      "Requirement already satisfied: jsonschema!=2.5.0,>=2.4 in /opt/conda/lib/python3.9/site-packages (from nbformat) (3.2.0)\n",
      "Requirement already satisfied: jupyter-core in /opt/conda/lib/python3.9/site-packages (from nbformat) (4.7.1)\n",
      "Requirement already satisfied: traitlets>=4.1 in /opt/conda/lib/python3.9/site-packages (from nbformat) (5.0.5)\n",
      "Requirement already satisfied: attrs>=17.4.0 in /opt/conda/lib/python3.9/site-packages (from jsonschema!=2.5.0,>=2.4->nbformat) (21.2.0)\n",
      "Requirement already satisfied: pyrsistent>=0.14.0 in /opt/conda/lib/python3.9/site-packages (from jsonschema!=2.5.0,>=2.4->nbformat) (0.17.3)\n",
      "Requirement already satisfied: setuptools in /opt/conda/lib/python3.9/site-packages (from jsonschema!=2.5.0,>=2.4->nbformat) (49.6.0.post20210108)\n",
      "Requirement already satisfied: six>=1.11.0 in /opt/conda/lib/python3.9/site-packages (from jsonschema!=2.5.0,>=2.4->nbformat) (1.16.0)\n"
     ]
    }
   ],
   "source": [
    "!pip3 install --upgrade pip\n",
    "!pip3 install Kqlmagic --no-cache-dir --upgrade\n",
    "!pip3 install nbformat"
   ]
  },
  {
   "cell_type": "code",
   "execution_count": null,
   "metadata": {},
   "outputs": [],
   "source": [
    "import pandas as pd\n",
    "pd.options.plotting.backend = \"plotly\"\n",
    "import plotly.express as px"
   ]
  },
  {
   "cell_type": "markdown",
   "metadata": {},
   "source": [
    "Add Kqlmagic to notebook magics"
   ]
  },
  {
   "cell_type": "code",
   "execution_count": 3,
   "metadata": {
    "tags": []
   },
   "outputs": [
    {
     "name": "stderr",
     "output_type": "stream",
     "text": [
      "Runtime dependency of PyGObject is missing.\n",
      "Depends on your Linux distro, you could install it system-wide by something like:\n",
      "    sudo apt install python3-gi python3-gi-cairo gir1.2-secret-1\n",
      "If necessary, please refer to PyGObject's doc:\n",
      "https://pygobject.readthedocs.io/en/latest/getting_started.html\n",
      "Traceback (most recent call last):\n",
      "  File \"/opt/conda/lib/python3.9/site-packages/msal_extensions/libsecret.py\", line 21, in <module>\n",
      "    import gi  # https://github.com/AzureAD/microsoft-authentication-extensions-for-python/wiki/Encryption-on-Linux\n",
      "ModuleNotFoundError: No module named 'gi'\n"
     ]
    },
    {
     "data": {
      "application/javascript": [
       "try {IPython.notebook.kernel.reconnect();} catch(err) {;}"
      ],
      "text/plain": [
       "<IPython.core.display.Javascript object>"
      ]
     },
     "metadata": {},
     "output_type": "display_data"
    },
    {
     "data": {
      "application/javascript": [
       "try {IPython.notebook.kernel.execute(\"NOTEBOOK_URL = '\" + window.location + \"'\");} catch(err) {;}"
      ],
      "text/plain": [
       "<IPython.core.display.Javascript object>"
      ]
     },
     "metadata": {},
     "output_type": "display_data"
    },
    {
     "data": {
      "text/html": [
       "<html>\n",
       "            <head>\n",
       "            <title>Kqlmagic - banner</title>\n",
       "            <style>\n",
       "            .kql-magic-banner {\n",
       "                display: flex; \n",
       "                background-color: #d9edf7;\n",
       "            }\n",
       "            .kql-magic-banner > div {\n",
       "                margin: 10px; \n",
       "                padding: 20px; \n",
       "                color: #3a87ad; \n",
       "                font-size: 13px;\n",
       "            }\n",
       "            </style>\n",
       "            </head>\n",
       "            <body>\n",
       "                <div class='kql-magic-banner'>\n",
       "                    <div><img src='data:image/png;base64,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'></div>\n",
       "                    <div>\n",
       "                        <p>Kql Query Language, aka kql, is the query language for advanced analytics on Azure Monitor resources. The current supported data sources are \n",
       "                        Azure Data Explorer (Kusto), Log Analytics and Application Insights. To get more information execute '%kql --help \"kql\"'</p>\n",
       "                        <p>   \n",
       "                          &bull; \n",
       "                kql reference: Click on 'Help' tab > and Select 'kql reference' or execute '%kql --help \"kql\"'<br>\n",
       "                          &bull; \n",
       "                Kqlmagic configuration: execute '%config Kqlmagic'<br>\n",
       "                          &bull; \n",
       "                Kqlmagic usage: execute '%kql --usage'<br>\n",
       "                          &bull; \n",
       "                To report bug/issue: execute '%kql --bug-report'<br>                \n",
       "                        </p> \n",
       "                    </div>\n",
       "                </div>\n",
       "            </body>\n",
       "            </html>"
      ],
      "text/plain": [
       "<IPython.core.display.HTML object>"
      ]
     },
     "metadata": {},
     "output_type": "display_data"
    },
    {
     "data": {
      "text/html": [
       "<html>\n",
       "        <head>\n",
       "            \n",
       "            \n",
       "        </head>\n",
       "        <body>\n",
       "            <div><p style=' padding: 10px; color: #3a87ad; background-color: #d9edf7; border-color: #bce9f1'>Kqlmagic&nbsp;package&nbsp;is&nbsp;updated&nbsp;frequently.&nbsp;Run&nbsp;&apos;!pip&nbsp;install&nbsp;Kqlmagic&nbsp;--no-cache-dir&nbsp;--upgrade&apos;&nbsp;to&nbsp;use&nbsp;the&nbsp;latest&nbsp;version.<br>Kqlmagic&nbsp;version:&nbsp;0.1.114.post2,&nbsp;source:&nbsp;https://github.com/Microsoft/jupyter-Kqlmagic</p></div>\n",
       "        </body>\n",
       "        </html>"
      ],
      "text/plain": [
       "<IPython.core.display.HTML object>"
      ]
     },
     "metadata": {},
     "output_type": "display_data"
    },
    {
     "data": {
      "text/html": [
       "<!DOCTYPE html>\n",
       "            <html><body>\n",
       "            <div style='padding: 10px; color: #3a87ad; background-color: #d9edf7; border-color: #bce9f1'>\n",
       "            Click to find out what's new in Kqlmagic \n",
       "            <button onclick=\"this.style.visibility='visible';\n",
       "            kql_MagicLaunchWindowFunction('kqlmagic/temp_files/2b72ed32-58c6-4563-9faa-e6b4d71aee2f/what_new_history.html', 'fullscreen=no,directories=no,location=no,menubar=no,resizable=yes,scrollbars=yes,status=no,titlebar=no,toolbar=no,', 'what_new_history', '');\n",
       "            kql_MagicCloseWindow(kql_Magic_what_new_history, -1, -1);\">\n",
       "            What's New? </button>\n",
       "            </div>\n",
       "\n",
       "            <script>\n",
       "            var kql_Magic_what_new_history = null;\n",
       "\n",
       "\n",
       "            function kql_MagicCloseWindow(window_obj, obj_secs, itself_secs) {\n",
       "                if (obj_secs >= 0) {\n",
       "                    _timeout = setTimeout(function(){\n",
       "                        window_obj.close();\n",
       "                        if (itself_secs >= 0) {\n",
       "                            __timeout = setTimeout(function(){window.close();}, itself_secs * 1000);\n",
       "                        }\n",
       "                    }, obj_secs * 1000);\n",
       "                } else if (itself_secs >= 0) {\n",
       "                    _timeout = setTimeout(function(){window.close();}, itself_secs * 1000);\n",
       "                }\n",
       "            }\n",
       "\n",
       "            function kql_MagicLaunchWindowFunction(file_path_or_data, window_params, window_name, host_or_text) {\n",
       "                var url;\n",
       "                const baseURI = String(window.location);\n",
       "                if (host_or_text == 'text' || host_or_text == 'body') {\n",
       "                    url = ''\n",
       "                } else if (file_path_or_data.startsWith('http')) {\n",
       "                    url = file_path_or_data;\n",
       "                } else if (host_or_text.endsWith('.azureml.ms') || host_or_text.endsWith('.azureml.net')) {\n",
       "                    let azuremlBaseURI = String(window.document.baseURI);\n",
       "                    let start = azuremlBaseURI.search('activeFilePath=');\n",
       "                    if (start > 0) {\n",
       "                        start += 'activeFilePath='.length;\n",
       "                        let end = azuremlBaseURI.substring(start).search('&');\n",
       "                        if (end < 0) {\n",
       "                            end = undefined;\n",
       "                        }\n",
       "                        let parts = azuremlBaseURI.substring(start, end).split('/');\n",
       "                        parts.pop();\n",
       "                        url = host_or_text + '/tree/' + parts.join('/') + '/' + file_path_or_data;\n",
       "                    } else {\n",
       "                        var parts = baseURI.split('/');\n",
       "                        parts.pop();\n",
       "                        url = parts.join('/') + '/' + file_path_or_data;\n",
       "                    }\n",
       "                } else {\n",
       "                    var base_url = '';\n",
       "\n",
       "                    // check if azure notebook\n",
       "                    var azure_host = (host_or_text == null || host_or_text.length == 0) ? 'https://notebooks.azure.com' : host_or_text;\n",
       "                    var start = azure_host.search('//');\n",
       "                    var azure_host_suffix = '.' + azure_host.substring(start+2);\n",
       "\n",
       "                    var end = baseURI.search(azure_host_suffix);\n",
       "                    start = baseURI.search('//');\n",
       "                    if (start > 0 && end > 0) {\n",
       "                        // # azure notebook environment, assume template: https://library-user.notebooks.azure.com\n",
       "                        var parts = baseURI.substring(start+2, end).split('-');\n",
       "                        if (parts.length == 2) {\n",
       "                            var library = parts[0];\n",
       "                            var user = parts[1];\n",
       "                            base_url = azure_host + '/api/user/' +user+ '/library/' +library+ '/html/';\n",
       "                        }\n",
       "                    }\n",
       "\n",
       "                    // check if local jupyter lab\n",
       "                    if (base_url.length == 0) {\n",
       "                        var configDataScipt  = document.getElementById('jupyter-config-data');\n",
       "                        if (configDataScipt != null) {\n",
       "                            var jupyterConfigData = JSON.parse(configDataScipt.textContent);\n",
       "                            if (jupyterConfigData['appName'] == 'JupyterLab' && jupyterConfigData['serverRoot'] != null &&  jupyterConfigData['treeUrl'] != null) {\n",
       "                                var basePath = '/home/jovyan/work' + '/';\n",
       "                                if (basePath.startsWith(jupyterConfigData['serverRoot'])) {\n",
       "                                    base_url = '/files/' + basePath.substring(jupyterConfigData['serverRoot'].length+1);\n",
       "                                }\n",
       "                            }\n",
       "                        }\n",
       "                    }\n",
       "\n",
       "                    // works for local jupyter notebook\n",
       "                    if (base_url.length == 0) {\n",
       "\n",
       "                        var parts = baseURI.split('/');\n",
       "                        parts.pop(); // remove notebook name segment\n",
       "                        base_url = parts.join('/') + '/';\n",
       "                    }\n",
       "                    url = base_url + file_path_or_data;\n",
       "                }\n",
       "\n",
       "                window.focus();\n",
       "                var w = screen.width / 2;\n",
       "                var h = screen.height / 2;\n",
       "                params = 'width='+w+',height='+h;\n",
       "                // kql_Magic + window_name should be a global variable \n",
       "                window_obj = window.open(url, window_name, window_params + params);\n",
       "                if (url == '') {\n",
       "                    let decodedData = atob(file_path_or_data);\n",
       "                    if (host_or_text == 'text') {\n",
       "                        var el = window_obj.document.createElement('p');\n",
       "                        window_obj.document.body.overflow = 'auto';\n",
       "                        el.style.top = 0;\n",
       "                        el.style.left = 0;\n",
       "                        el.innerHTML = decodedData;\n",
       "                        window_obj.document.body.appendChild(el);\n",
       "                    } else {\n",
       "                        window_obj.document.body.innerHTML = decodedData;\n",
       "                    }\n",
       "                }\n",
       "                kql_Magic_what_new_history = window_obj;\n",
       "            }\n",
       "            </script>\n",
       "\n",
       "            </body></html>"
      ],
      "text/plain": [
       "<IPython.core.display.HTML object>"
      ]
     },
     "metadata": {},
     "output_type": "display_data"
    }
   ],
   "source": [
    "%reload_ext Kqlmagic"
   ]
  },
  {
   "cell_type": "markdown",
   "metadata": {},
   "source": []
  },
  {
   "cell_type": "code",
   "execution_count": 4,
   "metadata": {},
   "outputs": [
    {
     "data": {
      "application/javascript": [
       "try {IPython.notebook.kernel.execute(\"NOTEBOOK_URL = '\" + window.location + \"'\");} catch(err) {;}"
      ],
      "text/plain": [
       "<IPython.core.display.Javascript object>"
      ]
     },
     "metadata": {},
     "output_type": "display_data"
    },
    {
     "data": {
      "text/html": [
       "<!DOCTYPE html>\n",
       "                            <html><body>\n",
       "\n",
       "                            <!-- h1 id=\"user_code_p\"><b>CMWEZBAUW</b><br></h1-->\n",
       "\n",
       "                            <input  id=\"kql_MagicCodeAuthInput\" type=\"text\" readonly style=\"font-weight: bold; border: none;\" size='9' value='CMWEZBAUW'>\n",
       "\n",
       "                            <button id='kql_MagicCodeAuth_button', onclick=\"this.style.visibility='hidden';kql_MagicCodeAuthFunction()\">Copy code to clipboard and authenticate</button>\n",
       "\n",
       "                            <script>\n",
       "                            var kql_MagicUserCodeAuthWindow = null;\n",
       "                            function kql_MagicCodeAuthFunction() {\n",
       "                                /* Get the text field */\n",
       "                                var copyText = document.getElementById(\"kql_MagicCodeAuthInput\");\n",
       "\n",
       "                                /* Select the text field */\n",
       "                                copyText.select();\n",
       "\n",
       "                                /* Copy the text inside the text field */\n",
       "                                document.execCommand(\"copy\");\n",
       "\n",
       "                                /* Alert the copied text */\n",
       "                                // alert(\"Copied the text: \" + copyText.value);\n",
       "\n",
       "                                var w = screen.width / 2;\n",
       "                                var h = screen.height / 2;\n",
       "                                params = 'width='+w+',height='+h\n",
       "                                kql_MagicUserCodeAuthWindow = window.open('https://microsoft.com/devicelogin', 'kql_MagicUserCodeAuthWindow', params);\n",
       "\n",
       "                                // TODO: save selected cell index, so that the clear will be done on the lince cell\n",
       "                            }\n",
       "                            </script>\n",
       "\n",
       "                            </body></html>"
      ],
      "text/plain": [
       "<IPython.core.display.HTML object>"
      ]
     },
     "metadata": {},
     "output_type": "display_data"
    },
    {
     "data": {
      "text/html": [
       "<!DOCTYPE html>\n",
       "                            <html><body><script>\n",
       "\n",
       "                                // close authentication window\n",
       "                                if (kql_MagicUserCodeAuthWindow && kql_MagicUserCodeAuthWindow.opener != null && !kql_MagicUserCodeAuthWindow.closed) {\n",
       "                                    kql_MagicUserCodeAuthWindow.close()\n",
       "                                }\n",
       "                                // TODO: make sure, you clear the right cell. BTW, not sure it is a must to do any clearing\n",
       "\n",
       "                                // clear output cell\n",
       "                                Jupyter.notebook.clear_output(Jupyter.notebook.get_selected_index())\n",
       "\n",
       "                                // TODO: if in run all mode, move to last cell, otherwise move to next cell\n",
       "                                // move to next cell\n",
       "\n",
       "                            </script></body></html>"
      ],
      "text/plain": [
       "<IPython.core.display.HTML object>"
      ]
     },
     "metadata": {},
     "output_type": "display_data"
    },
    {
     "ename": "KeyboardInterrupt",
     "evalue": "",
     "output_type": "error",
     "traceback": [
      "\u001b[0;31m---------------------------------------------------------------------------\u001b[0m",
      "\u001b[0;31mKeyboardInterrupt\u001b[0m                         Traceback (most recent call last)",
      "\u001b[0;32m/tmp/ipykernel_46/3056386271.py\u001b[0m in \u001b[0;36m<module>\u001b[0;34m\u001b[0m\n\u001b[0;32m----> 1\u001b[0;31m \u001b[0mget_ipython\u001b[0m\u001b[0;34m(\u001b[0m\u001b[0;34m)\u001b[0m\u001b[0;34m.\u001b[0m\u001b[0mrun_line_magic\u001b[0m\u001b[0;34m(\u001b[0m\u001b[0;34m'kql'\u001b[0m\u001b[0;34m,\u001b[0m \u001b[0;34m\"loganalytics://code;workspace='1054c1b0-f063-40a7-823e-91dac02fbabc';alias='arturol76-edge-benchmark'\"\u001b[0m\u001b[0;34m)\u001b[0m\u001b[0;34m\u001b[0m\u001b[0;34m\u001b[0m\u001b[0m\n\u001b[0m",
      "\u001b[0;32m/opt/conda/lib/python3.9/site-packages/IPython/core/interactiveshell.py\u001b[0m in \u001b[0;36mrun_line_magic\u001b[0;34m(self, magic_name, line, _stack_depth)\u001b[0m\n\u001b[1;32m   2346\u001b[0m                 \u001b[0mkwargs\u001b[0m\u001b[0;34m[\u001b[0m\u001b[0;34m'local_ns'\u001b[0m\u001b[0;34m]\u001b[0m \u001b[0;34m=\u001b[0m \u001b[0mself\u001b[0m\u001b[0;34m.\u001b[0m\u001b[0mget_local_scope\u001b[0m\u001b[0;34m(\u001b[0m\u001b[0mstack_depth\u001b[0m\u001b[0;34m)\u001b[0m\u001b[0;34m\u001b[0m\u001b[0;34m\u001b[0m\u001b[0m\n\u001b[1;32m   2347\u001b[0m             \u001b[0;32mwith\u001b[0m \u001b[0mself\u001b[0m\u001b[0;34m.\u001b[0m\u001b[0mbuiltin_trap\u001b[0m\u001b[0;34m:\u001b[0m\u001b[0;34m\u001b[0m\u001b[0;34m\u001b[0m\u001b[0m\n\u001b[0;32m-> 2348\u001b[0;31m                 \u001b[0mresult\u001b[0m \u001b[0;34m=\u001b[0m \u001b[0mfn\u001b[0m\u001b[0;34m(\u001b[0m\u001b[0;34m*\u001b[0m\u001b[0margs\u001b[0m\u001b[0;34m,\u001b[0m \u001b[0;34m**\u001b[0m\u001b[0mkwargs\u001b[0m\u001b[0;34m)\u001b[0m\u001b[0;34m\u001b[0m\u001b[0;34m\u001b[0m\u001b[0m\n\u001b[0m\u001b[1;32m   2349\u001b[0m             \u001b[0;32mreturn\u001b[0m \u001b[0mresult\u001b[0m\u001b[0;34m\u001b[0m\u001b[0;34m\u001b[0m\u001b[0m\n\u001b[1;32m   2350\u001b[0m \u001b[0;34m\u001b[0m\u001b[0m\n",
      "\u001b[0;32m/opt/conda/lib/python3.9/site-packages/decorator.py\u001b[0m in \u001b[0;36mfun\u001b[0;34m(*args, **kw)\u001b[0m\n\u001b[1;32m    230\u001b[0m             \u001b[0;32mif\u001b[0m \u001b[0;32mnot\u001b[0m \u001b[0mkwsyntax\u001b[0m\u001b[0;34m:\u001b[0m\u001b[0;34m\u001b[0m\u001b[0;34m\u001b[0m\u001b[0m\n\u001b[1;32m    231\u001b[0m                 \u001b[0margs\u001b[0m\u001b[0;34m,\u001b[0m \u001b[0mkw\u001b[0m \u001b[0;34m=\u001b[0m \u001b[0mfix\u001b[0m\u001b[0;34m(\u001b[0m\u001b[0margs\u001b[0m\u001b[0;34m,\u001b[0m \u001b[0mkw\u001b[0m\u001b[0;34m,\u001b[0m \u001b[0msig\u001b[0m\u001b[0;34m)\u001b[0m\u001b[0;34m\u001b[0m\u001b[0;34m\u001b[0m\u001b[0m\n\u001b[0;32m--> 232\u001b[0;31m             \u001b[0;32mreturn\u001b[0m \u001b[0mcaller\u001b[0m\u001b[0;34m(\u001b[0m\u001b[0mfunc\u001b[0m\u001b[0;34m,\u001b[0m \u001b[0;34m*\u001b[0m\u001b[0;34m(\u001b[0m\u001b[0mextras\u001b[0m \u001b[0;34m+\u001b[0m \u001b[0margs\u001b[0m\u001b[0;34m)\u001b[0m\u001b[0;34m,\u001b[0m \u001b[0;34m**\u001b[0m\u001b[0mkw\u001b[0m\u001b[0;34m)\u001b[0m\u001b[0;34m\u001b[0m\u001b[0;34m\u001b[0m\u001b[0m\n\u001b[0m\u001b[1;32m    233\u001b[0m     \u001b[0mfun\u001b[0m\u001b[0;34m.\u001b[0m\u001b[0m__name__\u001b[0m \u001b[0;34m=\u001b[0m \u001b[0mfunc\u001b[0m\u001b[0;34m.\u001b[0m\u001b[0m__name__\u001b[0m\u001b[0;34m\u001b[0m\u001b[0;34m\u001b[0m\u001b[0m\n\u001b[1;32m    234\u001b[0m     \u001b[0mfun\u001b[0m\u001b[0;34m.\u001b[0m\u001b[0m__doc__\u001b[0m \u001b[0;34m=\u001b[0m \u001b[0mfunc\u001b[0m\u001b[0;34m.\u001b[0m\u001b[0m__doc__\u001b[0m\u001b[0;34m\u001b[0m\u001b[0;34m\u001b[0m\u001b[0m\n",
      "\u001b[0;32m/opt/conda/lib/python3.9/site-packages/IPython/core/magic.py\u001b[0m in \u001b[0;36m<lambda>\u001b[0;34m(f, *a, **k)\u001b[0m\n\u001b[1;32m    185\u001b[0m     \u001b[0;31m# but it's overkill for just that one bit of state.\u001b[0m\u001b[0;34m\u001b[0m\u001b[0;34m\u001b[0m\u001b[0;34m\u001b[0m\u001b[0m\n\u001b[1;32m    186\u001b[0m     \u001b[0;32mdef\u001b[0m \u001b[0mmagic_deco\u001b[0m\u001b[0;34m(\u001b[0m\u001b[0marg\u001b[0m\u001b[0;34m)\u001b[0m\u001b[0;34m:\u001b[0m\u001b[0;34m\u001b[0m\u001b[0;34m\u001b[0m\u001b[0m\n\u001b[0;32m--> 187\u001b[0;31m         \u001b[0mcall\u001b[0m \u001b[0;34m=\u001b[0m \u001b[0;32mlambda\u001b[0m \u001b[0mf\u001b[0m\u001b[0;34m,\u001b[0m \u001b[0;34m*\u001b[0m\u001b[0ma\u001b[0m\u001b[0;34m,\u001b[0m \u001b[0;34m**\u001b[0m\u001b[0mk\u001b[0m\u001b[0;34m:\u001b[0m \u001b[0mf\u001b[0m\u001b[0;34m(\u001b[0m\u001b[0;34m*\u001b[0m\u001b[0ma\u001b[0m\u001b[0;34m,\u001b[0m \u001b[0;34m**\u001b[0m\u001b[0mk\u001b[0m\u001b[0;34m)\u001b[0m\u001b[0;34m\u001b[0m\u001b[0;34m\u001b[0m\u001b[0m\n\u001b[0m\u001b[1;32m    188\u001b[0m \u001b[0;34m\u001b[0m\u001b[0m\n\u001b[1;32m    189\u001b[0m         \u001b[0;32mif\u001b[0m \u001b[0mcallable\u001b[0m\u001b[0;34m(\u001b[0m\u001b[0marg\u001b[0m\u001b[0;34m)\u001b[0m\u001b[0;34m:\u001b[0m\u001b[0;34m\u001b[0m\u001b[0;34m\u001b[0m\u001b[0m\n",
      "\u001b[0;32m/opt/conda/lib/python3.9/site-packages/decorator.py\u001b[0m in \u001b[0;36mfun\u001b[0;34m(*args, **kw)\u001b[0m\n\u001b[1;32m    230\u001b[0m             \u001b[0;32mif\u001b[0m \u001b[0;32mnot\u001b[0m \u001b[0mkwsyntax\u001b[0m\u001b[0;34m:\u001b[0m\u001b[0;34m\u001b[0m\u001b[0;34m\u001b[0m\u001b[0m\n\u001b[1;32m    231\u001b[0m                 \u001b[0margs\u001b[0m\u001b[0;34m,\u001b[0m \u001b[0mkw\u001b[0m \u001b[0;34m=\u001b[0m \u001b[0mfix\u001b[0m\u001b[0;34m(\u001b[0m\u001b[0margs\u001b[0m\u001b[0;34m,\u001b[0m \u001b[0mkw\u001b[0m\u001b[0;34m,\u001b[0m \u001b[0msig\u001b[0m\u001b[0;34m)\u001b[0m\u001b[0;34m\u001b[0m\u001b[0;34m\u001b[0m\u001b[0m\n\u001b[0;32m--> 232\u001b[0;31m             \u001b[0;32mreturn\u001b[0m \u001b[0mcaller\u001b[0m\u001b[0;34m(\u001b[0m\u001b[0mfunc\u001b[0m\u001b[0;34m,\u001b[0m \u001b[0;34m*\u001b[0m\u001b[0;34m(\u001b[0m\u001b[0mextras\u001b[0m \u001b[0;34m+\u001b[0m \u001b[0margs\u001b[0m\u001b[0;34m)\u001b[0m\u001b[0;34m,\u001b[0m \u001b[0;34m**\u001b[0m\u001b[0mkw\u001b[0m\u001b[0;34m)\u001b[0m\u001b[0;34m\u001b[0m\u001b[0;34m\u001b[0m\u001b[0m\n\u001b[0m\u001b[1;32m    233\u001b[0m     \u001b[0mfun\u001b[0m\u001b[0;34m.\u001b[0m\u001b[0m__name__\u001b[0m \u001b[0;34m=\u001b[0m \u001b[0mfunc\u001b[0m\u001b[0;34m.\u001b[0m\u001b[0m__name__\u001b[0m\u001b[0;34m\u001b[0m\u001b[0;34m\u001b[0m\u001b[0m\n\u001b[1;32m    234\u001b[0m     \u001b[0mfun\u001b[0m\u001b[0;34m.\u001b[0m\u001b[0m__doc__\u001b[0m \u001b[0;34m=\u001b[0m \u001b[0mfunc\u001b[0m\u001b[0;34m.\u001b[0m\u001b[0m__doc__\u001b[0m\u001b[0;34m\u001b[0m\u001b[0;34m\u001b[0m\u001b[0m\n",
      "\u001b[0;32m/opt/conda/lib/python3.9/site-packages/IPython/core/magic.py\u001b[0m in \u001b[0;36m<lambda>\u001b[0;34m(f, *a, **k)\u001b[0m\n\u001b[1;32m    185\u001b[0m     \u001b[0;31m# but it's overkill for just that one bit of state.\u001b[0m\u001b[0;34m\u001b[0m\u001b[0;34m\u001b[0m\u001b[0;34m\u001b[0m\u001b[0m\n\u001b[1;32m    186\u001b[0m     \u001b[0;32mdef\u001b[0m \u001b[0mmagic_deco\u001b[0m\u001b[0;34m(\u001b[0m\u001b[0marg\u001b[0m\u001b[0;34m)\u001b[0m\u001b[0;34m:\u001b[0m\u001b[0;34m\u001b[0m\u001b[0;34m\u001b[0m\u001b[0m\n\u001b[0;32m--> 187\u001b[0;31m         \u001b[0mcall\u001b[0m \u001b[0;34m=\u001b[0m \u001b[0;32mlambda\u001b[0m \u001b[0mf\u001b[0m\u001b[0;34m,\u001b[0m \u001b[0;34m*\u001b[0m\u001b[0ma\u001b[0m\u001b[0;34m,\u001b[0m \u001b[0;34m**\u001b[0m\u001b[0mk\u001b[0m\u001b[0;34m:\u001b[0m \u001b[0mf\u001b[0m\u001b[0;34m(\u001b[0m\u001b[0;34m*\u001b[0m\u001b[0ma\u001b[0m\u001b[0;34m,\u001b[0m \u001b[0;34m**\u001b[0m\u001b[0mk\u001b[0m\u001b[0;34m)\u001b[0m\u001b[0;34m\u001b[0m\u001b[0;34m\u001b[0m\u001b[0m\n\u001b[0m\u001b[1;32m    188\u001b[0m \u001b[0;34m\u001b[0m\u001b[0m\n\u001b[1;32m    189\u001b[0m         \u001b[0;32mif\u001b[0m \u001b[0mcallable\u001b[0m\u001b[0;34m(\u001b[0m\u001b[0marg\u001b[0m\u001b[0;34m)\u001b[0m\u001b[0;34m:\u001b[0m\u001b[0;34m\u001b[0m\u001b[0;34m\u001b[0m\u001b[0m\n",
      "\u001b[0;32m/opt/conda/lib/python3.9/site-packages/Kqlmagic/kql_magic.py\u001b[0m in \u001b[0;36mexecute\u001b[0;34m(self, line, cell, local_ns, override_vars, override_options, override_query_properties, override_connection, override_result_set)\u001b[0m\n\u001b[1;32m    888\u001b[0m         \u001b[0;31m#\u001b[0m\u001b[0;34m\u001b[0m\u001b[0;34m\u001b[0m\u001b[0;34m\u001b[0m\u001b[0m\n\u001b[1;32m    889\u001b[0m \u001b[0;34m\u001b[0m\u001b[0m\n\u001b[0;32m--> 890\u001b[0;31m         result = kql_core_obj.execute(\n\u001b[0m\u001b[1;32m    891\u001b[0m             \u001b[0mline\u001b[0m\u001b[0;34m=\u001b[0m\u001b[0mline\u001b[0m\u001b[0;34m,\u001b[0m\u001b[0;34m\u001b[0m\u001b[0;34m\u001b[0m\u001b[0m\n\u001b[1;32m    892\u001b[0m             \u001b[0mcell\u001b[0m\u001b[0;34m=\u001b[0m\u001b[0mcell\u001b[0m\u001b[0;34m,\u001b[0m\u001b[0;34m\u001b[0m\u001b[0;34m\u001b[0m\u001b[0m\n",
      "\u001b[0;32m/opt/conda/lib/python3.9/site-packages/Kqlmagic/kql_magic_core.py\u001b[0m in \u001b[0;36mexecute\u001b[0;34m(self, line, cell, local_ns, override_vars, override_options, override_query_properties, override_connection, override_result_set)\u001b[0m\n\u001b[1;32m    838\u001b[0m \u001b[0;34m\u001b[0m\u001b[0m\n\u001b[1;32m    839\u001b[0m                 \u001b[0;32mif\u001b[0m \u001b[0mcommand\u001b[0m \u001b[0;32mis\u001b[0m \u001b[0;32mNone\u001b[0m \u001b[0;32mor\u001b[0m \u001b[0mcommand\u001b[0m \u001b[0;34m==\u001b[0m \u001b[0;34m\"submit\"\u001b[0m\u001b[0;34m:\u001b[0m\u001b[0;34m\u001b[0m\u001b[0;34m\u001b[0m\u001b[0m\n\u001b[0;32m--> 840\u001b[0;31m                     \u001b[0mresult\u001b[0m \u001b[0;34m=\u001b[0m \u001b[0mself\u001b[0m\u001b[0;34m.\u001b[0m\u001b[0m_execute_query\u001b[0m\u001b[0;34m(\u001b[0m\u001b[0mparsed\u001b[0m\u001b[0;34m,\u001b[0m \u001b[0muser_ns\u001b[0m\u001b[0;34m,\u001b[0m \u001b[0mresult_set\u001b[0m\u001b[0;34m=\u001b[0m\u001b[0moverride_result_set\u001b[0m\u001b[0;34m,\u001b[0m \u001b[0moverride_vars\u001b[0m\u001b[0;34m=\u001b[0m\u001b[0moverride_vars\u001b[0m\u001b[0;34m)\u001b[0m\u001b[0;34m\u001b[0m\u001b[0;34m\u001b[0m\u001b[0m\n\u001b[0m\u001b[1;32m    841\u001b[0m                     \u001b[0mself\u001b[0m\u001b[0;34m.\u001b[0m\u001b[0mlast_execution\u001b[0m\u001b[0;34m[\u001b[0m\u001b[0;34m\"query\"\u001b[0m\u001b[0;34m]\u001b[0m \u001b[0;34m=\u001b[0m \u001b[0mKqlClient\u001b[0m\u001b[0;34m.\u001b[0m\u001b[0mlast_query_info\u001b[0m\u001b[0;34m\u001b[0m\u001b[0;34m\u001b[0m\u001b[0m\n\u001b[1;32m    842\u001b[0m                     \u001b[0;32mif\u001b[0m \u001b[0mtype\u001b[0m\u001b[0;34m(\u001b[0m\u001b[0mresult\u001b[0m\u001b[0;34m)\u001b[0m \u001b[0;34m==\u001b[0m \u001b[0mResultSet\u001b[0m\u001b[0;34m:\u001b[0m\u001b[0;34m\u001b[0m\u001b[0;34m\u001b[0m\u001b[0m\n",
      "\u001b[0;32m/opt/conda/lib/python3.9/site-packages/Kqlmagic/kql_magic_core.py\u001b[0m in \u001b[0;36m_execute_query\u001b[0;34m(self, parsed, user_ns, result_set, override_vars)\u001b[0m\n\u001b[1;32m   1287\u001b[0m                 \u001b[0mretry_with_code\u001b[0m \u001b[0;34m=\u001b[0m \u001b[0;32mFalse\u001b[0m\u001b[0;34m\u001b[0m\u001b[0;34m\u001b[0m\u001b[0m\n\u001b[1;32m   1288\u001b[0m                 \u001b[0;32mtry\u001b[0m\u001b[0;34m:\u001b[0m\u001b[0;34m\u001b[0m\u001b[0;34m\u001b[0m\u001b[0m\n\u001b[0;32m-> 1289\u001b[0;31m                     \u001b[0mengine\u001b[0m\u001b[0;34m.\u001b[0m\u001b[0mvalidate\u001b[0m\u001b[0;34m(\u001b[0m\u001b[0;34m**\u001b[0m\u001b[0moptions\u001b[0m\u001b[0;34m)\u001b[0m\u001b[0;34m\u001b[0m\u001b[0;34m\u001b[0m\u001b[0m\n\u001b[0m\u001b[1;32m   1290\u001b[0m                 \u001b[0;32mexcept\u001b[0m \u001b[0mException\u001b[0m \u001b[0;32mas\u001b[0m \u001b[0me\u001b[0m\u001b[0;34m:\u001b[0m\u001b[0;34m\u001b[0m\u001b[0;34m\u001b[0m\u001b[0m\n\u001b[1;32m   1291\u001b[0m                     \u001b[0mmsg\u001b[0m \u001b[0;34m=\u001b[0m \u001b[0mstr\u001b[0m\u001b[0;34m(\u001b[0m\u001b[0me\u001b[0m\u001b[0;34m)\u001b[0m\u001b[0;34m\u001b[0m\u001b[0;34m\u001b[0m\u001b[0m\n",
      "\u001b[0;32m/opt/conda/lib/python3.9/site-packages/Kqlmagic/kql_engine.py\u001b[0m in \u001b[0;36mvalidate\u001b[0;34m(self, **options)\u001b[0m\n\u001b[1;32m    226\u001b[0m         \u001b[0;32mif\u001b[0m \u001b[0;32mnot\u001b[0m \u001b[0mself\u001b[0m\u001b[0;34m.\u001b[0m\u001b[0moptions\u001b[0m\u001b[0;34m.\u001b[0m\u001b[0mget\u001b[0m\u001b[0;34m(\u001b[0m\u001b[0;34m\"validate_connection_string_done\"\u001b[0m\u001b[0;34m)\u001b[0m \u001b[0;32mand\u001b[0m \u001b[0moptions\u001b[0m\u001b[0;34m.\u001b[0m\u001b[0mget\u001b[0m\u001b[0;34m(\u001b[0m\u001b[0;34m\"validate_connection_string\"\u001b[0m\u001b[0;34m)\u001b[0m\u001b[0;34m:\u001b[0m\u001b[0;34m\u001b[0m\u001b[0;34m\u001b[0m\u001b[0m\n\u001b[1;32m    227\u001b[0m             \u001b[0mquery\u001b[0m \u001b[0;34m=\u001b[0m \u001b[0;34m\"range c from 1 to 10 step 1 | count\"\u001b[0m\u001b[0;34m\u001b[0m\u001b[0;34m\u001b[0m\u001b[0m\n\u001b[0;32m--> 228\u001b[0;31m             \u001b[0mkql_response\u001b[0m \u001b[0;34m=\u001b[0m \u001b[0mself\u001b[0m\u001b[0;34m.\u001b[0m\u001b[0mexecute\u001b[0m\u001b[0;34m(\u001b[0m\u001b[0mquery\u001b[0m\u001b[0;34m,\u001b[0m \u001b[0;34m**\u001b[0m\u001b[0moptions\u001b[0m\u001b[0;34m)\u001b[0m\u001b[0;34m\u001b[0m\u001b[0;34m\u001b[0m\u001b[0m\n\u001b[0m\u001b[1;32m    229\u001b[0m             \u001b[0mtable\u001b[0m \u001b[0;34m=\u001b[0m \u001b[0mkql_response\u001b[0m\u001b[0;34m.\u001b[0m\u001b[0mtables\u001b[0m\u001b[0;34m[\u001b[0m\u001b[0;36m0\u001b[0m\u001b[0;34m]\u001b[0m\u001b[0;34m\u001b[0m\u001b[0;34m\u001b[0m\u001b[0m\n\u001b[1;32m    230\u001b[0m             \u001b[0;32mif\u001b[0m \u001b[0mtable\u001b[0m\u001b[0;34m.\u001b[0m\u001b[0mrowcount\u001b[0m\u001b[0;34m(\u001b[0m\u001b[0;34m)\u001b[0m \u001b[0;34m!=\u001b[0m \u001b[0;36m1\u001b[0m \u001b[0;32mor\u001b[0m \u001b[0mtable\u001b[0m\u001b[0;34m.\u001b[0m\u001b[0mcolcount\u001b[0m\u001b[0;34m(\u001b[0m\u001b[0;34m)\u001b[0m \u001b[0;34m!=\u001b[0m \u001b[0;36m1\u001b[0m \u001b[0;32mor\u001b[0m \u001b[0;34m[\u001b[0m\u001b[0mr\u001b[0m \u001b[0;32mfor\u001b[0m \u001b[0mr\u001b[0m \u001b[0;32min\u001b[0m \u001b[0mtable\u001b[0m\u001b[0;34m.\u001b[0m\u001b[0mfetchall\u001b[0m\u001b[0;34m(\u001b[0m\u001b[0;34m)\u001b[0m\u001b[0;34m]\u001b[0m\u001b[0;34m[\u001b[0m\u001b[0;36m0\u001b[0m\u001b[0;34m]\u001b[0m\u001b[0;34m[\u001b[0m\u001b[0;36m0\u001b[0m\u001b[0;34m]\u001b[0m \u001b[0;34m!=\u001b[0m \u001b[0;36m10\u001b[0m\u001b[0;34m:\u001b[0m\u001b[0;34m\u001b[0m\u001b[0;34m\u001b[0m\u001b[0m\n",
      "\u001b[0;32m/opt/conda/lib/python3.9/site-packages/Kqlmagic/kql_engine.py\u001b[0m in \u001b[0;36mexecute\u001b[0;34m(self, query, user_namespace, database, **options)\u001b[0m\n\u001b[1;32m    219\u001b[0m     \u001b[0;32mdef\u001b[0m \u001b[0mexecute\u001b[0m\u001b[0;34m(\u001b[0m\u001b[0mself\u001b[0m\u001b[0;34m,\u001b[0m \u001b[0mquery\u001b[0m\u001b[0;34m:\u001b[0m\u001b[0mstr\u001b[0m\u001b[0;34m,\u001b[0m \u001b[0muser_namespace\u001b[0m\u001b[0;34m:\u001b[0m\u001b[0mDict\u001b[0m\u001b[0;34m[\u001b[0m\u001b[0mstr\u001b[0m\u001b[0;34m,\u001b[0m\u001b[0mAny\u001b[0m\u001b[0;34m]\u001b[0m\u001b[0;34m=\u001b[0m\u001b[0;32mNone\u001b[0m\u001b[0;34m,\u001b[0m \u001b[0mdatabase\u001b[0m\u001b[0;34m:\u001b[0m\u001b[0mstr\u001b[0m\u001b[0;34m=\u001b[0m\u001b[0;32mNone\u001b[0m\u001b[0;34m,\u001b[0m \u001b[0;34m**\u001b[0m\u001b[0moptions\u001b[0m\u001b[0;34m)\u001b[0m\u001b[0;34m->\u001b[0m\u001b[0mKqlResponse\u001b[0m\u001b[0;34m:\u001b[0m\u001b[0;34m\u001b[0m\u001b[0;34m\u001b[0m\u001b[0m\n\u001b[1;32m    220\u001b[0m         \u001b[0;32mif\u001b[0m \u001b[0mquery\u001b[0m\u001b[0;34m.\u001b[0m\u001b[0mstrip\u001b[0m\u001b[0;34m(\u001b[0m\u001b[0;34m)\u001b[0m\u001b[0;34m:\u001b[0m\u001b[0;34m\u001b[0m\u001b[0;34m\u001b[0m\u001b[0m\n\u001b[0;32m--> 221\u001b[0;31m             \u001b[0mresponse\u001b[0m \u001b[0;34m=\u001b[0m \u001b[0mself\u001b[0m\u001b[0;34m.\u001b[0m\u001b[0mclient_execute\u001b[0m\u001b[0;34m(\u001b[0m\u001b[0mquery\u001b[0m\u001b[0;34m,\u001b[0m \u001b[0muser_namespace\u001b[0m\u001b[0;34m,\u001b[0m \u001b[0mdatabase\u001b[0m\u001b[0;34m,\u001b[0m \u001b[0;34m**\u001b[0m\u001b[0moptions\u001b[0m\u001b[0;34m)\u001b[0m\u001b[0;34m\u001b[0m\u001b[0;34m\u001b[0m\u001b[0m\n\u001b[0m\u001b[1;32m    222\u001b[0m             \u001b[0;32mreturn\u001b[0m \u001b[0mKqlResponse\u001b[0m\u001b[0;34m(\u001b[0m\u001b[0mresponse\u001b[0m\u001b[0;34m,\u001b[0m \u001b[0;34m**\u001b[0m\u001b[0moptions\u001b[0m\u001b[0;34m)\u001b[0m\u001b[0;34m\u001b[0m\u001b[0;34m\u001b[0m\u001b[0m\n\u001b[1;32m    223\u001b[0m \u001b[0;34m\u001b[0m\u001b[0m\n",
      "\u001b[0;32m/opt/conda/lib/python3.9/site-packages/Kqlmagic/kql_engine.py\u001b[0m in \u001b[0;36mclient_execute\u001b[0;34m(self, query, user_namespace, database, **options)\u001b[0m\n\u001b[1;32m    214\u001b[0m             \u001b[0;32mif\u001b[0m \u001b[0;32mnot\u001b[0m \u001b[0mclient\u001b[0m\u001b[0;34m:\u001b[0m\u001b[0;34m\u001b[0m\u001b[0;34m\u001b[0m\u001b[0m\n\u001b[1;32m    215\u001b[0m                 \u001b[0;32mraise\u001b[0m \u001b[0mKqlEngineError\u001b[0m\u001b[0;34m(\u001b[0m\u001b[0;34m\"Client is not defined.\"\u001b[0m\u001b[0;34m)\u001b[0m\u001b[0;34m\u001b[0m\u001b[0;34m\u001b[0m\u001b[0m\n\u001b[0;32m--> 216\u001b[0;31m             \u001b[0;32mreturn\u001b[0m \u001b[0mclient\u001b[0m\u001b[0;34m.\u001b[0m\u001b[0mexecute\u001b[0m\u001b[0;34m(\u001b[0m\u001b[0mdatabase\u001b[0m \u001b[0;32mor\u001b[0m \u001b[0mself\u001b[0m\u001b[0;34m.\u001b[0m\u001b[0mget_client_database_name\u001b[0m\u001b[0;34m(\u001b[0m\u001b[0;34m)\u001b[0m\u001b[0;34m,\u001b[0m \u001b[0mquery\u001b[0m\u001b[0;34m,\u001b[0m \u001b[0maccept_partial_results\u001b[0m\u001b[0;34m=\u001b[0m\u001b[0;32mFalse\u001b[0m\u001b[0;34m,\u001b[0m \u001b[0;34m**\u001b[0m\u001b[0moptions\u001b[0m\u001b[0;34m)\u001b[0m\u001b[0;34m\u001b[0m\u001b[0;34m\u001b[0m\u001b[0m\n\u001b[0m\u001b[1;32m    217\u001b[0m \u001b[0;34m\u001b[0m\u001b[0m\n\u001b[1;32m    218\u001b[0m \u001b[0;34m\u001b[0m\u001b[0m\n",
      "\u001b[0;32m/opt/conda/lib/python3.9/site-packages/Kqlmagic/draft_client.py\u001b[0m in \u001b[0;36mexecute\u001b[0;34m(self, id, query, accept_partial_results, **options)\u001b[0m\n\u001b[1;32m    194\u001b[0m \u001b[0;34m\u001b[0m\u001b[0m\n\u001b[1;32m    195\u001b[0m         \u001b[0;32mif\u001b[0m \u001b[0mself\u001b[0m\u001b[0;34m.\u001b[0m\u001b[0m_aad_helper\u001b[0m \u001b[0;32mis\u001b[0m \u001b[0;32mnot\u001b[0m \u001b[0;32mNone\u001b[0m\u001b[0;34m:\u001b[0m\u001b[0;34m\u001b[0m\u001b[0;34m\u001b[0m\u001b[0m\n\u001b[0;32m--> 196\u001b[0;31m             \u001b[0mrequest_headers\u001b[0m\u001b[0;34m[\u001b[0m\u001b[0;34m\"Authorization\"\u001b[0m\u001b[0;34m]\u001b[0m \u001b[0;34m=\u001b[0m \u001b[0mself\u001b[0m\u001b[0;34m.\u001b[0m\u001b[0m_aad_helper\u001b[0m\u001b[0;34m.\u001b[0m\u001b[0macquire_token\u001b[0m\u001b[0;34m(\u001b[0m\u001b[0;34m)\u001b[0m\u001b[0;34m\u001b[0m\u001b[0;34m\u001b[0m\u001b[0m\n\u001b[0m\u001b[1;32m    197\u001b[0m         \u001b[0;32melif\u001b[0m \u001b[0mself\u001b[0m\u001b[0;34m.\u001b[0m\u001b[0m_appkey\u001b[0m \u001b[0;32mis\u001b[0m \u001b[0;32mnot\u001b[0m \u001b[0;32mNone\u001b[0m\u001b[0;34m:\u001b[0m\u001b[0;34m\u001b[0m\u001b[0;34m\u001b[0m\u001b[0m\n\u001b[1;32m    198\u001b[0m             \u001b[0mrequest_headers\u001b[0m\u001b[0;34m[\u001b[0m\u001b[0;34m\"x-api-key\"\u001b[0m\u001b[0;34m]\u001b[0m \u001b[0;34m=\u001b[0m \u001b[0mself\u001b[0m\u001b[0;34m.\u001b[0m\u001b[0m_appkey\u001b[0m\u001b[0;34m\u001b[0m\u001b[0;34m\u001b[0m\u001b[0m\n",
      "\u001b[0;32m/opt/conda/lib/python3.9/site-packages/Kqlmagic/my_aad_helper_msal.py\u001b[0m in \u001b[0;36macquire_token\u001b[0;34m(self)\u001b[0m\n\u001b[1;32m    614\u001b[0m                         \u001b[0;31m# Ideally you should wait here, in order to save some unnecessary polling\u001b[0m\u001b[0;34m\u001b[0m\u001b[0;34m\u001b[0m\u001b[0;34m\u001b[0m\u001b[0m\n\u001b[1;32m    615\u001b[0m                         \u001b[0;31m# input(\"Press Enter after signing in from another device to proceed, CTRL+C to abort.\")\u001b[0m\u001b[0;34m\u001b[0m\u001b[0;34m\u001b[0m\u001b[0;34m\u001b[0m\u001b[0m\n\u001b[0;32m--> 616\u001b[0;31m                         \u001b[0macquire_token_result\u001b[0m \u001b[0;34m=\u001b[0m \u001b[0mself\u001b[0m\u001b[0;34m.\u001b[0m\u001b[0m_current_msal_client_app\u001b[0m\u001b[0;34m.\u001b[0m\u001b[0macquire_token_by_device_flow\u001b[0m\u001b[0;34m(\u001b[0m\u001b[0mflow\u001b[0m\u001b[0;34m)\u001b[0m  \u001b[0;31m# By default it will block\u001b[0m\u001b[0;34m\u001b[0m\u001b[0;34m\u001b[0m\u001b[0m\n\u001b[0m\u001b[1;32m    617\u001b[0m                         \u001b[0;31m# You can follow this instruction to shorten the block time\u001b[0m\u001b[0;34m\u001b[0m\u001b[0;34m\u001b[0m\u001b[0;34m\u001b[0m\u001b[0m\n\u001b[1;32m    618\u001b[0m                         \u001b[0;31m#    https://msal-python.readthedocs.io/en/latest/#msal.PublicClientApplication.acquire_token_by_device_flow\u001b[0m\u001b[0;34m\u001b[0m\u001b[0;34m\u001b[0m\u001b[0;34m\u001b[0m\u001b[0m\n",
      "\u001b[0;32m/opt/conda/lib/python3.9/site-packages/msal/application.py\u001b[0m in \u001b[0;36macquire_token_by_device_flow\u001b[0;34m(self, flow, claims_challenge, **kwargs)\u001b[0m\n\u001b[1;32m   1439\u001b[0m             \u001b[0mself\u001b[0m\u001b[0;34m.\u001b[0m\u001b[0mACQUIRE_TOKEN_BY_DEVICE_FLOW_ID\u001b[0m\u001b[0;34m,\u001b[0m\u001b[0;34m\u001b[0m\u001b[0;34m\u001b[0m\u001b[0m\n\u001b[1;32m   1440\u001b[0m             correlation_id=flow.get(self.DEVICE_FLOW_CORRELATION_ID))\n\u001b[0;32m-> 1441\u001b[0;31m         response = _clean_up(self.client.obtain_token_by_device_flow(\n\u001b[0m\u001b[1;32m   1442\u001b[0m             \u001b[0mflow\u001b[0m\u001b[0;34m,\u001b[0m\u001b[0;34m\u001b[0m\u001b[0;34m\u001b[0m\u001b[0m\n\u001b[1;32m   1443\u001b[0m             data=dict(\n",
      "\u001b[0;32m/opt/conda/lib/python3.9/site-packages/msal/oauth2cli/oauth2.py\u001b[0m in \u001b[0;36mobtain_token_by_device_flow\u001b[0;34m(self, flow, exit_condition, **kwargs)\u001b[0m\n\u001b[1;32m    388\u001b[0m                 \u001b[0;32mif\u001b[0m \u001b[0mexit_condition\u001b[0m\u001b[0;34m(\u001b[0m\u001b[0mflow\u001b[0m\u001b[0;34m)\u001b[0m\u001b[0;34m:\u001b[0m\u001b[0;34m\u001b[0m\u001b[0;34m\u001b[0m\u001b[0m\n\u001b[1;32m    389\u001b[0m                     \u001b[0;32mreturn\u001b[0m \u001b[0mresult\u001b[0m\u001b[0;34m\u001b[0m\u001b[0;34m\u001b[0m\u001b[0m\n\u001b[0;32m--> 390\u001b[0;31m                 \u001b[0mtime\u001b[0m\u001b[0;34m.\u001b[0m\u001b[0msleep\u001b[0m\u001b[0;34m(\u001b[0m\u001b[0;36m1\u001b[0m\u001b[0;34m)\u001b[0m  \u001b[0;31m# Shorten each round, to make exit more responsive\u001b[0m\u001b[0;34m\u001b[0m\u001b[0;34m\u001b[0m\u001b[0m\n\u001b[0m\u001b[1;32m    391\u001b[0m \u001b[0;34m\u001b[0m\u001b[0m\n\u001b[1;32m    392\u001b[0m     def _build_auth_request_uri(\n",
      "\u001b[0;31mKeyboardInterrupt\u001b[0m: "
     ]
    }
   ],
   "source": [
    "%kql loganalytics://code;workspace='1054c1b0-f063-40a7-823e-91dac02fbabc';alias='arturol76-edge-benchmark'"
   ]
  },
  {
   "cell_type": "markdown",
   "metadata": {},
   "source": [
    "Will the MaxUpstreamBatchSize=100 increase the latency of low-rate streams?\n",
    "\n",
    "# login\n",
    "```bash\n",
    "ssh arturo@standard-ds3-v2-edge-1-2-1626596809.westeurope.cloudapp.azure.com -i ../keys/vm-key\n",
    "```\n",
    "\n",
    "# deploy test\n",
    "```bash\n",
    "az iot edge set-modules -n arturol76-s1-benchmark -d standard-ds3-v2-edge-1-2-1626596809 --content ../tests/test30-low-rate-metrics-1.2.json\n",
    "```\n"
   ]
  },
  {
   "cell_type": "code",
   "execution_count": null,
   "metadata": {},
   "outputs": [],
   "source": [
    "!az iot edge set-modules -n arturol76-s1-benchmark -d standard-ds3-v2-edge-1-2-1626596809 --content ../tests/test30-low-rate-metrics-1.2.json"
   ]
  },
  {
   "cell_type": "code",
   "execution_count": 17,
   "metadata": {},
   "outputs": [],
   "source": [
    "from datetime import datetime, timedelta\n",
    "from dateutil import parser\n",
    "testStart=parser.parse(\"2021-07-28T18:15:00Z\")\n",
    "testStop=parser.parse(\"2021-07-28T18:20:00Z\")"
   ]
  },
  {
   "cell_type": "code",
   "execution_count": 18,
   "metadata": {},
   "outputs": [
    {
     "data": {
      "text/html": [
       "<html>\n",
       "        <head>\n",
       "            \n",
       "            \n",
       "        </head>\n",
       "        <body>\n",
       "            <div><p style=' padding: 10px; color: #3a87ad; background-color: #d9edf7; border-color: #bce9f1'>&nbsp;*&nbsp;arturol76-edge-benchmark@loganalytics</p></div>\n",
       "        </body>\n",
       "        </html>"
      ],
      "text/plain": [
       "<IPython.core.display.HTML object>"
      ]
     },
     "metadata": {},
     "output_type": "display_data"
    },
    {
     "data": {
      "text/html": [
       "<html>\n",
       "        <head>\n",
       "            <style>#uuid-3e602490acd246899c0b8d0f36eb3585 {\n",
       "                    display: block; \n",
       "                    font-style:italic;\n",
       "                    font-size:300%;\n",
       "                    text-align:center;\n",
       "                } </style>\n",
       "            <title>Kqlmagic - chart</title>\n",
       "        </head>\n",
       "        <body>\n",
       "            <div id=\"uuid-3e602490acd246899c0b8d0f36eb3585\"><br><br>EMPTY CHART (no data)<br><br>.</div>\n",
       "        </body>\n",
       "        </html>"
      ],
      "text/plain": [
       "<IPython.core.display.HTML object>"
      ]
     },
     "metadata": {},
     "output_type": "display_data"
    },
    {
     "data": {
      "text/html": [
       "<html>\n",
       "        <head>\n",
       "            \n",
       "            \n",
       "        </head>\n",
       "        <body>\n",
       "            <div><p style=' padding: 10px; color: #3a87ad; background-color: #d9edf7; border-color: #bce9f1'>Done&nbsp;(00:02.448):&nbsp;0&nbsp;records</p></div>\n",
       "        </body>\n",
       "        </html>"
      ],
      "text/plain": [
       "<IPython.core.display.HTML object>"
      ]
     },
     "metadata": {},
     "output_type": "display_data"
    },
    {
     "data": {
      "text/html": [],
      "text/plain": [
       "[]"
      ]
     },
     "execution_count": 18,
     "metadata": {},
     "output_type": "execute_result"
    }
   ],
   "source": [
    "%%kql\n",
    "    let _start=testStart;\n",
    "    let _stop=testStop;\n",
    "    InsightsMetrics \n",
    "    | where Origin == \"iot.azm.ms\" and Namespace == \"metricsmodule\" \n",
    "    | where Name == \"edgehub_queue_length\" \n",
    "    | extend dimensions=parse_json(Tags) \n",
    "    | extend device = tostring(dimensions.edge_device) \n",
    "    | extend ep = tostring(dimensions.endpoint) \n",
    "    | where  ep == \"iothub\"\n",
    "    | extend qlen = toint(Val)\n",
    "    | where qlen > 0 and qlen != 2490317 \n",
    "    | where TimeGenerated > _start and TimeGenerated < _stop \n",
    "    | project TimeGenerated, qlen\n",
    "    | render timechart title='edgehub_queue_length'"
   ]
  },
  {
   "cell_type": "code",
   "execution_count": 19,
   "metadata": {},
   "outputs": [],
   "source": [
    "df = _kql_raw_result_.to_dataframe()\n",
    "df = df.sort_values(by=['TimeGenerated'])"
   ]
  },
  {
   "cell_type": "code",
   "execution_count": 20,
   "metadata": {},
   "outputs": [],
   "source": [
    "qlenDf = df"
   ]
  },
  {
   "cell_type": "code",
   "execution_count": 21,
   "metadata": {},
   "outputs": [
    {
     "data": {
      "text/html": [
       "<html>\n",
       "        <head>\n",
       "            \n",
       "            \n",
       "        </head>\n",
       "        <body>\n",
       "            <div><p style=' padding: 10px; color: #3a87ad; background-color: #d9edf7; border-color: #bce9f1'>&nbsp;*&nbsp;arturol76-edge-benchmark@loganalytics</p></div>\n",
       "        </body>\n",
       "        </html>"
      ],
      "text/plain": [
       "<IPython.core.display.HTML object>"
      ]
     },
     "metadata": {},
     "output_type": "display_data"
    },
    {
     "data": {
      "text/html": [
       "<html>\n",
       "        <head>\n",
       "            \n",
       "            <title>Kqlmagic - table</title>\n",
       "        </head>\n",
       "        <body>\n",
       "            <table>\n",
       "    <thead>\n",
       "        <tr>\n",
       "            <th>TimeGenerated</th>\n",
       "            <th>Val</th>\n",
       "        </tr>\n",
       "    </thead>\n",
       "    <tbody>\n",
       "        <tr>\n",
       "            <td>2021-07-28 18:15:33+00:00</td>\n",
       "            <td>103.379324135173</td>\n",
       "        </tr>\n",
       "        <tr>\n",
       "            <td>2021-07-28 18:15:47+00:00</td>\n",
       "            <td>3.6</td>\n",
       "        </tr>\n",
       "        <tr>\n",
       "            <td>2021-07-28 18:15:49+00:00</td>\n",
       "            <td>0</td>\n",
       "        </tr>\n",
       "        <tr>\n",
       "            <td>2021-07-28 18:16:02+00:00</td>\n",
       "            <td>99.7401559064561</td>\n",
       "        </tr>\n",
       "        <tr>\n",
       "            <td>2021-07-28 18:16:11+00:00</td>\n",
       "            <td>0</td>\n",
       "        </tr>\n",
       "        <tr>\n",
       "            <td>2021-07-28 18:16:07+00:00</td>\n",
       "            <td>3.80228136882129</td>\n",
       "        </tr>\n",
       "        <tr>\n",
       "            <td>2021-07-28 18:16:51+00:00</td>\n",
       "            <td>0</td>\n",
       "        </tr>\n",
       "        <tr>\n",
       "            <td>2021-07-28 18:16:55+00:00</td>\n",
       "            <td>104.158336665334</td>\n",
       "        </tr>\n",
       "        <tr>\n",
       "            <td>2021-07-28 18:17:00+00:00</td>\n",
       "            <td>99.619923984797</td>\n",
       "        </tr>\n",
       "        <tr>\n",
       "            <td>2021-07-28 18:17:02+00:00</td>\n",
       "            <td>99.619923984797</td>\n",
       "        </tr>\n",
       "        <tr>\n",
       "            <td>2021-07-28 18:17:13+00:00</td>\n",
       "            <td>0</td>\n",
       "        </tr>\n",
       "        <tr>\n",
       "            <td>2021-07-28 18:17:37+00:00</td>\n",
       "            <td>0</td>\n",
       "        </tr>\n",
       "        <tr>\n",
       "            <td>2021-07-28 18:17:54+00:00</td>\n",
       "            <td>0</td>\n",
       "        </tr>\n",
       "        <tr>\n",
       "            <td>2021-07-28 18:17:56+00:00</td>\n",
       "            <td>0</td>\n",
       "        </tr>\n",
       "        <tr>\n",
       "            <td>2021-07-28 18:18:01+00:00</td>\n",
       "            <td>0</td>\n",
       "        </tr>\n",
       "        <tr>\n",
       "            <td>2021-07-28 18:18:49+00:00</td>\n",
       "            <td>0</td>\n",
       "        </tr>\n",
       "        <tr>\n",
       "            <td>2021-07-28 18:15:02+00:00</td>\n",
       "            <td>99.8599159495697</td>\n",
       "        </tr>\n",
       "        <tr>\n",
       "            <td>2021-07-28 18:15:04+00:00</td>\n",
       "            <td>3.19744204636291</td>\n",
       "        </tr>\n",
       "        <tr>\n",
       "            <td>2021-07-28 18:15:09+00:00</td>\n",
       "            <td>0</td>\n",
       "        </tr>\n",
       "        <tr>\n",
       "            <td>2021-07-28 18:15:06+00:00</td>\n",
       "            <td>3.19744204636291</td>\n",
       "        </tr>\n",
       "        <tr>\n",
       "            <td>2021-07-28 18:15:13+00:00</td>\n",
       "            <td>103.179364127175</td>\n",
       "        </tr>\n",
       "        <tr>\n",
       "            <td>2021-07-28 18:15:15+00:00</td>\n",
       "            <td>103.179364127175</td>\n",
       "        </tr>\n",
       "        <tr>\n",
       "            <td>2021-07-28 18:15:17+00:00</td>\n",
       "            <td>103.179364127175</td>\n",
       "        </tr>\n",
       "        <tr>\n",
       "            <td>2021-07-28 18:15:20+00:00</td>\n",
       "            <td>99.8</td>\n",
       "        </tr>\n",
       "        <tr>\n",
       "            <td>2021-07-28 18:15:31+00:00</td>\n",
       "            <td>0</td>\n",
       "        </tr>\n",
       "        <tr>\n",
       "            <td>2021-07-28 18:15:29+00:00</td>\n",
       "            <td>0</td>\n",
       "        </tr>\n",
       "        <tr>\n",
       "            <td>2021-07-28 18:15:22+00:00</td>\n",
       "            <td>99.8</td>\n",
       "        </tr>\n",
       "        <tr>\n",
       "            <td>2021-07-28 18:15:24+00:00</td>\n",
       "            <td>3.39932013597281</td>\n",
       "        </tr>\n",
       "        <tr>\n",
       "            <td>2021-07-28 18:15:27+00:00</td>\n",
       "            <td>3.39932013597281</td>\n",
       "        </tr>\n",
       "        <tr>\n",
       "            <td>2021-07-28 18:15:38+00:00</td>\n",
       "            <td>99.8199639927986</td>\n",
       "        </tr>\n",
       "        <tr>\n",
       "            <td>2021-07-28 18:15:40+00:00</td>\n",
       "            <td>99.8199639927986</td>\n",
       "        </tr>\n",
       "        <tr>\n",
       "            <td>2021-07-28 18:15:53+00:00</td>\n",
       "            <td>103.620724144829</td>\n",
       "        </tr>\n",
       "        <tr>\n",
       "            <td>2021-07-28 18:15:58+00:00</td>\n",
       "            <td>103.620724144829</td>\n",
       "        </tr>\n",
       "        <tr>\n",
       "            <td>2021-07-28 18:16:04+00:00</td>\n",
       "            <td>3.80228136882129</td>\n",
       "        </tr>\n",
       "        <tr>\n",
       "            <td>2021-07-28 18:16:18+00:00</td>\n",
       "            <td>99.8</td>\n",
       "        </tr>\n",
       "        <tr>\n",
       "            <td>2021-07-28 18:16:20+00:00</td>\n",
       "            <td>99.8</td>\n",
       "        </tr>\n",
       "        <tr>\n",
       "            <td>2021-07-28 18:16:26+00:00</td>\n",
       "            <td>4.19832067173131</td>\n",
       "        </tr>\n",
       "        <tr>\n",
       "            <td>2021-07-28 18:16:46+00:00</td>\n",
       "            <td>4.19916016796641</td>\n",
       "        </tr>\n",
       "        <tr>\n",
       "            <td>2021-07-28 18:16:42+00:00</td>\n",
       "            <td>99.9800039992002</td>\n",
       "        </tr>\n",
       "        <tr>\n",
       "            <td>2021-07-28 18:16:49+00:00</td>\n",
       "            <td>0</td>\n",
       "        </tr>\n",
       "        <tr>\n",
       "            <td>2021-07-28 18:16:57+00:00</td>\n",
       "            <td>104.158336665334</td>\n",
       "        </tr>\n",
       "        <tr>\n",
       "            <td>2021-07-28 18:17:30+00:00</td>\n",
       "            <td>0</td>\n",
       "        </tr>\n",
       "        <tr>\n",
       "            <td>2021-07-28 18:17:41+00:00</td>\n",
       "            <td>0</td>\n",
       "        </tr>\n",
       "        <tr>\n",
       "            <td>2021-07-28 18:18:10+00:00</td>\n",
       "            <td>0</td>\n",
       "        </tr>\n",
       "        <tr>\n",
       "            <td>2021-07-28 18:18:14+00:00</td>\n",
       "            <td>0</td>\n",
       "        </tr>\n",
       "        <tr>\n",
       "            <td>2021-07-28 18:18:19+00:00</td>\n",
       "            <td>0</td>\n",
       "        </tr>\n",
       "        <tr>\n",
       "            <td>2021-07-28 18:15:11+00:00</td>\n",
       "            <td>0</td>\n",
       "        </tr>\n",
       "        <tr>\n",
       "            <td>2021-07-28 18:15:35+00:00</td>\n",
       "            <td>103.379324135173</td>\n",
       "        </tr>\n",
       "        <tr>\n",
       "            <td>2021-07-28 18:15:44+00:00</td>\n",
       "            <td>3.6</td>\n",
       "        </tr>\n",
       "        <tr>\n",
       "            <td>2021-07-28 18:15:42+00:00</td>\n",
       "            <td>99.8199639927986</td>\n",
       "        </tr>\n",
       "        <tr>\n",
       "            <td>2021-07-28 18:15:51+00:00</td>\n",
       "            <td>0</td>\n",
       "        </tr>\n",
       "        <tr>\n",
       "            <td>2021-07-28 18:15:55+00:00</td>\n",
       "            <td>103.620724144829</td>\n",
       "        </tr>\n",
       "        <tr>\n",
       "            <td>2021-07-28 18:16:00+00:00</td>\n",
       "            <td>99.7401559064561</td>\n",
       "        </tr>\n",
       "        <tr>\n",
       "            <td>2021-07-28 18:16:09+00:00</td>\n",
       "            <td>0</td>\n",
       "        </tr>\n",
       "        <tr>\n",
       "            <td>2021-07-28 18:16:13+00:00</td>\n",
       "            <td>104.020804160832</td>\n",
       "        </tr>\n",
       "        <tr>\n",
       "            <td>2021-07-28 18:16:16+00:00</td>\n",
       "            <td>104.020804160832</td>\n",
       "        </tr>\n",
       "        <tr>\n",
       "            <td>2021-07-28 18:16:22+00:00</td>\n",
       "            <td>99.8</td>\n",
       "        </tr>\n",
       "        <tr>\n",
       "            <td>2021-07-28 18:16:35+00:00</td>\n",
       "            <td>104.241696678671</td>\n",
       "        </tr>\n",
       "        <tr>\n",
       "            <td>2021-07-28 18:16:28+00:00</td>\n",
       "            <td>0</td>\n",
       "        </tr>\n",
       "        <tr>\n",
       "            <td>2021-07-28 18:16:31+00:00</td>\n",
       "            <td>0</td>\n",
       "        </tr>\n",
       "        <tr>\n",
       "            <td>2021-07-28 18:16:33+00:00</td>\n",
       "            <td>104.241696678671</td>\n",
       "        </tr>\n",
       "        <tr>\n",
       "            <td>2021-07-28 18:16:40+00:00</td>\n",
       "            <td>99.9800039992002</td>\n",
       "        </tr>\n",
       "        <tr>\n",
       "            <td>2021-07-28 18:16:38+00:00</td>\n",
       "            <td>104.241696678671</td>\n",
       "        </tr>\n",
       "        <tr>\n",
       "            <td>2021-07-28 18:16:44+00:00</td>\n",
       "            <td>4.19916016796641</td>\n",
       "        </tr>\n",
       "        <tr>\n",
       "            <td>2021-07-28 18:16:53+00:00</td>\n",
       "            <td>104.158336665334</td>\n",
       "        </tr>\n",
       "        <tr>\n",
       "            <td>2021-07-28 18:17:06+00:00</td>\n",
       "            <td>4.60092018403681</td>\n",
       "        </tr>\n",
       "        <tr>\n",
       "            <td>2021-07-28 18:17:04+00:00</td>\n",
       "            <td>4.60092018403681</td>\n",
       "        </tr>\n",
       "        <tr>\n",
       "            <td>2021-07-28 18:17:11+00:00</td>\n",
       "            <td>0</td>\n",
       "        </tr>\n",
       "        <tr>\n",
       "            <td>2021-07-28 18:17:16+00:00</td>\n",
       "            <td>0</td>\n",
       "        </tr>\n",
       "        <tr>\n",
       "            <td>2021-07-28 18:17:19+00:00</td>\n",
       "            <td>0</td>\n",
       "        </tr>\n",
       "        <tr>\n",
       "            <td>2021-07-28 18:17:08+00:00</td>\n",
       "            <td>0</td>\n",
       "        </tr>\n",
       "        <tr>\n",
       "            <td>2021-07-28 18:17:21+00:00</td>\n",
       "            <td>0</td>\n",
       "        </tr>\n",
       "        <tr>\n",
       "            <td>2021-07-28 18:17:25+00:00</td>\n",
       "            <td>0</td>\n",
       "        </tr>\n",
       "        <tr>\n",
       "            <td>2021-07-28 18:17:23+00:00</td>\n",
       "            <td>0</td>\n",
       "        </tr>\n",
       "        <tr>\n",
       "            <td>2021-07-28 18:17:27+00:00</td>\n",
       "            <td>0</td>\n",
       "        </tr>\n",
       "        <tr>\n",
       "            <td>2021-07-28 18:17:39+00:00</td>\n",
       "            <td>0</td>\n",
       "        </tr>\n",
       "        <tr>\n",
       "            <td>2021-07-28 18:17:34+00:00</td>\n",
       "            <td>0</td>\n",
       "        </tr>\n",
       "        <tr>\n",
       "            <td>2021-07-28 18:17:43+00:00</td>\n",
       "            <td>0</td>\n",
       "        </tr>\n",
       "        <tr>\n",
       "            <td>2021-07-28 18:17:32+00:00</td>\n",
       "            <td>0</td>\n",
       "        </tr>\n",
       "        <tr>\n",
       "            <td>2021-07-28 18:17:45+00:00</td>\n",
       "            <td>0</td>\n",
       "        </tr>\n",
       "        <tr>\n",
       "            <td>2021-07-28 18:17:52+00:00</td>\n",
       "            <td>0</td>\n",
       "        </tr>\n",
       "        <tr>\n",
       "            <td>2021-07-28 18:17:48+00:00</td>\n",
       "            <td>0</td>\n",
       "        </tr>\n",
       "        <tr>\n",
       "            <td>2021-07-28 18:18:03+00:00</td>\n",
       "            <td>0</td>\n",
       "        </tr>\n",
       "        <tr>\n",
       "            <td>2021-07-28 18:17:59+00:00</td>\n",
       "            <td>0</td>\n",
       "        </tr>\n",
       "        <tr>\n",
       "            <td>2021-07-28 18:17:50+00:00</td>\n",
       "            <td>0</td>\n",
       "        </tr>\n",
       "        <tr>\n",
       "            <td>2021-07-28 18:18:05+00:00</td>\n",
       "            <td>0</td>\n",
       "        </tr>\n",
       "        <tr>\n",
       "            <td>2021-07-28 18:18:21+00:00</td>\n",
       "            <td>0</td>\n",
       "        </tr>\n",
       "        <tr>\n",
       "            <td>2021-07-28 18:18:16+00:00</td>\n",
       "            <td>0</td>\n",
       "        </tr>\n",
       "        <tr>\n",
       "            <td>2021-07-28 18:18:12+00:00</td>\n",
       "            <td>0</td>\n",
       "        </tr>\n",
       "        <tr>\n",
       "            <td>2021-07-28 18:18:25+00:00</td>\n",
       "            <td>0</td>\n",
       "        </tr>\n",
       "        <tr>\n",
       "            <td>2021-07-28 18:18:32+00:00</td>\n",
       "            <td>0</td>\n",
       "        </tr>\n",
       "        <tr>\n",
       "            <td>2021-07-28 18:18:34+00:00</td>\n",
       "            <td>0</td>\n",
       "        </tr>\n",
       "        <tr>\n",
       "            <td>2021-07-28 18:18:23+00:00</td>\n",
       "            <td>0</td>\n",
       "        </tr>\n",
       "        <tr>\n",
       "            <td>2021-07-28 18:18:41+00:00</td>\n",
       "            <td>0</td>\n",
       "        </tr>\n",
       "        <tr>\n",
       "            <td>2021-07-28 18:18:45+00:00</td>\n",
       "            <td>0</td>\n",
       "        </tr>\n",
       "        <tr>\n",
       "            <td>2021-07-28 18:18:36+00:00</td>\n",
       "            <td>0</td>\n",
       "        </tr>\n",
       "        <tr>\n",
       "            <td>2021-07-28 18:18:30+00:00</td>\n",
       "            <td>0</td>\n",
       "        </tr>\n",
       "        <tr>\n",
       "            <td>2021-07-28 18:18:43+00:00</td>\n",
       "            <td>0</td>\n",
       "        </tr>\n",
       "        <tr>\n",
       "            <td>2021-07-28 18:18:47+00:00</td>\n",
       "            <td>0</td>\n",
       "        </tr>\n",
       "        <tr>\n",
       "            <td>2021-07-28 18:18:52+00:00</td>\n",
       "            <td>0</td>\n",
       "        </tr>\n",
       "        <tr>\n",
       "            <td>2021-07-28 18:18:54+00:00</td>\n",
       "            <td>0</td>\n",
       "        </tr>\n",
       "    </tbody>\n",
       "</table>\n",
       "        </body>\n",
       "        </html>"
      ],
      "text/plain": [
       "<IPython.core.display.HTML object>"
      ]
     },
     "metadata": {},
     "output_type": "display_data"
    },
    {
     "data": {
      "text/html": [
       "<html>\n",
       "        <head>\n",
       "            \n",
       "            \n",
       "        </head>\n",
       "        <body>\n",
       "            <div><p style=' padding: 10px; color: #3a87ad; background-color: #d9edf7; border-color: #bce9f1'>Done&nbsp;(00:00.535):&nbsp;101&nbsp;records</p></div>\n",
       "        </body>\n",
       "        </html>"
      ],
      "text/plain": [
       "<IPython.core.display.HTML object>"
      ]
     },
     "metadata": {},
     "output_type": "display_data"
    },
    {
     "data": {
      "text/html": [],
      "text/plain": [
       "[{'TimeGenerated': datetime.datetime(2021, 7, 28, 18, 15, 33, tzinfo=tzutc()), 'Val': 103.379324135173},\n",
       " {'TimeGenerated': datetime.datetime(2021, 7, 28, 18, 15, 47, tzinfo=tzutc()), 'Val': 3.6},\n",
       " {'TimeGenerated': datetime.datetime(2021, 7, 28, 18, 15, 49, tzinfo=tzutc()), 'Val': 0},\n",
       " {'TimeGenerated': datetime.datetime(2021, 7, 28, 18, 16, 2, tzinfo=tzutc()), 'Val': 99.7401559064561},\n",
       " {'TimeGenerated': datetime.datetime(2021, 7, 28, 18, 16, 11, tzinfo=tzutc()), 'Val': 0},\n",
       " {'TimeGenerated': datetime.datetime(2021, 7, 28, 18, 16, 7, tzinfo=tzutc()), 'Val': 3.80228136882129},\n",
       " {'TimeGenerated': datetime.datetime(2021, 7, 28, 18, 16, 51, tzinfo=tzutc()), 'Val': 0},\n",
       " {'TimeGenerated': datetime.datetime(2021, 7, 28, 18, 16, 55, tzinfo=tzutc()), 'Val': 104.158336665334},\n",
       " {'TimeGenerated': datetime.datetime(2021, 7, 28, 18, 17, tzinfo=tzutc()), 'Val': 99.619923984797},\n",
       " {'TimeGenerated': datetime.datetime(2021, 7, 28, 18, 17, 2, tzinfo=tzutc()), 'Val': 99.619923984797},\n",
       " {'TimeGenerated': datetime.datetime(2021, 7, 28, 18, 17, 13, tzinfo=tzutc()), 'Val': 0},\n",
       " {'TimeGenerated': datetime.datetime(2021, 7, 28, 18, 17, 37, tzinfo=tzutc()), 'Val': 0},\n",
       " {'TimeGenerated': datetime.datetime(2021, 7, 28, 18, 17, 54, tzinfo=tzutc()), 'Val': 0},\n",
       " {'TimeGenerated': datetime.datetime(2021, 7, 28, 18, 17, 56, tzinfo=tzutc()), 'Val': 0},\n",
       " {'TimeGenerated': datetime.datetime(2021, 7, 28, 18, 18, 1, tzinfo=tzutc()), 'Val': 0},\n",
       " {'TimeGenerated': datetime.datetime(2021, 7, 28, 18, 18, 49, tzinfo=tzutc()), 'Val': 0},\n",
       " {'TimeGenerated': datetime.datetime(2021, 7, 28, 18, 15, 2, tzinfo=tzutc()), 'Val': 99.8599159495697},\n",
       " {'TimeGenerated': datetime.datetime(2021, 7, 28, 18, 15, 4, tzinfo=tzutc()), 'Val': 3.19744204636291},\n",
       " {'TimeGenerated': datetime.datetime(2021, 7, 28, 18, 15, 9, tzinfo=tzutc()), 'Val': 0},\n",
       " {'TimeGenerated': datetime.datetime(2021, 7, 28, 18, 15, 6, tzinfo=tzutc()), 'Val': 3.19744204636291},\n",
       " {'TimeGenerated': datetime.datetime(2021, 7, 28, 18, 15, 13, tzinfo=tzutc()), 'Val': 103.179364127175},\n",
       " {'TimeGenerated': datetime.datetime(2021, 7, 28, 18, 15, 15, tzinfo=tzutc()), 'Val': 103.179364127175},\n",
       " {'TimeGenerated': datetime.datetime(2021, 7, 28, 18, 15, 17, tzinfo=tzutc()), 'Val': 103.179364127175},\n",
       " {'TimeGenerated': datetime.datetime(2021, 7, 28, 18, 15, 20, tzinfo=tzutc()), 'Val': 99.8},\n",
       " {'TimeGenerated': datetime.datetime(2021, 7, 28, 18, 15, 31, tzinfo=tzutc()), 'Val': 0},\n",
       " {'TimeGenerated': datetime.datetime(2021, 7, 28, 18, 15, 29, tzinfo=tzutc()), 'Val': 0},\n",
       " {'TimeGenerated': datetime.datetime(2021, 7, 28, 18, 15, 22, tzinfo=tzutc()), 'Val': 99.8},\n",
       " {'TimeGenerated': datetime.datetime(2021, 7, 28, 18, 15, 24, tzinfo=tzutc()), 'Val': 3.39932013597281},\n",
       " {'TimeGenerated': datetime.datetime(2021, 7, 28, 18, 15, 27, tzinfo=tzutc()), 'Val': 3.39932013597281},\n",
       " {'TimeGenerated': datetime.datetime(2021, 7, 28, 18, 15, 38, tzinfo=tzutc()), 'Val': 99.8199639927986},\n",
       " {'TimeGenerated': datetime.datetime(2021, 7, 28, 18, 15, 40, tzinfo=tzutc()), 'Val': 99.8199639927986},\n",
       " {'TimeGenerated': datetime.datetime(2021, 7, 28, 18, 15, 53, tzinfo=tzutc()), 'Val': 103.620724144829},\n",
       " {'TimeGenerated': datetime.datetime(2021, 7, 28, 18, 15, 58, tzinfo=tzutc()), 'Val': 103.620724144829},\n",
       " {'TimeGenerated': datetime.datetime(2021, 7, 28, 18, 16, 4, tzinfo=tzutc()), 'Val': 3.80228136882129},\n",
       " {'TimeGenerated': datetime.datetime(2021, 7, 28, 18, 16, 18, tzinfo=tzutc()), 'Val': 99.8},\n",
       " {'TimeGenerated': datetime.datetime(2021, 7, 28, 18, 16, 20, tzinfo=tzutc()), 'Val': 99.8},\n",
       " {'TimeGenerated': datetime.datetime(2021, 7, 28, 18, 16, 26, tzinfo=tzutc()), 'Val': 4.19832067173131},\n",
       " {'TimeGenerated': datetime.datetime(2021, 7, 28, 18, 16, 46, tzinfo=tzutc()), 'Val': 4.19916016796641},\n",
       " {'TimeGenerated': datetime.datetime(2021, 7, 28, 18, 16, 42, tzinfo=tzutc()), 'Val': 99.9800039992002},\n",
       " {'TimeGenerated': datetime.datetime(2021, 7, 28, 18, 16, 49, tzinfo=tzutc()), 'Val': 0},\n",
       " {'TimeGenerated': datetime.datetime(2021, 7, 28, 18, 16, 57, tzinfo=tzutc()), 'Val': 104.158336665334},\n",
       " {'TimeGenerated': datetime.datetime(2021, 7, 28, 18, 17, 30, tzinfo=tzutc()), 'Val': 0},\n",
       " {'TimeGenerated': datetime.datetime(2021, 7, 28, 18, 17, 41, tzinfo=tzutc()), 'Val': 0},\n",
       " {'TimeGenerated': datetime.datetime(2021, 7, 28, 18, 18, 10, tzinfo=tzutc()), 'Val': 0},\n",
       " {'TimeGenerated': datetime.datetime(2021, 7, 28, 18, 18, 14, tzinfo=tzutc()), 'Val': 0},\n",
       " {'TimeGenerated': datetime.datetime(2021, 7, 28, 18, 18, 19, tzinfo=tzutc()), 'Val': 0},\n",
       " {'TimeGenerated': datetime.datetime(2021, 7, 28, 18, 15, 11, tzinfo=tzutc()), 'Val': 0},\n",
       " {'TimeGenerated': datetime.datetime(2021, 7, 28, 18, 15, 35, tzinfo=tzutc()), 'Val': 103.379324135173},\n",
       " {'TimeGenerated': datetime.datetime(2021, 7, 28, 18, 15, 44, tzinfo=tzutc()), 'Val': 3.6},\n",
       " {'TimeGenerated': datetime.datetime(2021, 7, 28, 18, 15, 42, tzinfo=tzutc()), 'Val': 99.8199639927986},\n",
       " {'TimeGenerated': datetime.datetime(2021, 7, 28, 18, 15, 51, tzinfo=tzutc()), 'Val': 0},\n",
       " {'TimeGenerated': datetime.datetime(2021, 7, 28, 18, 15, 55, tzinfo=tzutc()), 'Val': 103.620724144829},\n",
       " {'TimeGenerated': datetime.datetime(2021, 7, 28, 18, 16, tzinfo=tzutc()), 'Val': 99.7401559064561},\n",
       " {'TimeGenerated': datetime.datetime(2021, 7, 28, 18, 16, 9, tzinfo=tzutc()), 'Val': 0},\n",
       " {'TimeGenerated': datetime.datetime(2021, 7, 28, 18, 16, 13, tzinfo=tzutc()), 'Val': 104.020804160832},\n",
       " {'TimeGenerated': datetime.datetime(2021, 7, 28, 18, 16, 16, tzinfo=tzutc()), 'Val': 104.020804160832},\n",
       " {'TimeGenerated': datetime.datetime(2021, 7, 28, 18, 16, 22, tzinfo=tzutc()), 'Val': 99.8},\n",
       " {'TimeGenerated': datetime.datetime(2021, 7, 28, 18, 16, 35, tzinfo=tzutc()), 'Val': 104.241696678671},\n",
       " {'TimeGenerated': datetime.datetime(2021, 7, 28, 18, 16, 28, tzinfo=tzutc()), 'Val': 0},\n",
       " {'TimeGenerated': datetime.datetime(2021, 7, 28, 18, 16, 31, tzinfo=tzutc()), 'Val': 0},\n",
       " {'TimeGenerated': datetime.datetime(2021, 7, 28, 18, 16, 33, tzinfo=tzutc()), 'Val': 104.241696678671},\n",
       " {'TimeGenerated': datetime.datetime(2021, 7, 28, 18, 16, 40, tzinfo=tzutc()), 'Val': 99.9800039992002},\n",
       " {'TimeGenerated': datetime.datetime(2021, 7, 28, 18, 16, 38, tzinfo=tzutc()), 'Val': 104.241696678671},\n",
       " {'TimeGenerated': datetime.datetime(2021, 7, 28, 18, 16, 44, tzinfo=tzutc()), 'Val': 4.19916016796641},\n",
       " {'TimeGenerated': datetime.datetime(2021, 7, 28, 18, 16, 53, tzinfo=tzutc()), 'Val': 104.158336665334},\n",
       " {'TimeGenerated': datetime.datetime(2021, 7, 28, 18, 17, 6, tzinfo=tzutc()), 'Val': 4.60092018403681},\n",
       " {'TimeGenerated': datetime.datetime(2021, 7, 28, 18, 17, 4, tzinfo=tzutc()), 'Val': 4.60092018403681},\n",
       " {'TimeGenerated': datetime.datetime(2021, 7, 28, 18, 17, 11, tzinfo=tzutc()), 'Val': 0},\n",
       " {'TimeGenerated': datetime.datetime(2021, 7, 28, 18, 17, 16, tzinfo=tzutc()), 'Val': 0},\n",
       " {'TimeGenerated': datetime.datetime(2021, 7, 28, 18, 17, 19, tzinfo=tzutc()), 'Val': 0},\n",
       " {'TimeGenerated': datetime.datetime(2021, 7, 28, 18, 17, 8, tzinfo=tzutc()), 'Val': 0},\n",
       " {'TimeGenerated': datetime.datetime(2021, 7, 28, 18, 17, 21, tzinfo=tzutc()), 'Val': 0},\n",
       " {'TimeGenerated': datetime.datetime(2021, 7, 28, 18, 17, 25, tzinfo=tzutc()), 'Val': 0},\n",
       " {'TimeGenerated': datetime.datetime(2021, 7, 28, 18, 17, 23, tzinfo=tzutc()), 'Val': 0},\n",
       " {'TimeGenerated': datetime.datetime(2021, 7, 28, 18, 17, 27, tzinfo=tzutc()), 'Val': 0},\n",
       " {'TimeGenerated': datetime.datetime(2021, 7, 28, 18, 17, 39, tzinfo=tzutc()), 'Val': 0},\n",
       " {'TimeGenerated': datetime.datetime(2021, 7, 28, 18, 17, 34, tzinfo=tzutc()), 'Val': 0},\n",
       " {'TimeGenerated': datetime.datetime(2021, 7, 28, 18, 17, 43, tzinfo=tzutc()), 'Val': 0},\n",
       " {'TimeGenerated': datetime.datetime(2021, 7, 28, 18, 17, 32, tzinfo=tzutc()), 'Val': 0},\n",
       " {'TimeGenerated': datetime.datetime(2021, 7, 28, 18, 17, 45, tzinfo=tzutc()), 'Val': 0},\n",
       " {'TimeGenerated': datetime.datetime(2021, 7, 28, 18, 17, 52, tzinfo=tzutc()), 'Val': 0},\n",
       " {'TimeGenerated': datetime.datetime(2021, 7, 28, 18, 17, 48, tzinfo=tzutc()), 'Val': 0},\n",
       " {'TimeGenerated': datetime.datetime(2021, 7, 28, 18, 18, 3, tzinfo=tzutc()), 'Val': 0},\n",
       " {'TimeGenerated': datetime.datetime(2021, 7, 28, 18, 17, 59, tzinfo=tzutc()), 'Val': 0},\n",
       " {'TimeGenerated': datetime.datetime(2021, 7, 28, 18, 17, 50, tzinfo=tzutc()), 'Val': 0},\n",
       " {'TimeGenerated': datetime.datetime(2021, 7, 28, 18, 18, 5, tzinfo=tzutc()), 'Val': 0},\n",
       " {'TimeGenerated': datetime.datetime(2021, 7, 28, 18, 18, 21, tzinfo=tzutc()), 'Val': 0},\n",
       " {'TimeGenerated': datetime.datetime(2021, 7, 28, 18, 18, 16, tzinfo=tzutc()), 'Val': 0},\n",
       " {'TimeGenerated': datetime.datetime(2021, 7, 28, 18, 18, 12, tzinfo=tzutc()), 'Val': 0},\n",
       " {'TimeGenerated': datetime.datetime(2021, 7, 28, 18, 18, 25, tzinfo=tzutc()), 'Val': 0},\n",
       " {'TimeGenerated': datetime.datetime(2021, 7, 28, 18, 18, 32, tzinfo=tzutc()), 'Val': 0},\n",
       " {'TimeGenerated': datetime.datetime(2021, 7, 28, 18, 18, 34, tzinfo=tzutc()), 'Val': 0},\n",
       " {'TimeGenerated': datetime.datetime(2021, 7, 28, 18, 18, 23, tzinfo=tzutc()), 'Val': 0},\n",
       " {'TimeGenerated': datetime.datetime(2021, 7, 28, 18, 18, 41, tzinfo=tzutc()), 'Val': 0},\n",
       " {'TimeGenerated': datetime.datetime(2021, 7, 28, 18, 18, 45, tzinfo=tzutc()), 'Val': 0},\n",
       " {'TimeGenerated': datetime.datetime(2021, 7, 28, 18, 18, 36, tzinfo=tzutc()), 'Val': 0},\n",
       " {'TimeGenerated': datetime.datetime(2021, 7, 28, 18, 18, 30, tzinfo=tzutc()), 'Val': 0},\n",
       " {'TimeGenerated': datetime.datetime(2021, 7, 28, 18, 18, 43, tzinfo=tzutc()), 'Val': 0},\n",
       " {'TimeGenerated': datetime.datetime(2021, 7, 28, 18, 18, 47, tzinfo=tzutc()), 'Val': 0},\n",
       " {'TimeGenerated': datetime.datetime(2021, 7, 28, 18, 18, 52, tzinfo=tzutc()), 'Val': 0},\n",
       " {'TimeGenerated': datetime.datetime(2021, 7, 28, 18, 18, 54, tzinfo=tzutc()), 'Val': 0}]"
      ]
     },
     "execution_count": 21,
     "metadata": {},
     "output_type": "execute_result"
    }
   ],
   "source": [
    "%%kql\n",
    "    let _start=testStart;\n",
    "    let _stop=testStop;\n",
    "    let _module_id=\"source\";\n",
    "    InsightsMetrics\n",
    "    | where Origin == \"iot.azm.ms\" and Namespace == \"metricsmodule\"\n",
    "    | where Name == \"rate\"\n",
    "    | extend dimensions = parse_json(Tags)\n",
    "    | extend module_id = dimensions.module_id\n",
    "    | extend channel = dimensions.input_index\n",
    "    | where module_id == _module_id\n",
    "    | where TimeGenerated > _start and TimeGenerated < _stop\n",
    "    | project TimeGenerated, Val"
   ]
  },
  {
   "cell_type": "code",
   "execution_count": 22,
   "metadata": {},
   "outputs": [],
   "source": [
    "df = _kql_raw_result_.to_dataframe()\n",
    "df = df.sort_values(by=['TimeGenerated'])"
   ]
  },
  {
   "cell_type": "code",
   "execution_count": 23,
   "metadata": {},
   "outputs": [],
   "source": [
    "sourceRateDf = df"
   ]
  },
  {
   "cell_type": "code",
   "execution_count": 24,
   "metadata": {},
   "outputs": [
    {
     "data": {
      "text/html": [
       "<html>\n",
       "        <head>\n",
       "            \n",
       "            \n",
       "        </head>\n",
       "        <body>\n",
       "            <div><p style=' padding: 10px; color: #3a87ad; background-color: #d9edf7; border-color: #bce9f1'>&nbsp;*&nbsp;arturol76-edge-benchmark@loganalytics</p></div>\n",
       "        </body>\n",
       "        </html>"
      ],
      "text/plain": [
       "<IPython.core.display.HTML object>"
      ]
     },
     "metadata": {},
     "output_type": "display_data"
    },
    {
     "data": {
      "text/html": [
       "<html>\n",
       "        <head>\n",
       "            \n",
       "            <title>Kqlmagic - table</title>\n",
       "        </head>\n",
       "        <body>\n",
       "            <table>\n",
       "    <thead>\n",
       "        <tr>\n",
       "            <th>TimeGenerated</th>\n",
       "            <th>Val</th>\n",
       "        </tr>\n",
       "    </thead>\n",
       "    <tbody>\n",
       "        <tr>\n",
       "            <td>2021-07-28 18:15:33+00:00</td>\n",
       "            <td>39.2</td>\n",
       "        </tr>\n",
       "        <tr>\n",
       "            <td>2021-07-28 18:15:47+00:00</td>\n",
       "            <td>61</td>\n",
       "        </tr>\n",
       "        <tr>\n",
       "            <td>2021-07-28 18:15:49+00:00</td>\n",
       "            <td>61</td>\n",
       "        </tr>\n",
       "        <tr>\n",
       "            <td>2021-07-28 18:16:02+00:00</td>\n",
       "            <td>61</td>\n",
       "        </tr>\n",
       "        <tr>\n",
       "            <td>2021-07-28 18:16:11+00:00</td>\n",
       "            <td>38.8310648518815</td>\n",
       "        </tr>\n",
       "        <tr>\n",
       "            <td>2021-07-28 18:16:07+00:00</td>\n",
       "            <td>61</td>\n",
       "        </tr>\n",
       "        <tr>\n",
       "            <td>2021-07-28 18:16:51+00:00</td>\n",
       "            <td>38.6</td>\n",
       "        </tr>\n",
       "        <tr>\n",
       "            <td>2021-07-28 18:16:55+00:00</td>\n",
       "            <td>99.619923984797</td>\n",
       "        </tr>\n",
       "        <tr>\n",
       "            <td>2021-07-28 18:17:00+00:00</td>\n",
       "            <td>99.619923984797</td>\n",
       "        </tr>\n",
       "        <tr>\n",
       "            <td>2021-07-28 18:17:02+00:00</td>\n",
       "            <td>61.8</td>\n",
       "        </tr>\n",
       "        <tr>\n",
       "            <td>2021-07-28 18:17:13+00:00</td>\n",
       "            <td>61.8</td>\n",
       "        </tr>\n",
       "        <tr>\n",
       "            <td>2021-07-28 18:17:37+00:00</td>\n",
       "            <td>61.8</td>\n",
       "        </tr>\n",
       "        <tr>\n",
       "            <td>2021-07-28 18:17:54+00:00</td>\n",
       "            <td>61.8</td>\n",
       "        </tr>\n",
       "        <tr>\n",
       "            <td>2021-07-28 18:17:56+00:00</td>\n",
       "            <td>61.8</td>\n",
       "        </tr>\n",
       "        <tr>\n",
       "            <td>2021-07-28 18:18:01+00:00</td>\n",
       "            <td>61.8</td>\n",
       "        </tr>\n",
       "        <tr>\n",
       "            <td>2021-07-28 18:18:49+00:00</td>\n",
       "            <td>61.8</td>\n",
       "        </tr>\n",
       "        <tr>\n",
       "            <td>2021-07-28 18:15:11+00:00</td>\n",
       "            <td>39.7920415916817</td>\n",
       "        </tr>\n",
       "        <tr>\n",
       "            <td>2021-07-28 18:15:35+00:00</td>\n",
       "            <td>99.7600959616153</td>\n",
       "        </tr>\n",
       "        <tr>\n",
       "            <td>2021-07-28 18:15:44+00:00</td>\n",
       "            <td>61</td>\n",
       "        </tr>\n",
       "        <tr>\n",
       "            <td>2021-07-28 18:15:42+00:00</td>\n",
       "            <td>61</td>\n",
       "        </tr>\n",
       "        <tr>\n",
       "            <td>2021-07-28 18:15:51+00:00</td>\n",
       "            <td>39.1921615676865</td>\n",
       "        </tr>\n",
       "        <tr>\n",
       "            <td>2021-07-28 18:15:55+00:00</td>\n",
       "            <td>99.8</td>\n",
       "        </tr>\n",
       "        <tr>\n",
       "            <td>2021-07-28 18:16:00+00:00</td>\n",
       "            <td>61</td>\n",
       "        </tr>\n",
       "        <tr>\n",
       "            <td>2021-07-28 18:16:09+00:00</td>\n",
       "            <td>61</td>\n",
       "        </tr>\n",
       "        <tr>\n",
       "            <td>2021-07-28 18:16:13+00:00</td>\n",
       "            <td>38.8310648518815</td>\n",
       "        </tr>\n",
       "        <tr>\n",
       "            <td>2021-07-28 18:16:16+00:00</td>\n",
       "            <td>99.9800039992002</td>\n",
       "        </tr>\n",
       "        <tr>\n",
       "            <td>2021-07-28 18:16:22+00:00</td>\n",
       "            <td>61.2</td>\n",
       "        </tr>\n",
       "        <tr>\n",
       "            <td>2021-07-28 18:16:35+00:00</td>\n",
       "            <td>99.7800439912018</td>\n",
       "        </tr>\n",
       "        <tr>\n",
       "            <td>2021-07-28 18:16:28+00:00</td>\n",
       "            <td>61.2</td>\n",
       "        </tr>\n",
       "        <tr>\n",
       "            <td>2021-07-28 18:16:31+00:00</td>\n",
       "            <td>38.6</td>\n",
       "        </tr>\n",
       "        <tr>\n",
       "            <td>2021-07-28 18:16:33+00:00</td>\n",
       "            <td>38.6</td>\n",
       "        </tr>\n",
       "        <tr>\n",
       "            <td>2021-07-28 18:16:40+00:00</td>\n",
       "            <td>99.7800439912018</td>\n",
       "        </tr>\n",
       "        <tr>\n",
       "            <td>2021-07-28 18:16:38+00:00</td>\n",
       "            <td>99.7800439912018</td>\n",
       "        </tr>\n",
       "        <tr>\n",
       "            <td>2021-07-28 18:16:44+00:00</td>\n",
       "            <td>61.6</td>\n",
       "        </tr>\n",
       "        <tr>\n",
       "            <td>2021-07-28 18:16:53+00:00</td>\n",
       "            <td>38.6</td>\n",
       "        </tr>\n",
       "        <tr>\n",
       "            <td>2021-07-28 18:17:06+00:00</td>\n",
       "            <td>61.8</td>\n",
       "        </tr>\n",
       "        <tr>\n",
       "            <td>2021-07-28 18:17:04+00:00</td>\n",
       "            <td>61.8</td>\n",
       "        </tr>\n",
       "        <tr>\n",
       "            <td>2021-07-28 18:17:11+00:00</td>\n",
       "            <td>61.8</td>\n",
       "        </tr>\n",
       "        <tr>\n",
       "            <td>2021-07-28 18:17:16+00:00</td>\n",
       "            <td>61.8</td>\n",
       "        </tr>\n",
       "        <tr>\n",
       "            <td>2021-07-28 18:17:19+00:00</td>\n",
       "            <td>61.8</td>\n",
       "        </tr>\n",
       "        <tr>\n",
       "            <td>2021-07-28 18:17:08+00:00</td>\n",
       "            <td>61.8</td>\n",
       "        </tr>\n",
       "        <tr>\n",
       "            <td>2021-07-28 18:17:21+00:00</td>\n",
       "            <td>61.8</td>\n",
       "        </tr>\n",
       "        <tr>\n",
       "            <td>2021-07-28 18:17:25+00:00</td>\n",
       "            <td>61.8</td>\n",
       "        </tr>\n",
       "        <tr>\n",
       "            <td>2021-07-28 18:17:23+00:00</td>\n",
       "            <td>61.8</td>\n",
       "        </tr>\n",
       "        <tr>\n",
       "            <td>2021-07-28 18:17:27+00:00</td>\n",
       "            <td>61.8</td>\n",
       "        </tr>\n",
       "        <tr>\n",
       "            <td>2021-07-28 18:17:39+00:00</td>\n",
       "            <td>61.8</td>\n",
       "        </tr>\n",
       "        <tr>\n",
       "            <td>2021-07-28 18:17:34+00:00</td>\n",
       "            <td>61.8</td>\n",
       "        </tr>\n",
       "        <tr>\n",
       "            <td>2021-07-28 18:17:43+00:00</td>\n",
       "            <td>61.8</td>\n",
       "        </tr>\n",
       "        <tr>\n",
       "            <td>2021-07-28 18:17:32+00:00</td>\n",
       "            <td>61.8</td>\n",
       "        </tr>\n",
       "        <tr>\n",
       "            <td>2021-07-28 18:17:45+00:00</td>\n",
       "            <td>61.8</td>\n",
       "        </tr>\n",
       "        <tr>\n",
       "            <td>2021-07-28 18:17:52+00:00</td>\n",
       "            <td>61.8</td>\n",
       "        </tr>\n",
       "        <tr>\n",
       "            <td>2021-07-28 18:17:48+00:00</td>\n",
       "            <td>61.8</td>\n",
       "        </tr>\n",
       "        <tr>\n",
       "            <td>2021-07-28 18:18:03+00:00</td>\n",
       "            <td>61.8</td>\n",
       "        </tr>\n",
       "        <tr>\n",
       "            <td>2021-07-28 18:17:59+00:00</td>\n",
       "            <td>61.8</td>\n",
       "        </tr>\n",
       "        <tr>\n",
       "            <td>2021-07-28 18:17:50+00:00</td>\n",
       "            <td>61.8</td>\n",
       "        </tr>\n",
       "        <tr>\n",
       "            <td>2021-07-28 18:18:05+00:00</td>\n",
       "            <td>61.8</td>\n",
       "        </tr>\n",
       "        <tr>\n",
       "            <td>2021-07-28 18:18:21+00:00</td>\n",
       "            <td>61.8</td>\n",
       "        </tr>\n",
       "        <tr>\n",
       "            <td>2021-07-28 18:18:16+00:00</td>\n",
       "            <td>61.8</td>\n",
       "        </tr>\n",
       "        <tr>\n",
       "            <td>2021-07-28 18:18:12+00:00</td>\n",
       "            <td>61.8</td>\n",
       "        </tr>\n",
       "        <tr>\n",
       "            <td>2021-07-28 18:18:25+00:00</td>\n",
       "            <td>61.8</td>\n",
       "        </tr>\n",
       "        <tr>\n",
       "            <td>2021-07-28 18:18:32+00:00</td>\n",
       "            <td>61.8</td>\n",
       "        </tr>\n",
       "        <tr>\n",
       "            <td>2021-07-28 18:18:34+00:00</td>\n",
       "            <td>61.8</td>\n",
       "        </tr>\n",
       "        <tr>\n",
       "            <td>2021-07-28 18:18:23+00:00</td>\n",
       "            <td>61.8</td>\n",
       "        </tr>\n",
       "        <tr>\n",
       "            <td>2021-07-28 18:18:41+00:00</td>\n",
       "            <td>61.8</td>\n",
       "        </tr>\n",
       "        <tr>\n",
       "            <td>2021-07-28 18:18:45+00:00</td>\n",
       "            <td>61.8</td>\n",
       "        </tr>\n",
       "        <tr>\n",
       "            <td>2021-07-28 18:18:36+00:00</td>\n",
       "            <td>61.8</td>\n",
       "        </tr>\n",
       "        <tr>\n",
       "            <td>2021-07-28 18:18:30+00:00</td>\n",
       "            <td>61.8</td>\n",
       "        </tr>\n",
       "        <tr>\n",
       "            <td>2021-07-28 18:18:43+00:00</td>\n",
       "            <td>61.8</td>\n",
       "        </tr>\n",
       "        <tr>\n",
       "            <td>2021-07-28 18:18:47+00:00</td>\n",
       "            <td>61.8</td>\n",
       "        </tr>\n",
       "        <tr>\n",
       "            <td>2021-07-28 18:18:52+00:00</td>\n",
       "            <td>61.8</td>\n",
       "        </tr>\n",
       "        <tr>\n",
       "            <td>2021-07-28 18:18:54+00:00</td>\n",
       "            <td>61.8</td>\n",
       "        </tr>\n",
       "        <tr>\n",
       "            <td>2021-07-28 18:18:38+00:00</td>\n",
       "            <td>61.8</td>\n",
       "        </tr>\n",
       "        <tr>\n",
       "            <td>2021-07-28 18:19:01+00:00</td>\n",
       "            <td>61.8</td>\n",
       "        </tr>\n",
       "        <tr>\n",
       "            <td>2021-07-28 18:15:02+00:00</td>\n",
       "            <td>60.1759296281487</td>\n",
       "        </tr>\n",
       "        <tr>\n",
       "            <td>2021-07-28 18:15:04+00:00</td>\n",
       "            <td>60.1759296281487</td>\n",
       "        </tr>\n",
       "        <tr>\n",
       "            <td>2021-07-28 18:15:09+00:00</td>\n",
       "            <td>60.1759296281487</td>\n",
       "        </tr>\n",
       "        <tr>\n",
       "            <td>2021-07-28 18:15:06+00:00</td>\n",
       "            <td>60.1759296281487</td>\n",
       "        </tr>\n",
       "        <tr>\n",
       "            <td>2021-07-28 18:15:13+00:00</td>\n",
       "            <td>39.7920415916817</td>\n",
       "        </tr>\n",
       "        <tr>\n",
       "            <td>2021-07-28 18:15:15+00:00</td>\n",
       "            <td>99.6597958775265</td>\n",
       "        </tr>\n",
       "        <tr>\n",
       "            <td>2021-07-28 18:15:17+00:00</td>\n",
       "            <td>99.6597958775265</td>\n",
       "        </tr>\n",
       "        <tr>\n",
       "            <td>2021-07-28 18:15:20+00:00</td>\n",
       "            <td>99.6597958775265</td>\n",
       "        </tr>\n",
       "        <tr>\n",
       "            <td>2021-07-28 18:15:31+00:00</td>\n",
       "            <td>39.2</td>\n",
       "        </tr>\n",
       "        <tr>\n",
       "            <td>2021-07-28 18:15:29+00:00</td>\n",
       "            <td>60.5636618029182</td>\n",
       "        </tr>\n",
       "        <tr>\n",
       "            <td>2021-07-28 18:15:22+00:00</td>\n",
       "            <td>60.5636618029182</td>\n",
       "        </tr>\n",
       "        <tr>\n",
       "            <td>2021-07-28 18:15:24+00:00</td>\n",
       "            <td>60.5636618029182</td>\n",
       "        </tr>\n",
       "        <tr>\n",
       "            <td>2021-07-28 18:15:27+00:00</td>\n",
       "            <td>60.5636618029182</td>\n",
       "        </tr>\n",
       "        <tr>\n",
       "            <td>2021-07-28 18:15:38+00:00</td>\n",
       "            <td>99.7600959616153</td>\n",
       "        </tr>\n",
       "        <tr>\n",
       "            <td>2021-07-28 18:15:40+00:00</td>\n",
       "            <td>61</td>\n",
       "        </tr>\n",
       "        <tr>\n",
       "            <td>2021-07-28 18:15:53+00:00</td>\n",
       "            <td>39.1921615676865</td>\n",
       "        </tr>\n",
       "        <tr>\n",
       "            <td>2021-07-28 18:15:58+00:00</td>\n",
       "            <td>99.8</td>\n",
       "        </tr>\n",
       "        <tr>\n",
       "            <td>2021-07-28 18:16:04+00:00</td>\n",
       "            <td>61</td>\n",
       "        </tr>\n",
       "        <tr>\n",
       "            <td>2021-07-28 18:16:18+00:00</td>\n",
       "            <td>99.9800039992002</td>\n",
       "        </tr>\n",
       "        <tr>\n",
       "            <td>2021-07-28 18:16:20+00:00</td>\n",
       "            <td>61.2</td>\n",
       "        </tr>\n",
       "        <tr>\n",
       "            <td>2021-07-28 18:16:26+00:00</td>\n",
       "            <td>61.2</td>\n",
       "        </tr>\n",
       "        <tr>\n",
       "            <td>2021-07-28 18:16:46+00:00</td>\n",
       "            <td>61.6</td>\n",
       "        </tr>\n",
       "        <tr>\n",
       "            <td>2021-07-28 18:16:42+00:00</td>\n",
       "            <td>61.6</td>\n",
       "        </tr>\n",
       "        <tr>\n",
       "            <td>2021-07-28 18:16:49+00:00</td>\n",
       "            <td>61.6</td>\n",
       "        </tr>\n",
       "        <tr>\n",
       "            <td>2021-07-28 18:16:57+00:00</td>\n",
       "            <td>99.619923984797</td>\n",
       "        </tr>\n",
       "        <tr>\n",
       "            <td>2021-07-28 18:17:30+00:00</td>\n",
       "            <td>61.8</td>\n",
       "        </tr>\n",
       "        <tr>\n",
       "            <td>2021-07-28 18:17:41+00:00</td>\n",
       "            <td>61.8</td>\n",
       "        </tr>\n",
       "        <tr>\n",
       "            <td>2021-07-28 18:18:10+00:00</td>\n",
       "            <td>61.8</td>\n",
       "        </tr>\n",
       "        <tr>\n",
       "            <td>2021-07-28 18:18:14+00:00</td>\n",
       "            <td>61.8</td>\n",
       "        </tr>\n",
       "        <tr>\n",
       "            <td>2021-07-28 18:18:19+00:00</td>\n",
       "            <td>61.8</td>\n",
       "        </tr>\n",
       "        <tr>\n",
       "            <td>2021-07-28 18:18:07+00:00</td>\n",
       "            <td>61.8</td>\n",
       "        </tr>\n",
       "        <tr>\n",
       "            <td>2021-07-28 18:18:27+00:00</td>\n",
       "            <td>61.8</td>\n",
       "        </tr>\n",
       "    </tbody>\n",
       "</table>\n",
       "        </body>\n",
       "        </html>"
      ],
      "text/plain": [
       "<IPython.core.display.HTML object>"
      ]
     },
     "metadata": {},
     "output_type": "display_data"
    },
    {
     "data": {
      "text/html": [
       "<html>\n",
       "        <head>\n",
       "            \n",
       "            \n",
       "        </head>\n",
       "        <body>\n",
       "            <div><p style=' padding: 10px; color: #3a87ad; background-color: #d9edf7; border-color: #bce9f1'>Done&nbsp;(00:02.815):&nbsp;105&nbsp;records</p></div>\n",
       "        </body>\n",
       "        </html>"
      ],
      "text/plain": [
       "<IPython.core.display.HTML object>"
      ]
     },
     "metadata": {},
     "output_type": "display_data"
    },
    {
     "data": {
      "text/html": [],
      "text/plain": [
       "[{'TimeGenerated': datetime.datetime(2021, 7, 28, 18, 15, 33, tzinfo=tzutc()), 'Val': 39.2},\n",
       " {'TimeGenerated': datetime.datetime(2021, 7, 28, 18, 15, 47, tzinfo=tzutc()), 'Val': 61},\n",
       " {'TimeGenerated': datetime.datetime(2021, 7, 28, 18, 15, 49, tzinfo=tzutc()), 'Val': 61},\n",
       " {'TimeGenerated': datetime.datetime(2021, 7, 28, 18, 16, 2, tzinfo=tzutc()), 'Val': 61},\n",
       " {'TimeGenerated': datetime.datetime(2021, 7, 28, 18, 16, 11, tzinfo=tzutc()), 'Val': 38.8310648518815},\n",
       " {'TimeGenerated': datetime.datetime(2021, 7, 28, 18, 16, 7, tzinfo=tzutc()), 'Val': 61},\n",
       " {'TimeGenerated': datetime.datetime(2021, 7, 28, 18, 16, 51, tzinfo=tzutc()), 'Val': 38.6},\n",
       " {'TimeGenerated': datetime.datetime(2021, 7, 28, 18, 16, 55, tzinfo=tzutc()), 'Val': 99.619923984797},\n",
       " {'TimeGenerated': datetime.datetime(2021, 7, 28, 18, 17, tzinfo=tzutc()), 'Val': 99.619923984797},\n",
       " {'TimeGenerated': datetime.datetime(2021, 7, 28, 18, 17, 2, tzinfo=tzutc()), 'Val': 61.8},\n",
       " {'TimeGenerated': datetime.datetime(2021, 7, 28, 18, 17, 13, tzinfo=tzutc()), 'Val': 61.8},\n",
       " {'TimeGenerated': datetime.datetime(2021, 7, 28, 18, 17, 37, tzinfo=tzutc()), 'Val': 61.8},\n",
       " {'TimeGenerated': datetime.datetime(2021, 7, 28, 18, 17, 54, tzinfo=tzutc()), 'Val': 61.8},\n",
       " {'TimeGenerated': datetime.datetime(2021, 7, 28, 18, 17, 56, tzinfo=tzutc()), 'Val': 61.8},\n",
       " {'TimeGenerated': datetime.datetime(2021, 7, 28, 18, 18, 1, tzinfo=tzutc()), 'Val': 61.8},\n",
       " {'TimeGenerated': datetime.datetime(2021, 7, 28, 18, 18, 49, tzinfo=tzutc()), 'Val': 61.8},\n",
       " {'TimeGenerated': datetime.datetime(2021, 7, 28, 18, 15, 11, tzinfo=tzutc()), 'Val': 39.7920415916817},\n",
       " {'TimeGenerated': datetime.datetime(2021, 7, 28, 18, 15, 35, tzinfo=tzutc()), 'Val': 99.7600959616153},\n",
       " {'TimeGenerated': datetime.datetime(2021, 7, 28, 18, 15, 44, tzinfo=tzutc()), 'Val': 61},\n",
       " {'TimeGenerated': datetime.datetime(2021, 7, 28, 18, 15, 42, tzinfo=tzutc()), 'Val': 61},\n",
       " {'TimeGenerated': datetime.datetime(2021, 7, 28, 18, 15, 51, tzinfo=tzutc()), 'Val': 39.1921615676865},\n",
       " {'TimeGenerated': datetime.datetime(2021, 7, 28, 18, 15, 55, tzinfo=tzutc()), 'Val': 99.8},\n",
       " {'TimeGenerated': datetime.datetime(2021, 7, 28, 18, 16, tzinfo=tzutc()), 'Val': 61},\n",
       " {'TimeGenerated': datetime.datetime(2021, 7, 28, 18, 16, 9, tzinfo=tzutc()), 'Val': 61},\n",
       " {'TimeGenerated': datetime.datetime(2021, 7, 28, 18, 16, 13, tzinfo=tzutc()), 'Val': 38.8310648518815},\n",
       " {'TimeGenerated': datetime.datetime(2021, 7, 28, 18, 16, 16, tzinfo=tzutc()), 'Val': 99.9800039992002},\n",
       " {'TimeGenerated': datetime.datetime(2021, 7, 28, 18, 16, 22, tzinfo=tzutc()), 'Val': 61.2},\n",
       " {'TimeGenerated': datetime.datetime(2021, 7, 28, 18, 16, 35, tzinfo=tzutc()), 'Val': 99.7800439912018},\n",
       " {'TimeGenerated': datetime.datetime(2021, 7, 28, 18, 16, 28, tzinfo=tzutc()), 'Val': 61.2},\n",
       " {'TimeGenerated': datetime.datetime(2021, 7, 28, 18, 16, 31, tzinfo=tzutc()), 'Val': 38.6},\n",
       " {'TimeGenerated': datetime.datetime(2021, 7, 28, 18, 16, 33, tzinfo=tzutc()), 'Val': 38.6},\n",
       " {'TimeGenerated': datetime.datetime(2021, 7, 28, 18, 16, 40, tzinfo=tzutc()), 'Val': 99.7800439912018},\n",
       " {'TimeGenerated': datetime.datetime(2021, 7, 28, 18, 16, 38, tzinfo=tzutc()), 'Val': 99.7800439912018},\n",
       " {'TimeGenerated': datetime.datetime(2021, 7, 28, 18, 16, 44, tzinfo=tzutc()), 'Val': 61.6},\n",
       " {'TimeGenerated': datetime.datetime(2021, 7, 28, 18, 16, 53, tzinfo=tzutc()), 'Val': 38.6},\n",
       " {'TimeGenerated': datetime.datetime(2021, 7, 28, 18, 17, 6, tzinfo=tzutc()), 'Val': 61.8},\n",
       " {'TimeGenerated': datetime.datetime(2021, 7, 28, 18, 17, 4, tzinfo=tzutc()), 'Val': 61.8},\n",
       " {'TimeGenerated': datetime.datetime(2021, 7, 28, 18, 17, 11, tzinfo=tzutc()), 'Val': 61.8},\n",
       " {'TimeGenerated': datetime.datetime(2021, 7, 28, 18, 17, 16, tzinfo=tzutc()), 'Val': 61.8},\n",
       " {'TimeGenerated': datetime.datetime(2021, 7, 28, 18, 17, 19, tzinfo=tzutc()), 'Val': 61.8},\n",
       " {'TimeGenerated': datetime.datetime(2021, 7, 28, 18, 17, 8, tzinfo=tzutc()), 'Val': 61.8},\n",
       " {'TimeGenerated': datetime.datetime(2021, 7, 28, 18, 17, 21, tzinfo=tzutc()), 'Val': 61.8},\n",
       " {'TimeGenerated': datetime.datetime(2021, 7, 28, 18, 17, 25, tzinfo=tzutc()), 'Val': 61.8},\n",
       " {'TimeGenerated': datetime.datetime(2021, 7, 28, 18, 17, 23, tzinfo=tzutc()), 'Val': 61.8},\n",
       " {'TimeGenerated': datetime.datetime(2021, 7, 28, 18, 17, 27, tzinfo=tzutc()), 'Val': 61.8},\n",
       " {'TimeGenerated': datetime.datetime(2021, 7, 28, 18, 17, 39, tzinfo=tzutc()), 'Val': 61.8},\n",
       " {'TimeGenerated': datetime.datetime(2021, 7, 28, 18, 17, 34, tzinfo=tzutc()), 'Val': 61.8},\n",
       " {'TimeGenerated': datetime.datetime(2021, 7, 28, 18, 17, 43, tzinfo=tzutc()), 'Val': 61.8},\n",
       " {'TimeGenerated': datetime.datetime(2021, 7, 28, 18, 17, 32, tzinfo=tzutc()), 'Val': 61.8},\n",
       " {'TimeGenerated': datetime.datetime(2021, 7, 28, 18, 17, 45, tzinfo=tzutc()), 'Val': 61.8},\n",
       " {'TimeGenerated': datetime.datetime(2021, 7, 28, 18, 17, 52, tzinfo=tzutc()), 'Val': 61.8},\n",
       " {'TimeGenerated': datetime.datetime(2021, 7, 28, 18, 17, 48, tzinfo=tzutc()), 'Val': 61.8},\n",
       " {'TimeGenerated': datetime.datetime(2021, 7, 28, 18, 18, 3, tzinfo=tzutc()), 'Val': 61.8},\n",
       " {'TimeGenerated': datetime.datetime(2021, 7, 28, 18, 17, 59, tzinfo=tzutc()), 'Val': 61.8},\n",
       " {'TimeGenerated': datetime.datetime(2021, 7, 28, 18, 17, 50, tzinfo=tzutc()), 'Val': 61.8},\n",
       " {'TimeGenerated': datetime.datetime(2021, 7, 28, 18, 18, 5, tzinfo=tzutc()), 'Val': 61.8},\n",
       " {'TimeGenerated': datetime.datetime(2021, 7, 28, 18, 18, 21, tzinfo=tzutc()), 'Val': 61.8},\n",
       " {'TimeGenerated': datetime.datetime(2021, 7, 28, 18, 18, 16, tzinfo=tzutc()), 'Val': 61.8},\n",
       " {'TimeGenerated': datetime.datetime(2021, 7, 28, 18, 18, 12, tzinfo=tzutc()), 'Val': 61.8},\n",
       " {'TimeGenerated': datetime.datetime(2021, 7, 28, 18, 18, 25, tzinfo=tzutc()), 'Val': 61.8},\n",
       " {'TimeGenerated': datetime.datetime(2021, 7, 28, 18, 18, 32, tzinfo=tzutc()), 'Val': 61.8},\n",
       " {'TimeGenerated': datetime.datetime(2021, 7, 28, 18, 18, 34, tzinfo=tzutc()), 'Val': 61.8},\n",
       " {'TimeGenerated': datetime.datetime(2021, 7, 28, 18, 18, 23, tzinfo=tzutc()), 'Val': 61.8},\n",
       " {'TimeGenerated': datetime.datetime(2021, 7, 28, 18, 18, 41, tzinfo=tzutc()), 'Val': 61.8},\n",
       " {'TimeGenerated': datetime.datetime(2021, 7, 28, 18, 18, 45, tzinfo=tzutc()), 'Val': 61.8},\n",
       " {'TimeGenerated': datetime.datetime(2021, 7, 28, 18, 18, 36, tzinfo=tzutc()), 'Val': 61.8},\n",
       " {'TimeGenerated': datetime.datetime(2021, 7, 28, 18, 18, 30, tzinfo=tzutc()), 'Val': 61.8},\n",
       " {'TimeGenerated': datetime.datetime(2021, 7, 28, 18, 18, 43, tzinfo=tzutc()), 'Val': 61.8},\n",
       " {'TimeGenerated': datetime.datetime(2021, 7, 28, 18, 18, 47, tzinfo=tzutc()), 'Val': 61.8},\n",
       " {'TimeGenerated': datetime.datetime(2021, 7, 28, 18, 18, 52, tzinfo=tzutc()), 'Val': 61.8},\n",
       " {'TimeGenerated': datetime.datetime(2021, 7, 28, 18, 18, 54, tzinfo=tzutc()), 'Val': 61.8},\n",
       " {'TimeGenerated': datetime.datetime(2021, 7, 28, 18, 18, 38, tzinfo=tzutc()), 'Val': 61.8},\n",
       " {'TimeGenerated': datetime.datetime(2021, 7, 28, 18, 19, 1, tzinfo=tzutc()), 'Val': 61.8},\n",
       " {'TimeGenerated': datetime.datetime(2021, 7, 28, 18, 15, 2, tzinfo=tzutc()), 'Val': 60.1759296281487},\n",
       " {'TimeGenerated': datetime.datetime(2021, 7, 28, 18, 15, 4, tzinfo=tzutc()), 'Val': 60.1759296281487},\n",
       " {'TimeGenerated': datetime.datetime(2021, 7, 28, 18, 15, 9, tzinfo=tzutc()), 'Val': 60.1759296281487},\n",
       " {'TimeGenerated': datetime.datetime(2021, 7, 28, 18, 15, 6, tzinfo=tzutc()), 'Val': 60.1759296281487},\n",
       " {'TimeGenerated': datetime.datetime(2021, 7, 28, 18, 15, 13, tzinfo=tzutc()), 'Val': 39.7920415916817},\n",
       " {'TimeGenerated': datetime.datetime(2021, 7, 28, 18, 15, 15, tzinfo=tzutc()), 'Val': 99.6597958775265},\n",
       " {'TimeGenerated': datetime.datetime(2021, 7, 28, 18, 15, 17, tzinfo=tzutc()), 'Val': 99.6597958775265},\n",
       " {'TimeGenerated': datetime.datetime(2021, 7, 28, 18, 15, 20, tzinfo=tzutc()), 'Val': 99.6597958775265},\n",
       " {'TimeGenerated': datetime.datetime(2021, 7, 28, 18, 15, 31, tzinfo=tzutc()), 'Val': 39.2},\n",
       " {'TimeGenerated': datetime.datetime(2021, 7, 28, 18, 15, 29, tzinfo=tzutc()), 'Val': 60.5636618029182},\n",
       " {'TimeGenerated': datetime.datetime(2021, 7, 28, 18, 15, 22, tzinfo=tzutc()), 'Val': 60.5636618029182},\n",
       " {'TimeGenerated': datetime.datetime(2021, 7, 28, 18, 15, 24, tzinfo=tzutc()), 'Val': 60.5636618029182},\n",
       " {'TimeGenerated': datetime.datetime(2021, 7, 28, 18, 15, 27, tzinfo=tzutc()), 'Val': 60.5636618029182},\n",
       " {'TimeGenerated': datetime.datetime(2021, 7, 28, 18, 15, 38, tzinfo=tzutc()), 'Val': 99.7600959616153},\n",
       " {'TimeGenerated': datetime.datetime(2021, 7, 28, 18, 15, 40, tzinfo=tzutc()), 'Val': 61},\n",
       " {'TimeGenerated': datetime.datetime(2021, 7, 28, 18, 15, 53, tzinfo=tzutc()), 'Val': 39.1921615676865},\n",
       " {'TimeGenerated': datetime.datetime(2021, 7, 28, 18, 15, 58, tzinfo=tzutc()), 'Val': 99.8},\n",
       " {'TimeGenerated': datetime.datetime(2021, 7, 28, 18, 16, 4, tzinfo=tzutc()), 'Val': 61},\n",
       " {'TimeGenerated': datetime.datetime(2021, 7, 28, 18, 16, 18, tzinfo=tzutc()), 'Val': 99.9800039992002},\n",
       " {'TimeGenerated': datetime.datetime(2021, 7, 28, 18, 16, 20, tzinfo=tzutc()), 'Val': 61.2},\n",
       " {'TimeGenerated': datetime.datetime(2021, 7, 28, 18, 16, 26, tzinfo=tzutc()), 'Val': 61.2},\n",
       " {'TimeGenerated': datetime.datetime(2021, 7, 28, 18, 16, 46, tzinfo=tzutc()), 'Val': 61.6},\n",
       " {'TimeGenerated': datetime.datetime(2021, 7, 28, 18, 16, 42, tzinfo=tzutc()), 'Val': 61.6},\n",
       " {'TimeGenerated': datetime.datetime(2021, 7, 28, 18, 16, 49, tzinfo=tzutc()), 'Val': 61.6},\n",
       " {'TimeGenerated': datetime.datetime(2021, 7, 28, 18, 16, 57, tzinfo=tzutc()), 'Val': 99.619923984797},\n",
       " {'TimeGenerated': datetime.datetime(2021, 7, 28, 18, 17, 30, tzinfo=tzutc()), 'Val': 61.8},\n",
       " {'TimeGenerated': datetime.datetime(2021, 7, 28, 18, 17, 41, tzinfo=tzutc()), 'Val': 61.8},\n",
       " {'TimeGenerated': datetime.datetime(2021, 7, 28, 18, 18, 10, tzinfo=tzutc()), 'Val': 61.8},\n",
       " {'TimeGenerated': datetime.datetime(2021, 7, 28, 18, 18, 14, tzinfo=tzutc()), 'Val': 61.8},\n",
       " {'TimeGenerated': datetime.datetime(2021, 7, 28, 18, 18, 19, tzinfo=tzutc()), 'Val': 61.8},\n",
       " {'TimeGenerated': datetime.datetime(2021, 7, 28, 18, 18, 7, tzinfo=tzutc()), 'Val': 61.8},\n",
       " {'TimeGenerated': datetime.datetime(2021, 7, 28, 18, 18, 27, tzinfo=tzutc()), 'Val': 61.8}]"
      ]
     },
     "execution_count": 24,
     "metadata": {},
     "output_type": "execute_result"
    }
   ],
   "source": [
    "%%kql\n",
    "    let _start=testStart;\n",
    "    let _stop=testStop;\n",
    "    let _module_id=\"sink\";\n",
    "    let _input_index=\"input1\";\n",
    "    InsightsMetrics\n",
    "    | where Origin == \"iot.azm.ms\" and Namespace == \"metricsmodule\"\n",
    "    | where Name == \"rate\"\n",
    "    | extend dimensions = parse_json(Tags)\n",
    "    | extend module_id = dimensions.module_id\n",
    "    | extend channel = dimensions.input_index\n",
    "    | where module_id == _module_id and dimensions.input_index == _input_index\n",
    "    | where TimeGenerated > _start and TimeGenerated < _stop\n",
    "    | project TimeGenerated, Val"
   ]
  },
  {
   "cell_type": "code",
   "execution_count": 26,
   "metadata": {},
   "outputs": [],
   "source": [
    "df = _kql_raw_result_.to_dataframe()\n",
    "df = df.sort_values(by=['TimeGenerated'])"
   ]
  },
  {
   "cell_type": "code",
   "execution_count": 27,
   "metadata": {},
   "outputs": [],
   "source": [
    "sinkRateDf = df"
   ]
  },
  {
   "cell_type": "code",
   "execution_count": 28,
   "metadata": {},
   "outputs": [
    {
     "data": {
      "application/vnd.plotly.v1+json": {
       "config": {
        "plotlyServerURL": "https://plot.ly"
       },
       "data": [
        {
         "type": "scatter",
         "x": [
          "2021-07-28T18:15:02+00:00",
          "2021-07-28T18:15:04+00:00",
          "2021-07-28T18:15:06+00:00",
          "2021-07-28T18:15:09+00:00",
          "2021-07-28T18:15:11+00:00",
          "2021-07-28T18:15:13+00:00",
          "2021-07-28T18:15:15+00:00",
          "2021-07-28T18:15:17+00:00",
          "2021-07-28T18:15:20+00:00",
          "2021-07-28T18:15:22+00:00",
          "2021-07-28T18:15:24+00:00",
          "2021-07-28T18:15:27+00:00",
          "2021-07-28T18:15:29+00:00",
          "2021-07-28T18:15:31+00:00",
          "2021-07-28T18:15:33+00:00",
          "2021-07-28T18:15:35+00:00",
          "2021-07-28T18:15:38+00:00",
          "2021-07-28T18:15:40+00:00",
          "2021-07-28T18:15:42+00:00",
          "2021-07-28T18:15:44+00:00",
          "2021-07-28T18:15:47+00:00",
          "2021-07-28T18:15:49+00:00",
          "2021-07-28T18:15:51+00:00",
          "2021-07-28T18:15:53+00:00",
          "2021-07-28T18:15:55+00:00",
          "2021-07-28T18:15:58+00:00",
          "2021-07-28T18:16:00+00:00",
          "2021-07-28T18:16:02+00:00",
          "2021-07-28T18:16:04+00:00",
          "2021-07-28T18:16:07+00:00",
          "2021-07-28T18:16:09+00:00",
          "2021-07-28T18:16:11+00:00",
          "2021-07-28T18:16:13+00:00",
          "2021-07-28T18:16:16+00:00",
          "2021-07-28T18:16:18+00:00",
          "2021-07-28T18:16:20+00:00",
          "2021-07-28T18:16:22+00:00",
          "2021-07-28T18:16:26+00:00",
          "2021-07-28T18:16:28+00:00",
          "2021-07-28T18:16:31+00:00",
          "2021-07-28T18:16:33+00:00",
          "2021-07-28T18:16:35+00:00",
          "2021-07-28T18:16:38+00:00",
          "2021-07-28T18:16:40+00:00",
          "2021-07-28T18:16:42+00:00",
          "2021-07-28T18:16:44+00:00",
          "2021-07-28T18:16:46+00:00",
          "2021-07-28T18:16:49+00:00",
          "2021-07-28T18:16:51+00:00",
          "2021-07-28T18:16:53+00:00",
          "2021-07-28T18:16:55+00:00",
          "2021-07-28T18:16:57+00:00",
          "2021-07-28T18:17:00+00:00",
          "2021-07-28T18:17:02+00:00",
          "2021-07-28T18:17:04+00:00",
          "2021-07-28T18:17:06+00:00",
          "2021-07-28T18:17:08+00:00",
          "2021-07-28T18:17:11+00:00",
          "2021-07-28T18:17:13+00:00",
          "2021-07-28T18:17:16+00:00",
          "2021-07-28T18:17:19+00:00",
          "2021-07-28T18:17:21+00:00",
          "2021-07-28T18:17:23+00:00",
          "2021-07-28T18:17:25+00:00",
          "2021-07-28T18:17:27+00:00",
          "2021-07-28T18:17:30+00:00",
          "2021-07-28T18:17:32+00:00",
          "2021-07-28T18:17:34+00:00",
          "2021-07-28T18:17:37+00:00",
          "2021-07-28T18:17:39+00:00",
          "2021-07-28T18:17:41+00:00",
          "2021-07-28T18:17:43+00:00",
          "2021-07-28T18:17:45+00:00",
          "2021-07-28T18:17:48+00:00",
          "2021-07-28T18:17:50+00:00",
          "2021-07-28T18:17:52+00:00",
          "2021-07-28T18:17:54+00:00",
          "2021-07-28T18:17:56+00:00",
          "2021-07-28T18:17:59+00:00",
          "2021-07-28T18:18:01+00:00",
          "2021-07-28T18:18:03+00:00",
          "2021-07-28T18:18:05+00:00",
          "2021-07-28T18:18:10+00:00",
          "2021-07-28T18:18:12+00:00",
          "2021-07-28T18:18:14+00:00",
          "2021-07-28T18:18:16+00:00",
          "2021-07-28T18:18:19+00:00",
          "2021-07-28T18:18:21+00:00",
          "2021-07-28T18:18:23+00:00",
          "2021-07-28T18:18:25+00:00",
          "2021-07-28T18:18:30+00:00",
          "2021-07-28T18:18:32+00:00",
          "2021-07-28T18:18:34+00:00",
          "2021-07-28T18:18:36+00:00",
          "2021-07-28T18:18:41+00:00",
          "2021-07-28T18:18:43+00:00",
          "2021-07-28T18:18:45+00:00",
          "2021-07-28T18:18:47+00:00",
          "2021-07-28T18:18:49+00:00",
          "2021-07-28T18:18:52+00:00",
          "2021-07-28T18:18:54+00:00"
         ],
         "xaxis": "x",
         "y": [
          99.8599159495697,
          3.19744204636291,
          3.19744204636291,
          0,
          0,
          103.179364127175,
          103.179364127175,
          103.179364127175,
          99.8,
          99.8,
          3.39932013597281,
          3.39932013597281,
          0,
          0,
          103.379324135173,
          103.379324135173,
          99.8199639927986,
          99.8199639927986,
          99.8199639927986,
          3.6,
          3.6,
          0,
          0,
          103.620724144829,
          103.620724144829,
          103.620724144829,
          99.7401559064561,
          99.7401559064561,
          3.80228136882129,
          3.80228136882129,
          0,
          0,
          104.020804160832,
          104.020804160832,
          99.8,
          99.8,
          99.8,
          4.19832067173131,
          0,
          0,
          104.241696678671,
          104.241696678671,
          104.241696678671,
          99.9800039992002,
          99.9800039992002,
          4.19916016796641,
          4.19916016796641,
          0,
          0,
          104.158336665334,
          104.158336665334,
          104.158336665334,
          99.619923984797,
          99.619923984797,
          4.60092018403681,
          4.60092018403681,
          0,
          0,
          0,
          0,
          0,
          0,
          0,
          0,
          0,
          0,
          0,
          0,
          0,
          0,
          0,
          0,
          0,
          0,
          0,
          0,
          0,
          0,
          0,
          0,
          0,
          0,
          0,
          0,
          0,
          0,
          0,
          0,
          0,
          0,
          0,
          0,
          0,
          0,
          0,
          0,
          0,
          0,
          0,
          0,
          0
         ],
         "yaxis": "y"
        },
        {
         "type": "scatter",
         "x": [
          "2021-07-28T18:15:02+00:00",
          "2021-07-28T18:15:04+00:00",
          "2021-07-28T18:15:06+00:00",
          "2021-07-28T18:15:09+00:00",
          "2021-07-28T18:15:11+00:00",
          "2021-07-28T18:15:13+00:00",
          "2021-07-28T18:15:15+00:00",
          "2021-07-28T18:15:17+00:00",
          "2021-07-28T18:15:20+00:00",
          "2021-07-28T18:15:22+00:00",
          "2021-07-28T18:15:24+00:00",
          "2021-07-28T18:15:27+00:00",
          "2021-07-28T18:15:29+00:00",
          "2021-07-28T18:15:31+00:00",
          "2021-07-28T18:15:33+00:00",
          "2021-07-28T18:15:35+00:00",
          "2021-07-28T18:15:38+00:00",
          "2021-07-28T18:15:40+00:00",
          "2021-07-28T18:15:42+00:00",
          "2021-07-28T18:15:44+00:00",
          "2021-07-28T18:15:47+00:00",
          "2021-07-28T18:15:49+00:00",
          "2021-07-28T18:15:51+00:00",
          "2021-07-28T18:15:53+00:00",
          "2021-07-28T18:15:55+00:00",
          "2021-07-28T18:15:58+00:00",
          "2021-07-28T18:16:00+00:00",
          "2021-07-28T18:16:02+00:00",
          "2021-07-28T18:16:04+00:00",
          "2021-07-28T18:16:07+00:00",
          "2021-07-28T18:16:09+00:00",
          "2021-07-28T18:16:11+00:00",
          "2021-07-28T18:16:13+00:00",
          "2021-07-28T18:16:16+00:00",
          "2021-07-28T18:16:18+00:00",
          "2021-07-28T18:16:20+00:00",
          "2021-07-28T18:16:22+00:00",
          "2021-07-28T18:16:26+00:00",
          "2021-07-28T18:16:28+00:00",
          "2021-07-28T18:16:31+00:00",
          "2021-07-28T18:16:33+00:00",
          "2021-07-28T18:16:35+00:00",
          "2021-07-28T18:16:38+00:00",
          "2021-07-28T18:16:40+00:00",
          "2021-07-28T18:16:42+00:00",
          "2021-07-28T18:16:44+00:00",
          "2021-07-28T18:16:46+00:00",
          "2021-07-28T18:16:49+00:00",
          "2021-07-28T18:16:51+00:00",
          "2021-07-28T18:16:53+00:00",
          "2021-07-28T18:16:55+00:00",
          "2021-07-28T18:16:57+00:00",
          "2021-07-28T18:17:00+00:00",
          "2021-07-28T18:17:02+00:00",
          "2021-07-28T18:17:04+00:00",
          "2021-07-28T18:17:06+00:00",
          "2021-07-28T18:17:08+00:00",
          "2021-07-28T18:17:11+00:00",
          "2021-07-28T18:17:13+00:00",
          "2021-07-28T18:17:16+00:00",
          "2021-07-28T18:17:19+00:00",
          "2021-07-28T18:17:21+00:00",
          "2021-07-28T18:17:23+00:00",
          "2021-07-28T18:17:25+00:00",
          "2021-07-28T18:17:27+00:00",
          "2021-07-28T18:17:30+00:00",
          "2021-07-28T18:17:32+00:00",
          "2021-07-28T18:17:34+00:00",
          "2021-07-28T18:17:37+00:00",
          "2021-07-28T18:17:39+00:00",
          "2021-07-28T18:17:41+00:00",
          "2021-07-28T18:17:43+00:00",
          "2021-07-28T18:17:45+00:00",
          "2021-07-28T18:17:48+00:00",
          "2021-07-28T18:17:50+00:00",
          "2021-07-28T18:17:52+00:00",
          "2021-07-28T18:17:54+00:00",
          "2021-07-28T18:17:56+00:00",
          "2021-07-28T18:17:59+00:00",
          "2021-07-28T18:18:01+00:00",
          "2021-07-28T18:18:03+00:00",
          "2021-07-28T18:18:05+00:00",
          "2021-07-28T18:18:07+00:00",
          "2021-07-28T18:18:10+00:00",
          "2021-07-28T18:18:12+00:00",
          "2021-07-28T18:18:14+00:00",
          "2021-07-28T18:18:16+00:00",
          "2021-07-28T18:18:19+00:00",
          "2021-07-28T18:18:21+00:00",
          "2021-07-28T18:18:23+00:00",
          "2021-07-28T18:18:25+00:00",
          "2021-07-28T18:18:27+00:00",
          "2021-07-28T18:18:30+00:00",
          "2021-07-28T18:18:32+00:00",
          "2021-07-28T18:18:34+00:00",
          "2021-07-28T18:18:36+00:00",
          "2021-07-28T18:18:38+00:00",
          "2021-07-28T18:18:41+00:00",
          "2021-07-28T18:18:43+00:00",
          "2021-07-28T18:18:45+00:00",
          "2021-07-28T18:18:47+00:00",
          "2021-07-28T18:18:49+00:00",
          "2021-07-28T18:18:52+00:00",
          "2021-07-28T18:18:54+00:00",
          "2021-07-28T18:19:01+00:00"
         ],
         "xaxis": "x2",
         "y": [
          99.8599159495697,
          3.19744204636291,
          3.19744204636291,
          0,
          0,
          103.179364127175,
          103.179364127175,
          103.179364127175,
          99.8,
          99.8,
          3.39932013597281,
          3.39932013597281,
          0,
          0,
          103.379324135173,
          103.379324135173,
          99.8199639927986,
          99.8199639927986,
          99.8199639927986,
          3.6,
          3.6,
          0,
          0,
          103.620724144829,
          103.620724144829,
          103.620724144829,
          99.7401559064561,
          99.7401559064561,
          3.80228136882129,
          3.80228136882129,
          0,
          0,
          104.020804160832,
          104.020804160832,
          99.8,
          99.8,
          99.8,
          4.19832067173131,
          0,
          0,
          104.241696678671,
          104.241696678671,
          104.241696678671,
          99.9800039992002,
          99.9800039992002,
          4.19916016796641,
          4.19916016796641,
          0,
          0,
          104.158336665334,
          104.158336665334,
          104.158336665334,
          99.619923984797,
          99.619923984797,
          4.60092018403681,
          4.60092018403681,
          0,
          0,
          0,
          0,
          0,
          0,
          0,
          0,
          0,
          0,
          0,
          0,
          0,
          0,
          0,
          0,
          0,
          0,
          0,
          0,
          0,
          0,
          0,
          0,
          0,
          0,
          0,
          0,
          0,
          0,
          0,
          0,
          0,
          0,
          0,
          0,
          0,
          0,
          0,
          0,
          0,
          0,
          0,
          0,
          0
         ],
         "yaxis": "y2"
        },
        {
         "type": "scatter",
         "x": [],
         "xaxis": "x3",
         "y": [
          99.8599159495697,
          3.19744204636291,
          3.19744204636291,
          0,
          0,
          103.179364127175,
          103.179364127175,
          103.179364127175,
          99.8,
          99.8,
          3.39932013597281,
          3.39932013597281,
          0,
          0,
          103.379324135173,
          103.379324135173,
          99.8199639927986,
          99.8199639927986,
          99.8199639927986,
          3.6,
          3.6,
          0,
          0,
          103.620724144829,
          103.620724144829,
          103.620724144829,
          99.7401559064561,
          99.7401559064561,
          3.80228136882129,
          3.80228136882129,
          0,
          0,
          104.020804160832,
          104.020804160832,
          99.8,
          99.8,
          99.8,
          4.19832067173131,
          0,
          0,
          104.241696678671,
          104.241696678671,
          104.241696678671,
          99.9800039992002,
          99.9800039992002,
          4.19916016796641,
          4.19916016796641,
          0,
          0,
          104.158336665334,
          104.158336665334,
          104.158336665334,
          99.619923984797,
          99.619923984797,
          4.60092018403681,
          4.60092018403681,
          0,
          0,
          0,
          0,
          0,
          0,
          0,
          0,
          0,
          0,
          0,
          0,
          0,
          0,
          0,
          0,
          0,
          0,
          0,
          0,
          0,
          0,
          0,
          0,
          0,
          0,
          0,
          0,
          0,
          0,
          0,
          0,
          0,
          0,
          0,
          0,
          0,
          0,
          0,
          0,
          0,
          0,
          0,
          0,
          0
         ],
         "yaxis": "y3"
        }
       ],
       "layout": {
        "template": {
         "data": {
          "bar": [
           {
            "error_x": {
             "color": "#2a3f5f"
            },
            "error_y": {
             "color": "#2a3f5f"
            },
            "marker": {
             "line": {
              "color": "#E5ECF6",
              "width": 0.5
             },
             "pattern": {
              "fillmode": "overlay",
              "size": 10,
              "solidity": 0.2
             }
            },
            "type": "bar"
           }
          ],
          "barpolar": [
           {
            "marker": {
             "line": {
              "color": "#E5ECF6",
              "width": 0.5
             },
             "pattern": {
              "fillmode": "overlay",
              "size": 10,
              "solidity": 0.2
             }
            },
            "type": "barpolar"
           }
          ],
          "carpet": [
           {
            "aaxis": {
             "endlinecolor": "#2a3f5f",
             "gridcolor": "white",
             "linecolor": "white",
             "minorgridcolor": "white",
             "startlinecolor": "#2a3f5f"
            },
            "baxis": {
             "endlinecolor": "#2a3f5f",
             "gridcolor": "white",
             "linecolor": "white",
             "minorgridcolor": "white",
             "startlinecolor": "#2a3f5f"
            },
            "type": "carpet"
           }
          ],
          "choropleth": [
           {
            "colorbar": {
             "outlinewidth": 0,
             "ticks": ""
            },
            "type": "choropleth"
           }
          ],
          "contour": [
           {
            "colorbar": {
             "outlinewidth": 0,
             "ticks": ""
            },
            "colorscale": [
             [
              0,
              "#0d0887"
             ],
             [
              0.1111111111111111,
              "#46039f"
             ],
             [
              0.2222222222222222,
              "#7201a8"
             ],
             [
              0.3333333333333333,
              "#9c179e"
             ],
             [
              0.4444444444444444,
              "#bd3786"
             ],
             [
              0.5555555555555556,
              "#d8576b"
             ],
             [
              0.6666666666666666,
              "#ed7953"
             ],
             [
              0.7777777777777778,
              "#fb9f3a"
             ],
             [
              0.8888888888888888,
              "#fdca26"
             ],
             [
              1,
              "#f0f921"
             ]
            ],
            "type": "contour"
           }
          ],
          "contourcarpet": [
           {
            "colorbar": {
             "outlinewidth": 0,
             "ticks": ""
            },
            "type": "contourcarpet"
           }
          ],
          "heatmap": [
           {
            "colorbar": {
             "outlinewidth": 0,
             "ticks": ""
            },
            "colorscale": [
             [
              0,
              "#0d0887"
             ],
             [
              0.1111111111111111,
              "#46039f"
             ],
             [
              0.2222222222222222,
              "#7201a8"
             ],
             [
              0.3333333333333333,
              "#9c179e"
             ],
             [
              0.4444444444444444,
              "#bd3786"
             ],
             [
              0.5555555555555556,
              "#d8576b"
             ],
             [
              0.6666666666666666,
              "#ed7953"
             ],
             [
              0.7777777777777778,
              "#fb9f3a"
             ],
             [
              0.8888888888888888,
              "#fdca26"
             ],
             [
              1,
              "#f0f921"
             ]
            ],
            "type": "heatmap"
           }
          ],
          "heatmapgl": [
           {
            "colorbar": {
             "outlinewidth": 0,
             "ticks": ""
            },
            "colorscale": [
             [
              0,
              "#0d0887"
             ],
             [
              0.1111111111111111,
              "#46039f"
             ],
             [
              0.2222222222222222,
              "#7201a8"
             ],
             [
              0.3333333333333333,
              "#9c179e"
             ],
             [
              0.4444444444444444,
              "#bd3786"
             ],
             [
              0.5555555555555556,
              "#d8576b"
             ],
             [
              0.6666666666666666,
              "#ed7953"
             ],
             [
              0.7777777777777778,
              "#fb9f3a"
             ],
             [
              0.8888888888888888,
              "#fdca26"
             ],
             [
              1,
              "#f0f921"
             ]
            ],
            "type": "heatmapgl"
           }
          ],
          "histogram": [
           {
            "marker": {
             "pattern": {
              "fillmode": "overlay",
              "size": 10,
              "solidity": 0.2
             }
            },
            "type": "histogram"
           }
          ],
          "histogram2d": [
           {
            "colorbar": {
             "outlinewidth": 0,
             "ticks": ""
            },
            "colorscale": [
             [
              0,
              "#0d0887"
             ],
             [
              0.1111111111111111,
              "#46039f"
             ],
             [
              0.2222222222222222,
              "#7201a8"
             ],
             [
              0.3333333333333333,
              "#9c179e"
             ],
             [
              0.4444444444444444,
              "#bd3786"
             ],
             [
              0.5555555555555556,
              "#d8576b"
             ],
             [
              0.6666666666666666,
              "#ed7953"
             ],
             [
              0.7777777777777778,
              "#fb9f3a"
             ],
             [
              0.8888888888888888,
              "#fdca26"
             ],
             [
              1,
              "#f0f921"
             ]
            ],
            "type": "histogram2d"
           }
          ],
          "histogram2dcontour": [
           {
            "colorbar": {
             "outlinewidth": 0,
             "ticks": ""
            },
            "colorscale": [
             [
              0,
              "#0d0887"
             ],
             [
              0.1111111111111111,
              "#46039f"
             ],
             [
              0.2222222222222222,
              "#7201a8"
             ],
             [
              0.3333333333333333,
              "#9c179e"
             ],
             [
              0.4444444444444444,
              "#bd3786"
             ],
             [
              0.5555555555555556,
              "#d8576b"
             ],
             [
              0.6666666666666666,
              "#ed7953"
             ],
             [
              0.7777777777777778,
              "#fb9f3a"
             ],
             [
              0.8888888888888888,
              "#fdca26"
             ],
             [
              1,
              "#f0f921"
             ]
            ],
            "type": "histogram2dcontour"
           }
          ],
          "mesh3d": [
           {
            "colorbar": {
             "outlinewidth": 0,
             "ticks": ""
            },
            "type": "mesh3d"
           }
          ],
          "parcoords": [
           {
            "line": {
             "colorbar": {
              "outlinewidth": 0,
              "ticks": ""
             }
            },
            "type": "parcoords"
           }
          ],
          "pie": [
           {
            "automargin": true,
            "type": "pie"
           }
          ],
          "scatter": [
           {
            "marker": {
             "colorbar": {
              "outlinewidth": 0,
              "ticks": ""
             }
            },
            "type": "scatter"
           }
          ],
          "scatter3d": [
           {
            "line": {
             "colorbar": {
              "outlinewidth": 0,
              "ticks": ""
             }
            },
            "marker": {
             "colorbar": {
              "outlinewidth": 0,
              "ticks": ""
             }
            },
            "type": "scatter3d"
           }
          ],
          "scattercarpet": [
           {
            "marker": {
             "colorbar": {
              "outlinewidth": 0,
              "ticks": ""
             }
            },
            "type": "scattercarpet"
           }
          ],
          "scattergeo": [
           {
            "marker": {
             "colorbar": {
              "outlinewidth": 0,
              "ticks": ""
             }
            },
            "type": "scattergeo"
           }
          ],
          "scattergl": [
           {
            "marker": {
             "colorbar": {
              "outlinewidth": 0,
              "ticks": ""
             }
            },
            "type": "scattergl"
           }
          ],
          "scattermapbox": [
           {
            "marker": {
             "colorbar": {
              "outlinewidth": 0,
              "ticks": ""
             }
            },
            "type": "scattermapbox"
           }
          ],
          "scatterpolar": [
           {
            "marker": {
             "colorbar": {
              "outlinewidth": 0,
              "ticks": ""
             }
            },
            "type": "scatterpolar"
           }
          ],
          "scatterpolargl": [
           {
            "marker": {
             "colorbar": {
              "outlinewidth": 0,
              "ticks": ""
             }
            },
            "type": "scatterpolargl"
           }
          ],
          "scatterternary": [
           {
            "marker": {
             "colorbar": {
              "outlinewidth": 0,
              "ticks": ""
             }
            },
            "type": "scatterternary"
           }
          ],
          "surface": [
           {
            "colorbar": {
             "outlinewidth": 0,
             "ticks": ""
            },
            "colorscale": [
             [
              0,
              "#0d0887"
             ],
             [
              0.1111111111111111,
              "#46039f"
             ],
             [
              0.2222222222222222,
              "#7201a8"
             ],
             [
              0.3333333333333333,
              "#9c179e"
             ],
             [
              0.4444444444444444,
              "#bd3786"
             ],
             [
              0.5555555555555556,
              "#d8576b"
             ],
             [
              0.6666666666666666,
              "#ed7953"
             ],
             [
              0.7777777777777778,
              "#fb9f3a"
             ],
             [
              0.8888888888888888,
              "#fdca26"
             ],
             [
              1,
              "#f0f921"
             ]
            ],
            "type": "surface"
           }
          ],
          "table": [
           {
            "cells": {
             "fill": {
              "color": "#EBF0F8"
             },
             "line": {
              "color": "white"
             }
            },
            "header": {
             "fill": {
              "color": "#C8D4E3"
             },
             "line": {
              "color": "white"
             }
            },
            "type": "table"
           }
          ]
         },
         "layout": {
          "annotationdefaults": {
           "arrowcolor": "#2a3f5f",
           "arrowhead": 0,
           "arrowwidth": 1
          },
          "autotypenumbers": "strict",
          "coloraxis": {
           "colorbar": {
            "outlinewidth": 0,
            "ticks": ""
           }
          },
          "colorscale": {
           "diverging": [
            [
             0,
             "#8e0152"
            ],
            [
             0.1,
             "#c51b7d"
            ],
            [
             0.2,
             "#de77ae"
            ],
            [
             0.3,
             "#f1b6da"
            ],
            [
             0.4,
             "#fde0ef"
            ],
            [
             0.5,
             "#f7f7f7"
            ],
            [
             0.6,
             "#e6f5d0"
            ],
            [
             0.7,
             "#b8e186"
            ],
            [
             0.8,
             "#7fbc41"
            ],
            [
             0.9,
             "#4d9221"
            ],
            [
             1,
             "#276419"
            ]
           ],
           "sequential": [
            [
             0,
             "#0d0887"
            ],
            [
             0.1111111111111111,
             "#46039f"
            ],
            [
             0.2222222222222222,
             "#7201a8"
            ],
            [
             0.3333333333333333,
             "#9c179e"
            ],
            [
             0.4444444444444444,
             "#bd3786"
            ],
            [
             0.5555555555555556,
             "#d8576b"
            ],
            [
             0.6666666666666666,
             "#ed7953"
            ],
            [
             0.7777777777777778,
             "#fb9f3a"
            ],
            [
             0.8888888888888888,
             "#fdca26"
            ],
            [
             1,
             "#f0f921"
            ]
           ],
           "sequentialminus": [
            [
             0,
             "#0d0887"
            ],
            [
             0.1111111111111111,
             "#46039f"
            ],
            [
             0.2222222222222222,
             "#7201a8"
            ],
            [
             0.3333333333333333,
             "#9c179e"
            ],
            [
             0.4444444444444444,
             "#bd3786"
            ],
            [
             0.5555555555555556,
             "#d8576b"
            ],
            [
             0.6666666666666666,
             "#ed7953"
            ],
            [
             0.7777777777777778,
             "#fb9f3a"
            ],
            [
             0.8888888888888888,
             "#fdca26"
            ],
            [
             1,
             "#f0f921"
            ]
           ]
          },
          "colorway": [
           "#636efa",
           "#EF553B",
           "#00cc96",
           "#ab63fa",
           "#FFA15A",
           "#19d3f3",
           "#FF6692",
           "#B6E880",
           "#FF97FF",
           "#FECB52"
          ],
          "font": {
           "color": "#2a3f5f"
          },
          "geo": {
           "bgcolor": "white",
           "lakecolor": "white",
           "landcolor": "#E5ECF6",
           "showlakes": true,
           "showland": true,
           "subunitcolor": "white"
          },
          "hoverlabel": {
           "align": "left"
          },
          "hovermode": "closest",
          "mapbox": {
           "style": "light"
          },
          "paper_bgcolor": "white",
          "plot_bgcolor": "#E5ECF6",
          "polar": {
           "angularaxis": {
            "gridcolor": "white",
            "linecolor": "white",
            "ticks": ""
           },
           "bgcolor": "#E5ECF6",
           "radialaxis": {
            "gridcolor": "white",
            "linecolor": "white",
            "ticks": ""
           }
          },
          "scene": {
           "xaxis": {
            "backgroundcolor": "#E5ECF6",
            "gridcolor": "white",
            "gridwidth": 2,
            "linecolor": "white",
            "showbackground": true,
            "ticks": "",
            "zerolinecolor": "white"
           },
           "yaxis": {
            "backgroundcolor": "#E5ECF6",
            "gridcolor": "white",
            "gridwidth": 2,
            "linecolor": "white",
            "showbackground": true,
            "ticks": "",
            "zerolinecolor": "white"
           },
           "zaxis": {
            "backgroundcolor": "#E5ECF6",
            "gridcolor": "white",
            "gridwidth": 2,
            "linecolor": "white",
            "showbackground": true,
            "ticks": "",
            "zerolinecolor": "white"
           }
          },
          "shapedefaults": {
           "line": {
            "color": "#2a3f5f"
           }
          },
          "ternary": {
           "aaxis": {
            "gridcolor": "white",
            "linecolor": "white",
            "ticks": ""
           },
           "baxis": {
            "gridcolor": "white",
            "linecolor": "white",
            "ticks": ""
           },
           "bgcolor": "#E5ECF6",
           "caxis": {
            "gridcolor": "white",
            "linecolor": "white",
            "ticks": ""
           }
          },
          "title": {
           "x": 0.05
          },
          "xaxis": {
           "automargin": true,
           "gridcolor": "white",
           "linecolor": "white",
           "ticks": "",
           "title": {
            "standoff": 15
           },
           "zerolinecolor": "white",
           "zerolinewidth": 2
          },
          "yaxis": {
           "automargin": true,
           "gridcolor": "white",
           "linecolor": "white",
           "ticks": "",
           "title": {
            "standoff": 15
           },
           "zerolinecolor": "white",
           "zerolinewidth": 2
          }
         }
        },
        "title": {
         "text": "Side By Side Subplots"
        },
        "xaxis": {
         "anchor": "y",
         "domain": [
          0,
          1
         ],
         "matches": "x3",
         "showticklabels": false
        },
        "xaxis2": {
         "anchor": "y2",
         "domain": [
          0,
          1
         ],
         "matches": "x3",
         "showticklabels": false
        },
        "xaxis3": {
         "anchor": "y3",
         "domain": [
          0,
          1
         ]
        },
        "yaxis": {
         "anchor": "x",
         "domain": [
          0.68,
          1
         ]
        },
        "yaxis2": {
         "anchor": "x2",
         "domain": [
          0.34,
          0.66
         ]
        },
        "yaxis3": {
         "anchor": "x3",
         "domain": [
          0,
          0.32
         ]
        }
       }
      },
      "text/html": [
       "<div>                            <div id=\"1b2128df-fc0d-4edc-b883-6b6445698906\" class=\"plotly-graph-div\" style=\"height:525px; width:100%;\"></div>            <script type=\"text/javascript\">                require([\"plotly\"], function(Plotly) {                    window.PLOTLYENV=window.PLOTLYENV || {};                                    if (document.getElementById(\"1b2128df-fc0d-4edc-b883-6b6445698906\")) {                    Plotly.newPlot(                        \"1b2128df-fc0d-4edc-b883-6b6445698906\",                        [{\"type\":\"scatter\",\"x\":[\"2021-07-28T18:15:02+00:00\",\"2021-07-28T18:15:04+00:00\",\"2021-07-28T18:15:06+00:00\",\"2021-07-28T18:15:09+00:00\",\"2021-07-28T18:15:11+00:00\",\"2021-07-28T18:15:13+00:00\",\"2021-07-28T18:15:15+00:00\",\"2021-07-28T18:15:17+00:00\",\"2021-07-28T18:15:20+00:00\",\"2021-07-28T18:15:22+00:00\",\"2021-07-28T18:15:24+00:00\",\"2021-07-28T18:15:27+00:00\",\"2021-07-28T18:15:29+00:00\",\"2021-07-28T18:15:31+00:00\",\"2021-07-28T18:15:33+00:00\",\"2021-07-28T18:15:35+00:00\",\"2021-07-28T18:15:38+00:00\",\"2021-07-28T18:15:40+00:00\",\"2021-07-28T18:15:42+00:00\",\"2021-07-28T18:15:44+00:00\",\"2021-07-28T18:15:47+00:00\",\"2021-07-28T18:15:49+00:00\",\"2021-07-28T18:15:51+00:00\",\"2021-07-28T18:15:53+00:00\",\"2021-07-28T18:15:55+00:00\",\"2021-07-28T18:15:58+00:00\",\"2021-07-28T18:16:00+00:00\",\"2021-07-28T18:16:02+00:00\",\"2021-07-28T18:16:04+00:00\",\"2021-07-28T18:16:07+00:00\",\"2021-07-28T18:16:09+00:00\",\"2021-07-28T18:16:11+00:00\",\"2021-07-28T18:16:13+00:00\",\"2021-07-28T18:16:16+00:00\",\"2021-07-28T18:16:18+00:00\",\"2021-07-28T18:16:20+00:00\",\"2021-07-28T18:16:22+00:00\",\"2021-07-28T18:16:26+00:00\",\"2021-07-28T18:16:28+00:00\",\"2021-07-28T18:16:31+00:00\",\"2021-07-28T18:16:33+00:00\",\"2021-07-28T18:16:35+00:00\",\"2021-07-28T18:16:38+00:00\",\"2021-07-28T18:16:40+00:00\",\"2021-07-28T18:16:42+00:00\",\"2021-07-28T18:16:44+00:00\",\"2021-07-28T18:16:46+00:00\",\"2021-07-28T18:16:49+00:00\",\"2021-07-28T18:16:51+00:00\",\"2021-07-28T18:16:53+00:00\",\"2021-07-28T18:16:55+00:00\",\"2021-07-28T18:16:57+00:00\",\"2021-07-28T18:17:00+00:00\",\"2021-07-28T18:17:02+00:00\",\"2021-07-28T18:17:04+00:00\",\"2021-07-28T18:17:06+00:00\",\"2021-07-28T18:17:08+00:00\",\"2021-07-28T18:17:11+00:00\",\"2021-07-28T18:17:13+00:00\",\"2021-07-28T18:17:16+00:00\",\"2021-07-28T18:17:19+00:00\",\"2021-07-28T18:17:21+00:00\",\"2021-07-28T18:17:23+00:00\",\"2021-07-28T18:17:25+00:00\",\"2021-07-28T18:17:27+00:00\",\"2021-07-28T18:17:30+00:00\",\"2021-07-28T18:17:32+00:00\",\"2021-07-28T18:17:34+00:00\",\"2021-07-28T18:17:37+00:00\",\"2021-07-28T18:17:39+00:00\",\"2021-07-28T18:17:41+00:00\",\"2021-07-28T18:17:43+00:00\",\"2021-07-28T18:17:45+00:00\",\"2021-07-28T18:17:48+00:00\",\"2021-07-28T18:17:50+00:00\",\"2021-07-28T18:17:52+00:00\",\"2021-07-28T18:17:54+00:00\",\"2021-07-28T18:17:56+00:00\",\"2021-07-28T18:17:59+00:00\",\"2021-07-28T18:18:01+00:00\",\"2021-07-28T18:18:03+00:00\",\"2021-07-28T18:18:05+00:00\",\"2021-07-28T18:18:10+00:00\",\"2021-07-28T18:18:12+00:00\",\"2021-07-28T18:18:14+00:00\",\"2021-07-28T18:18:16+00:00\",\"2021-07-28T18:18:19+00:00\",\"2021-07-28T18:18:21+00:00\",\"2021-07-28T18:18:23+00:00\",\"2021-07-28T18:18:25+00:00\",\"2021-07-28T18:18:30+00:00\",\"2021-07-28T18:18:32+00:00\",\"2021-07-28T18:18:34+00:00\",\"2021-07-28T18:18:36+00:00\",\"2021-07-28T18:18:41+00:00\",\"2021-07-28T18:18:43+00:00\",\"2021-07-28T18:18:45+00:00\",\"2021-07-28T18:18:47+00:00\",\"2021-07-28T18:18:49+00:00\",\"2021-07-28T18:18:52+00:00\",\"2021-07-28T18:18:54+00:00\"],\"xaxis\":\"x\",\"y\":[99.8599159495697,3.19744204636291,3.19744204636291,0.0,0.0,103.179364127175,103.179364127175,103.179364127175,99.8,99.8,3.39932013597281,3.39932013597281,0.0,0.0,103.379324135173,103.379324135173,99.8199639927986,99.8199639927986,99.8199639927986,3.6,3.6,0.0,0.0,103.620724144829,103.620724144829,103.620724144829,99.7401559064561,99.7401559064561,3.80228136882129,3.80228136882129,0.0,0.0,104.020804160832,104.020804160832,99.8,99.8,99.8,4.19832067173131,0.0,0.0,104.241696678671,104.241696678671,104.241696678671,99.9800039992002,99.9800039992002,4.19916016796641,4.19916016796641,0.0,0.0,104.158336665334,104.158336665334,104.158336665334,99.619923984797,99.619923984797,4.60092018403681,4.60092018403681,0.0,0.0,0.0,0.0,0.0,0.0,0.0,0.0,0.0,0.0,0.0,0.0,0.0,0.0,0.0,0.0,0.0,0.0,0.0,0.0,0.0,0.0,0.0,0.0,0.0,0.0,0.0,0.0,0.0,0.0,0.0,0.0,0.0,0.0,0.0,0.0,0.0,0.0,0.0,0.0,0.0,0.0,0.0,0.0,0.0],\"yaxis\":\"y\"},{\"type\":\"scatter\",\"x\":[\"2021-07-28T18:15:02+00:00\",\"2021-07-28T18:15:04+00:00\",\"2021-07-28T18:15:06+00:00\",\"2021-07-28T18:15:09+00:00\",\"2021-07-28T18:15:11+00:00\",\"2021-07-28T18:15:13+00:00\",\"2021-07-28T18:15:15+00:00\",\"2021-07-28T18:15:17+00:00\",\"2021-07-28T18:15:20+00:00\",\"2021-07-28T18:15:22+00:00\",\"2021-07-28T18:15:24+00:00\",\"2021-07-28T18:15:27+00:00\",\"2021-07-28T18:15:29+00:00\",\"2021-07-28T18:15:31+00:00\",\"2021-07-28T18:15:33+00:00\",\"2021-07-28T18:15:35+00:00\",\"2021-07-28T18:15:38+00:00\",\"2021-07-28T18:15:40+00:00\",\"2021-07-28T18:15:42+00:00\",\"2021-07-28T18:15:44+00:00\",\"2021-07-28T18:15:47+00:00\",\"2021-07-28T18:15:49+00:00\",\"2021-07-28T18:15:51+00:00\",\"2021-07-28T18:15:53+00:00\",\"2021-07-28T18:15:55+00:00\",\"2021-07-28T18:15:58+00:00\",\"2021-07-28T18:16:00+00:00\",\"2021-07-28T18:16:02+00:00\",\"2021-07-28T18:16:04+00:00\",\"2021-07-28T18:16:07+00:00\",\"2021-07-28T18:16:09+00:00\",\"2021-07-28T18:16:11+00:00\",\"2021-07-28T18:16:13+00:00\",\"2021-07-28T18:16:16+00:00\",\"2021-07-28T18:16:18+00:00\",\"2021-07-28T18:16:20+00:00\",\"2021-07-28T18:16:22+00:00\",\"2021-07-28T18:16:26+00:00\",\"2021-07-28T18:16:28+00:00\",\"2021-07-28T18:16:31+00:00\",\"2021-07-28T18:16:33+00:00\",\"2021-07-28T18:16:35+00:00\",\"2021-07-28T18:16:38+00:00\",\"2021-07-28T18:16:40+00:00\",\"2021-07-28T18:16:42+00:00\",\"2021-07-28T18:16:44+00:00\",\"2021-07-28T18:16:46+00:00\",\"2021-07-28T18:16:49+00:00\",\"2021-07-28T18:16:51+00:00\",\"2021-07-28T18:16:53+00:00\",\"2021-07-28T18:16:55+00:00\",\"2021-07-28T18:16:57+00:00\",\"2021-07-28T18:17:00+00:00\",\"2021-07-28T18:17:02+00:00\",\"2021-07-28T18:17:04+00:00\",\"2021-07-28T18:17:06+00:00\",\"2021-07-28T18:17:08+00:00\",\"2021-07-28T18:17:11+00:00\",\"2021-07-28T18:17:13+00:00\",\"2021-07-28T18:17:16+00:00\",\"2021-07-28T18:17:19+00:00\",\"2021-07-28T18:17:21+00:00\",\"2021-07-28T18:17:23+00:00\",\"2021-07-28T18:17:25+00:00\",\"2021-07-28T18:17:27+00:00\",\"2021-07-28T18:17:30+00:00\",\"2021-07-28T18:17:32+00:00\",\"2021-07-28T18:17:34+00:00\",\"2021-07-28T18:17:37+00:00\",\"2021-07-28T18:17:39+00:00\",\"2021-07-28T18:17:41+00:00\",\"2021-07-28T18:17:43+00:00\",\"2021-07-28T18:17:45+00:00\",\"2021-07-28T18:17:48+00:00\",\"2021-07-28T18:17:50+00:00\",\"2021-07-28T18:17:52+00:00\",\"2021-07-28T18:17:54+00:00\",\"2021-07-28T18:17:56+00:00\",\"2021-07-28T18:17:59+00:00\",\"2021-07-28T18:18:01+00:00\",\"2021-07-28T18:18:03+00:00\",\"2021-07-28T18:18:05+00:00\",\"2021-07-28T18:18:07+00:00\",\"2021-07-28T18:18:10+00:00\",\"2021-07-28T18:18:12+00:00\",\"2021-07-28T18:18:14+00:00\",\"2021-07-28T18:18:16+00:00\",\"2021-07-28T18:18:19+00:00\",\"2021-07-28T18:18:21+00:00\",\"2021-07-28T18:18:23+00:00\",\"2021-07-28T18:18:25+00:00\",\"2021-07-28T18:18:27+00:00\",\"2021-07-28T18:18:30+00:00\",\"2021-07-28T18:18:32+00:00\",\"2021-07-28T18:18:34+00:00\",\"2021-07-28T18:18:36+00:00\",\"2021-07-28T18:18:38+00:00\",\"2021-07-28T18:18:41+00:00\",\"2021-07-28T18:18:43+00:00\",\"2021-07-28T18:18:45+00:00\",\"2021-07-28T18:18:47+00:00\",\"2021-07-28T18:18:49+00:00\",\"2021-07-28T18:18:52+00:00\",\"2021-07-28T18:18:54+00:00\",\"2021-07-28T18:19:01+00:00\"],\"xaxis\":\"x2\",\"y\":[99.8599159495697,3.19744204636291,3.19744204636291,0.0,0.0,103.179364127175,103.179364127175,103.179364127175,99.8,99.8,3.39932013597281,3.39932013597281,0.0,0.0,103.379324135173,103.379324135173,99.8199639927986,99.8199639927986,99.8199639927986,3.6,3.6,0.0,0.0,103.620724144829,103.620724144829,103.620724144829,99.7401559064561,99.7401559064561,3.80228136882129,3.80228136882129,0.0,0.0,104.020804160832,104.020804160832,99.8,99.8,99.8,4.19832067173131,0.0,0.0,104.241696678671,104.241696678671,104.241696678671,99.9800039992002,99.9800039992002,4.19916016796641,4.19916016796641,0.0,0.0,104.158336665334,104.158336665334,104.158336665334,99.619923984797,99.619923984797,4.60092018403681,4.60092018403681,0.0,0.0,0.0,0.0,0.0,0.0,0.0,0.0,0.0,0.0,0.0,0.0,0.0,0.0,0.0,0.0,0.0,0.0,0.0,0.0,0.0,0.0,0.0,0.0,0.0,0.0,0.0,0.0,0.0,0.0,0.0,0.0,0.0,0.0,0.0,0.0,0.0,0.0,0.0,0.0,0.0,0.0,0.0,0.0,0.0],\"yaxis\":\"y2\"},{\"type\":\"scatter\",\"x\":[],\"xaxis\":\"x3\",\"y\":[99.8599159495697,3.19744204636291,3.19744204636291,0.0,0.0,103.179364127175,103.179364127175,103.179364127175,99.8,99.8,3.39932013597281,3.39932013597281,0.0,0.0,103.379324135173,103.379324135173,99.8199639927986,99.8199639927986,99.8199639927986,3.6,3.6,0.0,0.0,103.620724144829,103.620724144829,103.620724144829,99.7401559064561,99.7401559064561,3.80228136882129,3.80228136882129,0.0,0.0,104.020804160832,104.020804160832,99.8,99.8,99.8,4.19832067173131,0.0,0.0,104.241696678671,104.241696678671,104.241696678671,99.9800039992002,99.9800039992002,4.19916016796641,4.19916016796641,0.0,0.0,104.158336665334,104.158336665334,104.158336665334,99.619923984797,99.619923984797,4.60092018403681,4.60092018403681,0.0,0.0,0.0,0.0,0.0,0.0,0.0,0.0,0.0,0.0,0.0,0.0,0.0,0.0,0.0,0.0,0.0,0.0,0.0,0.0,0.0,0.0,0.0,0.0,0.0,0.0,0.0,0.0,0.0,0.0,0.0,0.0,0.0,0.0,0.0,0.0,0.0,0.0,0.0,0.0,0.0,0.0,0.0,0.0,0.0],\"yaxis\":\"y3\"}],                        {\"template\":{\"data\":{\"bar\":[{\"error_x\":{\"color\":\"#2a3f5f\"},\"error_y\":{\"color\":\"#2a3f5f\"},\"marker\":{\"line\":{\"color\":\"#E5ECF6\",\"width\":0.5},\"pattern\":{\"fillmode\":\"overlay\",\"size\":10,\"solidity\":0.2}},\"type\":\"bar\"}],\"barpolar\":[{\"marker\":{\"line\":{\"color\":\"#E5ECF6\",\"width\":0.5},\"pattern\":{\"fillmode\":\"overlay\",\"size\":10,\"solidity\":0.2}},\"type\":\"barpolar\"}],\"carpet\":[{\"aaxis\":{\"endlinecolor\":\"#2a3f5f\",\"gridcolor\":\"white\",\"linecolor\":\"white\",\"minorgridcolor\":\"white\",\"startlinecolor\":\"#2a3f5f\"},\"baxis\":{\"endlinecolor\":\"#2a3f5f\",\"gridcolor\":\"white\",\"linecolor\":\"white\",\"minorgridcolor\":\"white\",\"startlinecolor\":\"#2a3f5f\"},\"type\":\"carpet\"}],\"choropleth\":[{\"colorbar\":{\"outlinewidth\":0,\"ticks\":\"\"},\"type\":\"choropleth\"}],\"contour\":[{\"colorbar\":{\"outlinewidth\":0,\"ticks\":\"\"},\"colorscale\":[[0.0,\"#0d0887\"],[0.1111111111111111,\"#46039f\"],[0.2222222222222222,\"#7201a8\"],[0.3333333333333333,\"#9c179e\"],[0.4444444444444444,\"#bd3786\"],[0.5555555555555556,\"#d8576b\"],[0.6666666666666666,\"#ed7953\"],[0.7777777777777778,\"#fb9f3a\"],[0.8888888888888888,\"#fdca26\"],[1.0,\"#f0f921\"]],\"type\":\"contour\"}],\"contourcarpet\":[{\"colorbar\":{\"outlinewidth\":0,\"ticks\":\"\"},\"type\":\"contourcarpet\"}],\"heatmap\":[{\"colorbar\":{\"outlinewidth\":0,\"ticks\":\"\"},\"colorscale\":[[0.0,\"#0d0887\"],[0.1111111111111111,\"#46039f\"],[0.2222222222222222,\"#7201a8\"],[0.3333333333333333,\"#9c179e\"],[0.4444444444444444,\"#bd3786\"],[0.5555555555555556,\"#d8576b\"],[0.6666666666666666,\"#ed7953\"],[0.7777777777777778,\"#fb9f3a\"],[0.8888888888888888,\"#fdca26\"],[1.0,\"#f0f921\"]],\"type\":\"heatmap\"}],\"heatmapgl\":[{\"colorbar\":{\"outlinewidth\":0,\"ticks\":\"\"},\"colorscale\":[[0.0,\"#0d0887\"],[0.1111111111111111,\"#46039f\"],[0.2222222222222222,\"#7201a8\"],[0.3333333333333333,\"#9c179e\"],[0.4444444444444444,\"#bd3786\"],[0.5555555555555556,\"#d8576b\"],[0.6666666666666666,\"#ed7953\"],[0.7777777777777778,\"#fb9f3a\"],[0.8888888888888888,\"#fdca26\"],[1.0,\"#f0f921\"]],\"type\":\"heatmapgl\"}],\"histogram\":[{\"marker\":{\"pattern\":{\"fillmode\":\"overlay\",\"size\":10,\"solidity\":0.2}},\"type\":\"histogram\"}],\"histogram2d\":[{\"colorbar\":{\"outlinewidth\":0,\"ticks\":\"\"},\"colorscale\":[[0.0,\"#0d0887\"],[0.1111111111111111,\"#46039f\"],[0.2222222222222222,\"#7201a8\"],[0.3333333333333333,\"#9c179e\"],[0.4444444444444444,\"#bd3786\"],[0.5555555555555556,\"#d8576b\"],[0.6666666666666666,\"#ed7953\"],[0.7777777777777778,\"#fb9f3a\"],[0.8888888888888888,\"#fdca26\"],[1.0,\"#f0f921\"]],\"type\":\"histogram2d\"}],\"histogram2dcontour\":[{\"colorbar\":{\"outlinewidth\":0,\"ticks\":\"\"},\"colorscale\":[[0.0,\"#0d0887\"],[0.1111111111111111,\"#46039f\"],[0.2222222222222222,\"#7201a8\"],[0.3333333333333333,\"#9c179e\"],[0.4444444444444444,\"#bd3786\"],[0.5555555555555556,\"#d8576b\"],[0.6666666666666666,\"#ed7953\"],[0.7777777777777778,\"#fb9f3a\"],[0.8888888888888888,\"#fdca26\"],[1.0,\"#f0f921\"]],\"type\":\"histogram2dcontour\"}],\"mesh3d\":[{\"colorbar\":{\"outlinewidth\":0,\"ticks\":\"\"},\"type\":\"mesh3d\"}],\"parcoords\":[{\"line\":{\"colorbar\":{\"outlinewidth\":0,\"ticks\":\"\"}},\"type\":\"parcoords\"}],\"pie\":[{\"automargin\":true,\"type\":\"pie\"}],\"scatter\":[{\"marker\":{\"colorbar\":{\"outlinewidth\":0,\"ticks\":\"\"}},\"type\":\"scatter\"}],\"scatter3d\":[{\"line\":{\"colorbar\":{\"outlinewidth\":0,\"ticks\":\"\"}},\"marker\":{\"colorbar\":{\"outlinewidth\":0,\"ticks\":\"\"}},\"type\":\"scatter3d\"}],\"scattercarpet\":[{\"marker\":{\"colorbar\":{\"outlinewidth\":0,\"ticks\":\"\"}},\"type\":\"scattercarpet\"}],\"scattergeo\":[{\"marker\":{\"colorbar\":{\"outlinewidth\":0,\"ticks\":\"\"}},\"type\":\"scattergeo\"}],\"scattergl\":[{\"marker\":{\"colorbar\":{\"outlinewidth\":0,\"ticks\":\"\"}},\"type\":\"scattergl\"}],\"scattermapbox\":[{\"marker\":{\"colorbar\":{\"outlinewidth\":0,\"ticks\":\"\"}},\"type\":\"scattermapbox\"}],\"scatterpolar\":[{\"marker\":{\"colorbar\":{\"outlinewidth\":0,\"ticks\":\"\"}},\"type\":\"scatterpolar\"}],\"scatterpolargl\":[{\"marker\":{\"colorbar\":{\"outlinewidth\":0,\"ticks\":\"\"}},\"type\":\"scatterpolargl\"}],\"scatterternary\":[{\"marker\":{\"colorbar\":{\"outlinewidth\":0,\"ticks\":\"\"}},\"type\":\"scatterternary\"}],\"surface\":[{\"colorbar\":{\"outlinewidth\":0,\"ticks\":\"\"},\"colorscale\":[[0.0,\"#0d0887\"],[0.1111111111111111,\"#46039f\"],[0.2222222222222222,\"#7201a8\"],[0.3333333333333333,\"#9c179e\"],[0.4444444444444444,\"#bd3786\"],[0.5555555555555556,\"#d8576b\"],[0.6666666666666666,\"#ed7953\"],[0.7777777777777778,\"#fb9f3a\"],[0.8888888888888888,\"#fdca26\"],[1.0,\"#f0f921\"]],\"type\":\"surface\"}],\"table\":[{\"cells\":{\"fill\":{\"color\":\"#EBF0F8\"},\"line\":{\"color\":\"white\"}},\"header\":{\"fill\":{\"color\":\"#C8D4E3\"},\"line\":{\"color\":\"white\"}},\"type\":\"table\"}]},\"layout\":{\"annotationdefaults\":{\"arrowcolor\":\"#2a3f5f\",\"arrowhead\":0,\"arrowwidth\":1},\"autotypenumbers\":\"strict\",\"coloraxis\":{\"colorbar\":{\"outlinewidth\":0,\"ticks\":\"\"}},\"colorscale\":{\"diverging\":[[0,\"#8e0152\"],[0.1,\"#c51b7d\"],[0.2,\"#de77ae\"],[0.3,\"#f1b6da\"],[0.4,\"#fde0ef\"],[0.5,\"#f7f7f7\"],[0.6,\"#e6f5d0\"],[0.7,\"#b8e186\"],[0.8,\"#7fbc41\"],[0.9,\"#4d9221\"],[1,\"#276419\"]],\"sequential\":[[0.0,\"#0d0887\"],[0.1111111111111111,\"#46039f\"],[0.2222222222222222,\"#7201a8\"],[0.3333333333333333,\"#9c179e\"],[0.4444444444444444,\"#bd3786\"],[0.5555555555555556,\"#d8576b\"],[0.6666666666666666,\"#ed7953\"],[0.7777777777777778,\"#fb9f3a\"],[0.8888888888888888,\"#fdca26\"],[1.0,\"#f0f921\"]],\"sequentialminus\":[[0.0,\"#0d0887\"],[0.1111111111111111,\"#46039f\"],[0.2222222222222222,\"#7201a8\"],[0.3333333333333333,\"#9c179e\"],[0.4444444444444444,\"#bd3786\"],[0.5555555555555556,\"#d8576b\"],[0.6666666666666666,\"#ed7953\"],[0.7777777777777778,\"#fb9f3a\"],[0.8888888888888888,\"#fdca26\"],[1.0,\"#f0f921\"]]},\"colorway\":[\"#636efa\",\"#EF553B\",\"#00cc96\",\"#ab63fa\",\"#FFA15A\",\"#19d3f3\",\"#FF6692\",\"#B6E880\",\"#FF97FF\",\"#FECB52\"],\"font\":{\"color\":\"#2a3f5f\"},\"geo\":{\"bgcolor\":\"white\",\"lakecolor\":\"white\",\"landcolor\":\"#E5ECF6\",\"showlakes\":true,\"showland\":true,\"subunitcolor\":\"white\"},\"hoverlabel\":{\"align\":\"left\"},\"hovermode\":\"closest\",\"mapbox\":{\"style\":\"light\"},\"paper_bgcolor\":\"white\",\"plot_bgcolor\":\"#E5ECF6\",\"polar\":{\"angularaxis\":{\"gridcolor\":\"white\",\"linecolor\":\"white\",\"ticks\":\"\"},\"bgcolor\":\"#E5ECF6\",\"radialaxis\":{\"gridcolor\":\"white\",\"linecolor\":\"white\",\"ticks\":\"\"}},\"scene\":{\"xaxis\":{\"backgroundcolor\":\"#E5ECF6\",\"gridcolor\":\"white\",\"gridwidth\":2,\"linecolor\":\"white\",\"showbackground\":true,\"ticks\":\"\",\"zerolinecolor\":\"white\"},\"yaxis\":{\"backgroundcolor\":\"#E5ECF6\",\"gridcolor\":\"white\",\"gridwidth\":2,\"linecolor\":\"white\",\"showbackground\":true,\"ticks\":\"\",\"zerolinecolor\":\"white\"},\"zaxis\":{\"backgroundcolor\":\"#E5ECF6\",\"gridcolor\":\"white\",\"gridwidth\":2,\"linecolor\":\"white\",\"showbackground\":true,\"ticks\":\"\",\"zerolinecolor\":\"white\"}},\"shapedefaults\":{\"line\":{\"color\":\"#2a3f5f\"}},\"ternary\":{\"aaxis\":{\"gridcolor\":\"white\",\"linecolor\":\"white\",\"ticks\":\"\"},\"baxis\":{\"gridcolor\":\"white\",\"linecolor\":\"white\",\"ticks\":\"\"},\"bgcolor\":\"#E5ECF6\",\"caxis\":{\"gridcolor\":\"white\",\"linecolor\":\"white\",\"ticks\":\"\"}},\"title\":{\"x\":0.05},\"xaxis\":{\"automargin\":true,\"gridcolor\":\"white\",\"linecolor\":\"white\",\"ticks\":\"\",\"title\":{\"standoff\":15},\"zerolinecolor\":\"white\",\"zerolinewidth\":2},\"yaxis\":{\"automargin\":true,\"gridcolor\":\"white\",\"linecolor\":\"white\",\"ticks\":\"\",\"title\":{\"standoff\":15},\"zerolinecolor\":\"white\",\"zerolinewidth\":2}}},\"title\":{\"text\":\"Side By Side Subplots\"},\"xaxis\":{\"anchor\":\"y\",\"domain\":[0.0,1.0],\"matches\":\"x3\",\"showticklabels\":false},\"xaxis2\":{\"anchor\":\"y2\",\"domain\":[0.0,1.0],\"matches\":\"x3\",\"showticklabels\":false},\"xaxis3\":{\"anchor\":\"y3\",\"domain\":[0.0,1.0]},\"yaxis\":{\"anchor\":\"x\",\"domain\":[0.68,1.0]},\"yaxis2\":{\"anchor\":\"x2\",\"domain\":[0.34,0.66]},\"yaxis3\":{\"anchor\":\"x3\",\"domain\":[0.0,0.32]}},                        {\"responsive\": true}                    ).then(function(){\n",
       "                            \n",
       "var gd = document.getElementById('1b2128df-fc0d-4edc-b883-6b6445698906');\n",
       "var x = new MutationObserver(function (mutations, observer) {{\n",
       "        var display = window.getComputedStyle(gd).display;\n",
       "        if (!display || display === 'none') {{\n",
       "            console.log([gd, 'removed!']);\n",
       "            Plotly.purge(gd);\n",
       "            observer.disconnect();\n",
       "        }}\n",
       "}});\n",
       "\n",
       "// Listen for the removal of the full notebook cells\n",
       "var notebookContainer = gd.closest('#notebook-container');\n",
       "if (notebookContainer) {{\n",
       "    x.observe(notebookContainer, {childList: true});\n",
       "}}\n",
       "\n",
       "// Listen for the clearing of the current output cell\n",
       "var outputEl = gd.closest('.output');\n",
       "if (outputEl) {{\n",
       "    x.observe(outputEl, {childList: true});\n",
       "}}\n",
       "\n",
       "                        })                };                });            </script>        </div>"
      ]
     },
     "metadata": {},
     "output_type": "display_data"
    }
   ],
   "source": [
    "from plotly.subplots import make_subplots\n",
    "import plotly.graph_objects as go\n",
    "\n",
    "fig = make_subplots(rows=3, cols=1, shared_xaxes=True,\n",
    "                    vertical_spacing=0.02)\n",
    "\n",
    "fig.add_trace( \n",
    "    go.Line(x=sourceRateDf['TimeGenerated'], y=sourceRateDf['Val']), row=1, col=1\n",
    ")\n",
    "\n",
    "fig.add_trace( \n",
    "    go.Line(x=sinkRateDf['TimeGenerated'], y=sourceRateDf['Val']), row=2, col=1\n",
    ")\n",
    "\n",
    "fig.add_trace( \n",
    "    go.Line(x=qlenDf['TimeGenerated'], y=sourceRateDf['Val']), row=3, col=1\n",
    ")\n",
    "\n",
    "\n",
    "fig.update_layout(title_text=\"Side By Side Subplots\")\n",
    "fig.show()"
   ]
  },
  {
   "cell_type": "code",
   "execution_count": null,
   "metadata": {},
   "outputs": [],
   "source": []
  },
  {
   "cell_type": "code",
   "execution_count": null,
   "metadata": {},
   "outputs": [],
   "source": []
  }
 ],
 "metadata": {
  "interpreter": {
   "hash": "31f2aee4e71d21fbe5cf8b01ff0e069b9275f58929596ceb00d14d90e3e16cd6"
  },
  "kernelspec": {
   "display_name": "Python 3 (ipykernel)",
   "language": "python",
   "name": "python3"
  },
  "language_info": {
   "codemirror_mode": {
    "name": "ipython",
    "version": 3
   },
   "file_extension": ".py",
   "mimetype": "text/x-python",
   "name": "python",
   "nbconvert_exporter": "python",
   "pygments_lexer": "ipython3",
   "version": "3.9.6"
  }
 },
 "nbformat": 4,
 "nbformat_minor": 4
}
