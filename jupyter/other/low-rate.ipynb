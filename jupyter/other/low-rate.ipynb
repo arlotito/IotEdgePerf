{
 "cells": [
  {
   "cell_type": "code",
   "execution_count": null,
   "metadata": {},
   "outputs": [],
   "source": []
  },
  {
   "cell_type": "code",
   "execution_count": null,
   "metadata": {
    "jupyter": {
     "outputs_hidden": true
    },
    "tags": []
   },
   "outputs": [
    {
     "name": "stdout",
     "output_type": "stream",
     "text": [
      "Requirement already satisfied: pip in /opt/conda/lib/python3.9/site-packages (21.2.1)\n",
      "Collecting Kqlmagic\n",
      "  Downloading Kqlmagic-0.1.114.post2-py3-none-any.whl (229 kB)\n",
      "\u001b[K     |████████████████████████████████| 229 kB 5.8 MB/s eta 0:00:01\n",
      "\u001b[?25hCollecting msal>=1.11.0\n",
      "  Downloading msal-1.13.0-py2.py3-none-any.whl (67 kB)\n",
      "\u001b[K     |████████████████████████████████| 67 kB 19.5 MB/s eta 0:00:01\n",
      "\u001b[?25hCollecting pandas>=0.23.4\n",
      "  Downloading pandas-1.3.1-cp39-cp39-manylinux_2_17_x86_64.manylinux2014_x86_64.whl (11.7 MB)\n",
      "\u001b[K     |████████████████████████████████| 11.7 MB 22.0 MB/s eta 0:00:01\n",
      "\u001b[?25hCollecting azure-identity>=1.5.0\n",
      "  Downloading azure_identity-1.6.0-py2.py3-none-any.whl (108 kB)\n",
      "\u001b[K     |████████████████████████████████| 108 kB 50.3 MB/s eta 0:00:01\n",
      "\u001b[?25hRequirement already satisfied: python-dateutil>=2.7.5 in /opt/conda/lib/python3.9/site-packages (from Kqlmagic) (2.8.2)\n",
      "Collecting azure-common>=1.1.25\n",
      "  Downloading azure_common-1.1.27-py2.py3-none-any.whl (12 kB)\n",
      "Requirement already satisfied: cryptography>=2.7 in /opt/conda/lib/python3.9/site-packages (from Kqlmagic) (3.4.7)\n",
      "Collecting password-strength>=0.0.3\n",
      "  Downloading password_strength-0.0.3.post2-py2.py3-none-any.whl (12 kB)\n",
      "Collecting plotly>=3.10.0\n",
      "  Downloading plotly-5.1.0-py2.py3-none-any.whl (20.6 MB)\n",
      "\u001b[K     |████████████████████████████████| 20.6 MB 28.2 MB/s eta 0:00:01     |███████████████████▏            | 12.3 MB 28.2 MB/s eta 0:00:01\n",
      "\u001b[?25hCollecting beautifulsoup4>=4.6.3\n",
      "  Downloading beautifulsoup4-4.9.3-py3-none-any.whl (115 kB)\n",
      "\u001b[K     |████████████████████████████████| 115 kB 25.6 MB/s eta 0:00:01\n",
      "\u001b[?25hCollecting msrestazure>=0.6.3\n",
      "  Downloading msrestazure-0.6.4-py2.py3-none-any.whl (40 kB)\n",
      "\u001b[K     |████████████████████████████████| 40 kB 53.2 MB/s eta 0:00:01\n",
      "\u001b[?25hCollecting lxml>=4.2.5\n",
      "  Downloading lxml-4.6.3-cp39-cp39-manylinux2014_x86_64.whl (6.9 MB)\n",
      "\u001b[K     |████████████████████████████████| 6.9 MB 32.1 MB/s eta 0:00:01     |███████                         | 1.5 MB 32.1 MB/s eta 0:00:01\n",
      "\u001b[?25hCollecting flask>=1.0.3\n",
      "  Downloading Flask-2.0.1-py3-none-any.whl (94 kB)\n",
      "\u001b[K     |████████████████████████████████| 94 kB 34.1 MB/s eta 0:00:01\n",
      "\u001b[?25hRequirement already satisfied: setuptools>=41.0.1 in /opt/conda/lib/python3.9/site-packages (from Kqlmagic) (49.6.0.post20210108)\n",
      "Requirement already satisfied: ipython>=7.1.1 in /opt/conda/lib/python3.9/site-packages (from Kqlmagic) (7.25.0)\n",
      "Collecting Markdown>=3.0.1\n",
      "  Downloading Markdown-3.3.4-py3-none-any.whl (97 kB)\n",
      "\u001b[K     |████████████████████████████████| 97 kB 23.3 MB/s eta 0:00:01\n",
      "\u001b[?25hCollecting isodate>=0.6.0\n",
      "  Downloading isodate-0.6.0-py2.py3-none-any.whl (45 kB)\n",
      "\u001b[K     |████████████████████████████████| 45 kB 48.7 MB/s eta 0:00:01\n",
      "\u001b[?25hCollecting msal-extensions>=0.3.0\n",
      "  Downloading msal_extensions-0.3.0-py2.py3-none-any.whl (16 kB)\n",
      "Requirement already satisfied: traitlets>=4.3.2 in /opt/conda/lib/python3.9/site-packages (from Kqlmagic) (5.0.5)\n",
      "Requirement already satisfied: Pygments>=2.2.0 in /opt/conda/lib/python3.9/site-packages (from Kqlmagic) (2.9.0)\n",
      "Requirement already satisfied: requests>=2.21.0 in /opt/conda/lib/python3.9/site-packages (from Kqlmagic) (2.26.0)\n",
      "Collecting psutil>=5.4.7\n",
      "  Downloading psutil-5.8.0-cp39-cp39-manylinux2010_x86_64.whl (293 kB)\n",
      "\u001b[K     |████████████████████████████████| 293 kB 28.0 MB/s eta 0:00:01\n",
      "\u001b[?25hCollecting pyperclip>=1.7.0\n",
      "  Downloading pyperclip-1.8.2.tar.gz (20 kB)\n",
      "Collecting prettytable>=0.7.2\n",
      "  Downloading prettytable-2.1.0-py3-none-any.whl (22 kB)\n",
      "Collecting matplotlib>=3.0.0\n",
      "  Downloading matplotlib-3.4.2-cp39-cp39-manylinux1_x86_64.whl (10.3 MB)\n",
      "\u001b[K     |████████████████████████████████| 10.3 MB 13.5 MB/s eta 0:00:01    |█████████████████████████       | 8.0 MB 13.5 MB/s eta 0:00:01\n",
      "\u001b[?25hRequirement already satisfied: ipykernel>=5.1.1 in /opt/conda/lib/python3.9/site-packages (from Kqlmagic) (6.0.3)\n",
      "Collecting ipywidgets\n",
      "  Downloading ipywidgets-7.6.3-py2.py3-none-any.whl (121 kB)\n",
      "\u001b[K     |████████████████████████████████| 121 kB 27.7 MB/s eta 0:00:01\n",
      "\u001b[?25hCollecting azure-core<2.0.0,>=1.0.0\n",
      "  Downloading azure_core-1.16.0-py2.py3-none-any.whl (163 kB)\n",
      "\u001b[K     |████████████████████████████████| 163 kB 26.2 MB/s eta 0:00:01\n",
      "\u001b[?25hRequirement already satisfied: six>=1.12.0 in /opt/conda/lib/python3.9/site-packages (from azure-identity>=1.5.0->Kqlmagic) (1.16.0)\n",
      "Collecting soupsieve>1.2\n",
      "  Downloading soupsieve-2.2.1-py3-none-any.whl (33 kB)\n",
      "Requirement already satisfied: cffi>=1.12 in /opt/conda/lib/python3.9/site-packages (from cryptography>=2.7->Kqlmagic) (1.14.6)\n",
      "Requirement already satisfied: pycparser in /opt/conda/lib/python3.9/site-packages (from cffi>=1.12->cryptography>=2.7->Kqlmagic) (2.20)\n",
      "Requirement already satisfied: Jinja2>=3.0 in /opt/conda/lib/python3.9/site-packages (from flask>=1.0.3->Kqlmagic) (3.0.1)\n",
      "Collecting itsdangerous>=2.0\n",
      "  Downloading itsdangerous-2.0.1-py3-none-any.whl (18 kB)\n",
      "Collecting click>=7.1.2\n",
      "  Downloading click-8.0.1-py3-none-any.whl (97 kB)\n",
      "\u001b[K     |████████████████████████████████| 97 kB 45.4 MB/s eta 0:00:01\n",
      "\u001b[?25hCollecting Werkzeug>=2.0\n",
      "  Downloading Werkzeug-2.0.1-py3-none-any.whl (288 kB)\n",
      "\u001b[K     |████████████████████████████████| 288 kB 33.0 MB/s eta 0:00:01\n",
      "\u001b[?25hRequirement already satisfied: debugpy<2.0,>=1.0.0 in /opt/conda/lib/python3.9/site-packages (from ipykernel>=5.1.1->Kqlmagic) (1.4.1)\n",
      "Requirement already satisfied: tornado<7.0,>=4.2 in /opt/conda/lib/python3.9/site-packages (from ipykernel>=5.1.1->Kqlmagic) (6.1)\n",
      "Requirement already satisfied: jupyter-client<7.0 in /opt/conda/lib/python3.9/site-packages (from ipykernel>=5.1.1->Kqlmagic) (6.1.12)\n",
      "Requirement already satisfied: matplotlib-inline<0.2.0,>=0.1.0 in /opt/conda/lib/python3.9/site-packages (from ipykernel>=5.1.1->Kqlmagic) (0.1.2)\n",
      "Requirement already satisfied: prompt-toolkit!=3.0.0,!=3.0.1,<3.1.0,>=2.0.0 in /opt/conda/lib/python3.9/site-packages (from ipython>=7.1.1->Kqlmagic) (3.0.19)\n",
      "Requirement already satisfied: pexpect>4.3 in /opt/conda/lib/python3.9/site-packages (from ipython>=7.1.1->Kqlmagic) (4.8.0)\n",
      "Requirement already satisfied: decorator in /opt/conda/lib/python3.9/site-packages (from ipython>=7.1.1->Kqlmagic) (5.0.9)\n",
      "Requirement already satisfied: jedi>=0.16 in /opt/conda/lib/python3.9/site-packages (from ipython>=7.1.1->Kqlmagic) (0.18.0)\n",
      "Requirement already satisfied: backcall in /opt/conda/lib/python3.9/site-packages (from ipython>=7.1.1->Kqlmagic) (0.2.0)\n",
      "Requirement already satisfied: pickleshare in /opt/conda/lib/python3.9/site-packages (from ipython>=7.1.1->Kqlmagic) (0.7.5)\n",
      "Requirement already satisfied: parso<0.9.0,>=0.8.0 in /opt/conda/lib/python3.9/site-packages (from jedi>=0.16->ipython>=7.1.1->Kqlmagic) (0.8.2)\n",
      "Requirement already satisfied: MarkupSafe>=2.0 in /opt/conda/lib/python3.9/site-packages (from Jinja2>=3.0->flask>=1.0.3->Kqlmagic) (2.0.1)\n",
      "Requirement already satisfied: jupyter-core>=4.6.0 in /opt/conda/lib/python3.9/site-packages (from jupyter-client<7.0->ipykernel>=5.1.1->Kqlmagic) (4.7.1)\n",
      "Requirement already satisfied: pyzmq>=13 in /opt/conda/lib/python3.9/site-packages (from jupyter-client<7.0->ipykernel>=5.1.1->Kqlmagic) (22.1.0)\n",
      "Requirement already satisfied: pyparsing>=2.2.1 in /opt/conda/lib/python3.9/site-packages (from matplotlib>=3.0.0->Kqlmagic) (2.4.7)\n",
      "Collecting kiwisolver>=1.0.1\n",
      "  Downloading kiwisolver-1.3.1-cp39-cp39-manylinux1_x86_64.whl (1.2 MB)\n",
      "\u001b[K     |████████████████████████████████| 1.2 MB 26.9 MB/s eta 0:00:01\n",
      "\u001b[?25hCollecting numpy>=1.16\n",
      "  Downloading numpy-1.21.1-cp39-cp39-manylinux_2_12_x86_64.manylinux2010_x86_64.whl (15.8 MB)\n",
      "\u001b[K     |████████████████████████████████| 15.8 MB 21.5 MB/s eta 0:00:01██████▏       | 11.9 MB 21.5 MB/s eta 0:00:01\n"
     ]
    }
   ],
   "source": [
    "!pip3 install --upgrade pip\n",
    "!pip3 install Kqlmagic --no-cache-dir --upgrade\n",
    "!pip3 install nbformat"
   ]
  },
  {
   "cell_type": "code",
   "execution_count": 2,
   "metadata": {},
   "outputs": [],
   "source": [
    "import pandas as pd\n",
    "pd.options.plotting.backend = \"plotly\"\n",
    "import plotly.express as px"
   ]
  },
  {
   "cell_type": "markdown",
   "metadata": {},
   "source": [
    "Add Kqlmagic to notebook magics"
   ]
  },
  {
   "cell_type": "code",
   "execution_count": 4,
   "metadata": {
    "tags": []
   },
   "outputs": [
    {
     "data": {
      "application/javascript": [
       "try {IPython.notebook.kernel.execute(\"NOTEBOOK_URL = '\" + window.location + \"'\");} catch(err) {;}"
      ],
      "text/plain": [
       "<IPython.core.display.Javascript object>"
      ]
     },
     "metadata": {},
     "output_type": "display_data"
    },
    {
     "data": {
      "text/html": [
       "<html>\n",
       "            <head>\n",
       "            <title>Kqlmagic - banner</title>\n",
       "            <style>\n",
       "            .kql-magic-banner {\n",
       "                display: flex; \n",
       "                background-color: #d9edf7;\n",
       "            }\n",
       "            .kql-magic-banner > div {\n",
       "                margin: 10px; \n",
       "                padding: 20px; \n",
       "                color: #3a87ad; \n",
       "                font-size: 13px;\n",
       "            }\n",
       "            </style>\n",
       "            </head>\n",
       "            <body>\n",
       "                <div class='kql-magic-banner'>\n",
       "                    <div><img src='data:image/png;base64,iVBORw0KGgoAAAANSUhEUgAAALsAAACcCAYAAAAnOdrkAAAQeklEQVR42u2di5MVxRXGe5cFFhEQQcGVx4KgLg8XLFCDCigqkvgCSVQqIgRNTP6R/AcmMRpjaWLQEEWRCGrEIKXIGxUMIvJUkKcisryWfB9zVm8w1Hbfnefe76vq6ru70zO9c3/Tc6bnnNM14347z0lSJahGp0AS7JIk2CVJsEuSYJckwS5Jgl2SBLskCXZJEuySJNglwS5Jgl2SBLskVQbsp0+fvgRVT8/Nv66qqtqp0y6Bm1pUdSi1HpsfR9kDdg5nBjs63A/Vb1DGeDZZjzZPotMb9XVXNOhVqKag3G3At6Z9KK+h3fNgpymrkf0ilInowI88/0luvwhFsFe2uqIMR7kD7PTy4OYIqt0EHiUz2Dt43oZaxG2r9V1XvDiyd0Tp7Ll9F5RO1k4PqJIk2CVJsEuCXZIEuyQJdkkS7JIk2CVJsEuSYJckwS5Jgl2SBLsk2CVJsEuSYJckwS5Jgl2SBLskCXZJEuySJNjbiSyJUA8XpZ1gFP7ZkfUnUI66KPHU1zpjFQ47gGG6htoymjYBoBMZwF1npT/KAKsvRunmorQl323uovwpe1E+R9ttqDehbEfZhb6fDDxuR49NT2G/3wr2fILeiOp6g8U33wgh4ii5Bu2XhkDThn72cVHCIGZVG41ymfWZo3oP9KGqlfZMIHSQ0Lso+dT7+N37/IymR1ppy2MywVVvj65+he1XYJ9LBXu+QCfkc1AmoVwY0JS5BJcZKCcT7iNzZI5FmYgyDmUojnlh6H7QpquZOkxFeA32exvqdShv4fObvHCxTfM5RnSC/gjKII9DMSPX+Wj3IfZ3ULDnA/RrUf0SZTq+lPMC225B9TZHxwT7180gu91AH45+dopr/9gXL6JLcJyrUV+H8jI+L8bvPz9r0442og/C38736Pdgu+N0KiobNe0MdJoBD6NMKwP09aj+iPIc2u5PqH8NqO60MhbH6ZzUucC+CeZUHPNK1JejnovfrdMDavsAfZTdkqf7jFRpgm5ZazmKz0D5iY2+qQjHasDxCX5f1E8V2eYW7P8L+v34Mi/IGegcvX+MMhtlcpwmSwDwvdCPGWZzV+Pnt10bk4QK9mxBfwBfYs/AtqtQ/QllbkKg05S6h6YV9n9TlueJJhP6w3zoTTaD87lgLxbojW0AfTmqP6C8iLaHEjJdOKI/iv3fGNM+Obd+quUBM/Quwe0NeF7Yi51/ymjBnjHofNibY6ZLKOjvGujz0PabhLo4AeWhtoCOfrJvfGH0mY3EnPI7ZibIefh7X/f9y6dLcayOHsB3R7tpbI/S3VXQW/SagoI+FNUslPtC56bTAN36dz/KrWW2/xLVGpT3UFaibDHQObKfdN8n8+eDOB8+ebwxaMepxsbWZqLw9wE2wh/B51rBnm/QOaI/aNNreQOdo+VdNGHKmVq0Ps5H+RfKx60smrXfRv4VaPcGQecFhs+c8RnWCvB9ZLMXA/SZodN3KZku1ESUe3GM/oH9I9QLOStE0ENXhsP2vBu8zjecqD9C/QDqSfi9nP2KBnsRQMdxhtjsy3VlmC0voDyN/q1o46zLF9jfX8zGP0BzJfQFm2DPFnS+qp6d8xGdok/O+Nact87q3yEbzR9Hsw1xdML8ejjK00uxGfX0JN/WCvb4QKc58HOWPIOOY9Fb8WYc57LAplzu8Nm4QD8L+mV8iYSPnGO/N+QiFOzpg05PvpkumsLrn1fQTfTLGRvYR3pY/hX9W5lUp+gegONw1oazVjcL9vyC/iDNF3xhg/MMuvmk04QZEtBmB6q/26xL0uIxON04sIw7j2BPCfQ5oV9OBiM6Rc/Ca3xe6lgfGSTCqcKFrQVYxDS6H8MhX8fHRtSPVOoMTY1Ab3N/+cqevuOXBzTj9OCr6OOmtM4rjrUFfV3kIl/6UYI9e9BpDtA77xdlgE5PPnovzk9xRKf4LEHf9N4BbeiXszKDU8xpzXdwrkZU4uhekyPQe6H6GcosfBFDAtsy/Oz3KAvQtinlrvN5oiGgr5z/Xo5+bkv7HDNaCcd/Cx/pgTlcsGcHOt/40RW2oQzQH0N5JYOMANVmvtQFNNuKsiHD081opdWCPVvQ+eB0VVFAN12EcoXzi85v0acouzI85Uy3sRrnjr47vQS7QPcV564H4/jVnn2mv8snLnLgykQ8V+gH7yw7UQR7SqDTB/2+AoNOXRxowhDyzSk/QJ9rdKc51SjYk1VHCwC+02z0UNDXuiiULmvQKQZPhASOfGmgZS1mEtuMc3k8i5jYSoGdxxvoouk6ugCMLmMfvP1uzBp0S61HX52QTAZ7sjRhSsRAEEY/HbK7k2BP6LZ/B0dEwFruiw1OS47kCI99nM7w3HUxmzfEfXYfStYmDO12ekJ+4aIMaII9oZPMKJ7b27iPK/FF0Wf8Y5dg5i5P2Hta7XMnOI7qgIsy7+ZBe/Nw4VXEA2obxZciG5i9FvDvyagP9A/vHuA2e8zMhqacnMPDVgR7nsVESACdD7j0MflbRt3oGGjCEPavrM6DmgR7cYC/iikhUBiUvLYAsNOM+SaNNNgBsH8l2ItlznwA4LcDogMpH7uDC0sydDJHo/p3F59gL87o3hugM20F3wjOy2Bkry0w7MwsRj/3Zt83wII9RvF1Ok58t0DgmRxoqpkzH6U8sncKhL0pR6e75eI76Qqcc72QsANWho5xiZRRgDZ0enKSmTM7UlxMq8qFZcJtNrDyNLIfFezpg97i68J58/FcggXQevttYNu+ls6NI/uCFGEJgbeD81uoK03YT9lFKJs9JdAZG8nAi1fMI4+xmUygPyAwYSmXl7kH7TalFO5G0ENWjyPoXXL03bdcfNWCPXnI+aqf6d4YSrewxdeFadzwp5ddFFwwNWB0r0a7yS5K/bYrhUDm0AfODq68ZSqT/O675Oxu0/5g5wwAR3Ib0Rf9Hx8Xxme+xPWAQiKXsG0/Pqy6aHZmUcL/xonAkb0mZ7CfudP4ZkQQ7G0D/TGc6MXngPa0mTMjmBEscI0k5lm8G+3oN/5pgv8KZ1ZClkjkQyCXeemEfh3PyXdfMemqsxrZOeL+7lyglwDP4GCmbh6BMiVgdKe//BQzZ55gzpSE/g+O6vtxjGOeeRQJFtd74rZ5gP3MxSfYkxvVd9uo/qZnk/fNnLk8JLUGtq0vmZ1ZkiTsVvvAXuolmQeflDOObII9OdHrb6uvf4jNzvAOMNIyWYW8nr/RZme2oF3s0UFM2YF90+PyiPOIVrIH6F45mpHp5sKirAR7GWoOhGorIHnJZmduCmhXyxUozJz5c0KRTQyAoDNVP8/tmQSqR06++94a2fMpprV7kWmhuR5QAPBDSmZnliXQL8aUhjignVl8F2V9Ds5pX9nsORSg/RbQvmbmzOzA1G032uzMZ3zoTcAs2xkIOy/ANxgal9X5xPFpwvTXyJ5f4D+x2RmaM+MC2nG6j3GvH6J+Jua4VY7qjNLnqnNdPbZnUqUGq/dkeDppq9eHLnsv2NPVUpSXuewM/WECgG+wuNWNLkruGdcF+DX2y30ynrOrx/bVtn5rXcawX+oCcskL9mxGd8K1wEb3BwObT7SH1W22slxc2uyihEP1ntufyY7gonVOsxLzyQ8Q7PkHnsBy7r2BvuwB7Xpa3Crn3uOMW+W0Jt2Lx/sEQWCbgdj2epQlSUyJetjrtNXpNNdPsBdDSzi644urD8mLTrdhmjNxxq0yuwH2t8JGd9/lcOjSMNplkx2MCydcV4mLiRU1u8ABM2doDvw0sPkke1iNM251nd0xfGGn3X4L+rAafdiR4qheZ///MFeBKnJ2gTVmztAzcmRAu97mSsC593/EaLdzRYtxPmmgzX+H0NEd4pkUTxuXmJlQSZ6O7QJ2E0P5RtgqcN0DgB9j5sx/4ohbtfcAXOaGSy9O9mzTYLGzDDZZnsKoztH8DrsbOsFevNF9d4ln5J2BzW+12Zm44lZpyizC/hoDpkVvQdmGNnu5wFeCoNNNYRovxEpe+Lc9LCLFh0O6EgxlHsiACyXWuFVzDOOdhi+8pnu26cZET/jIh9ynkkjlh/12N9AfCF0hXLDnb3RvtjjWlkCPrgHNOQV3d4xxq/R5WWCr0V3p2X8uxstVvI+jfg4/fxEj6PSfv9dFCycPcxWudrE8IL7InSVxq5MD2rXErW6II27VIqw4ujeGXHhmvz+Kj91Rz8XPG2MAfYCN6DPLzIMv2HOs91DmmzkzOADQ/iXmzOIYLrwd2B9neRhscldAu6Fo9yt8rEPNZd6XlXPx2SLEfNlG94hplbx8e7uF3ZYsX2TmzMOBy6dwSo6zM5/GFLdKd+I+2F9v7C/EaY3PEQ+5aLnJhTbDQxProAfkdOqiK8INLsqBPz40u5pgLxbwW0o8IycEtOtkcat82fRkW+NWzZyhSzJdFM4LWWXELtIJaDfcZmtW4jNnevi2lS7FjF9lcqNq+/74AErHLq5NdQ3K1dhHndBu57CXjKrzLdCjXwBk9SUvm5bEcOEdMXOmC+pfhy5mbG4Qt9KPxkVBIvSsZMwrM+8yrJF5aBjix+Up6TLcVyN5hcFukP3TRYEeswLnlW+w2ZlY4lbNreEFA56m1dAy9sEc8PXO36vS17ZnIAtXy6sX7MUG/mN8mS+6yAfk2hCwzopbPRlDX/ji61mOxpxiDMlhmZRsec3X7WGYd4RawV5sLTVzhp6RfQJnRVoCPZbFdPExB87T+HiQD6D4eUKGoNOP/gmUVbyLuXxlFhbsZQJ2CF/sqy5yJZgR2HyCje5b4nrJg/0wodJztL05p++iV/e9UoScD7ac3eFd5hV7wD3hKkjteWQnYOtpzligx+iAdqVxq8/GFbdKlwIXvWGlW+8nZjKNCgwgLwf0bag4O8Tnh6VMv2dB13pAbWd6yx5W60NSYPP1uqXh4HqrK2K+CNdh38xKsJojPD4zA8IVcS+tjv3ut77zDvca9r9ZszHli6nf+MbQd5aBMxypLlpl5gNdCQahvs15BEabmOqC89VclW9d3MlI2S8XBY/zYZHpAMfhM6OI+GLo0nLXOcI+aINzJP/InjlouqxNMOdlOaL5xNW+P0N/B3lsz7SJnH49niXsvB3P5cn03J5urKmPLviiV+GkPu6iIOcLAi9mjsCnE+wbB4Dt6N+/XeRiwGeMRvM/b8ntwunHH6SXtozIXCqG5tEh+z74AopBIR/QVDLTKW/mJT1E37UffcIqmXVthc+b5MRgx8EPo9PPO//8hU0JpaHz6es7FisaaiocTWPtUhxjn412y83/vM5gp1suXxr1NDub4FfZKHfYID9gF+VWXjgxZ09I6v/lm2Eu2uwTNXWKATKZ2+wGQiFWSrZb+bEC9JN+7SwMPawywDkX3rkEjmb7X5rsgizczIrddVK781TCA2rRZ5RoQh2xIgl2SRLskiTYJcEuSYJdkgS7JAl2SRLskiTYJUmwS5JglyTBLkmCXRLskiTYJUmwS5JglyTBLkmCXZIEuyQJdkkS7JIk2KUfiEmWmFZuo2cKOi5ewERMxwS7VCjZgmvMA8ncmz4pAbndeqYCF+xSEYHn+lFcA9aHg1Nxpe4W7FKW0FfE6huCXdIDqiQJdkkS7JIk2CVJsEuSYJckwS5Jgl2SBLskCXZJsEuSYJckwS5JxdB/ASH5FI/5dHZAAAAAAElFTkSuQmCC'></div>\n",
       "                    <div>\n",
       "                        <p>Kql Query Language, aka kql, is the query language for advanced analytics on Azure Monitor resources. The current supported data sources are \n",
       "                        Azure Data Explorer (Kusto), Log Analytics and Application Insights. To get more information execute '%kql --help \"kql\"'</p>\n",
       "                        <p>   \n",
       "                          &bull; \n",
       "                kql reference: Click on 'Help' tab > and Select 'kql reference' or execute '%kql --help \"kql\"'<br>\n",
       "                          &bull; \n",
       "                Kqlmagic configuration: execute '%config Kqlmagic'<br>\n",
       "                          &bull; \n",
       "                Kqlmagic usage: execute '%kql --usage'<br>\n",
       "                          &bull; \n",
       "                To report bug/issue: execute '%kql --bug-report'<br>                \n",
       "                        </p> \n",
       "                    </div>\n",
       "                </div>\n",
       "            </body>\n",
       "            </html>"
      ],
      "text/plain": [
       "<IPython.core.display.HTML object>"
      ]
     },
     "metadata": {},
     "output_type": "display_data"
    },
    {
     "data": {
      "text/html": [
       "<html>\n",
       "        <head>\n",
       "            \n",
       "            \n",
       "        </head>\n",
       "        <body>\n",
       "            <div><p style=' padding: 10px; color: #3a87ad; background-color: #d9edf7; border-color: #bce9f1'>Kqlmagic&nbsp;package&nbsp;is&nbsp;updated&nbsp;frequently.&nbsp;Run&nbsp;&apos;!pip&nbsp;install&nbsp;Kqlmagic&nbsp;--no-cache-dir&nbsp;--upgrade&apos;&nbsp;to&nbsp;use&nbsp;the&nbsp;latest&nbsp;version.<br>Kqlmagic&nbsp;version:&nbsp;0.1.114.post2,&nbsp;source:&nbsp;https://github.com/Microsoft/jupyter-Kqlmagic</p></div>\n",
       "        </body>\n",
       "        </html>"
      ],
      "text/plain": [
       "<IPython.core.display.HTML object>"
      ]
     },
     "metadata": {},
     "output_type": "display_data"
    },
    {
     "data": {
      "text/html": [
       "<!DOCTYPE html>\n",
       "            <html><body>\n",
       "            <div style='padding: 10px; color: #3a87ad; background-color: #d9edf7; border-color: #bce9f1'>\n",
       "            Click to find out what's new in Kqlmagic \n",
       "            <button onclick=\"this.style.visibility='visible';\n",
       "            kql_MagicLaunchWindowFunction('kqlmagic/temp_files/5492d697-c95c-4655-a648-c43a331014bf/what_new_history.html', 'fullscreen=no,directories=no,location=no,menubar=no,resizable=yes,scrollbars=yes,status=no,titlebar=no,toolbar=no,', 'what_new_history', '');\n",
       "            kql_MagicCloseWindow(kql_Magic_what_new_history, -1, -1);\">\n",
       "            What's New? </button>\n",
       "            </div>\n",
       "\n",
       "            <script>\n",
       "            var kql_Magic_what_new_history = null;\n",
       "\n",
       "\n",
       "            function kql_MagicCloseWindow(window_obj, obj_secs, itself_secs) {\n",
       "                if (obj_secs >= 0) {\n",
       "                    _timeout = setTimeout(function(){\n",
       "                        window_obj.close();\n",
       "                        if (itself_secs >= 0) {\n",
       "                            __timeout = setTimeout(function(){window.close();}, itself_secs * 1000);\n",
       "                        }\n",
       "                    }, obj_secs * 1000);\n",
       "                } else if (itself_secs >= 0) {\n",
       "                    _timeout = setTimeout(function(){window.close();}, itself_secs * 1000);\n",
       "                }\n",
       "            }\n",
       "\n",
       "            function kql_MagicLaunchWindowFunction(file_path_or_data, window_params, window_name, host_or_text) {\n",
       "                var url;\n",
       "                const baseURI = String(window.location);\n",
       "                if (host_or_text == 'text' || host_or_text == 'body') {\n",
       "                    url = ''\n",
       "                } else if (file_path_or_data.startsWith('http')) {\n",
       "                    url = file_path_or_data;\n",
       "                } else if (host_or_text.endsWith('.azureml.ms') || host_or_text.endsWith('.azureml.net')) {\n",
       "                    let azuremlBaseURI = String(window.document.baseURI);\n",
       "                    let start = azuremlBaseURI.search('activeFilePath=');\n",
       "                    if (start > 0) {\n",
       "                        start += 'activeFilePath='.length;\n",
       "                        let end = azuremlBaseURI.substring(start).search('&');\n",
       "                        if (end < 0) {\n",
       "                            end = undefined;\n",
       "                        }\n",
       "                        let parts = azuremlBaseURI.substring(start, end).split('/');\n",
       "                        parts.pop();\n",
       "                        url = host_or_text + '/tree/' + parts.join('/') + '/' + file_path_or_data;\n",
       "                    } else {\n",
       "                        var parts = baseURI.split('/');\n",
       "                        parts.pop();\n",
       "                        url = parts.join('/') + '/' + file_path_or_data;\n",
       "                    }\n",
       "                } else {\n",
       "                    var base_url = '';\n",
       "\n",
       "                    // check if azure notebook\n",
       "                    var azure_host = (host_or_text == null || host_or_text.length == 0) ? 'https://notebooks.azure.com' : host_or_text;\n",
       "                    var start = azure_host.search('//');\n",
       "                    var azure_host_suffix = '.' + azure_host.substring(start+2);\n",
       "\n",
       "                    var end = baseURI.search(azure_host_suffix);\n",
       "                    start = baseURI.search('//');\n",
       "                    if (start > 0 && end > 0) {\n",
       "                        // # azure notebook environment, assume template: https://library-user.notebooks.azure.com\n",
       "                        var parts = baseURI.substring(start+2, end).split('-');\n",
       "                        if (parts.length == 2) {\n",
       "                            var library = parts[0];\n",
       "                            var user = parts[1];\n",
       "                            base_url = azure_host + '/api/user/' +user+ '/library/' +library+ '/html/';\n",
       "                        }\n",
       "                    }\n",
       "\n",
       "                    // check if local jupyter lab\n",
       "                    if (base_url.length == 0) {\n",
       "                        var configDataScipt  = document.getElementById('jupyter-config-data');\n",
       "                        if (configDataScipt != null) {\n",
       "                            var jupyterConfigData = JSON.parse(configDataScipt.textContent);\n",
       "                            if (jupyterConfigData['appName'] == 'JupyterLab' && jupyterConfigData['serverRoot'] != null &&  jupyterConfigData['treeUrl'] != null) {\n",
       "                                var basePath = '/home/jovyan/work' + '/';\n",
       "                                if (basePath.startsWith(jupyterConfigData['serverRoot'])) {\n",
       "                                    base_url = '/files/' + basePath.substring(jupyterConfigData['serverRoot'].length+1);\n",
       "                                }\n",
       "                            }\n",
       "                        }\n",
       "                    }\n",
       "\n",
       "                    // works for local jupyter notebook\n",
       "                    if (base_url.length == 0) {\n",
       "\n",
       "                        var parts = baseURI.split('/');\n",
       "                        parts.pop(); // remove notebook name segment\n",
       "                        base_url = parts.join('/') + '/';\n",
       "                    }\n",
       "                    url = base_url + file_path_or_data;\n",
       "                }\n",
       "\n",
       "                window.focus();\n",
       "                var w = screen.width / 2;\n",
       "                var h = screen.height / 2;\n",
       "                params = 'width='+w+',height='+h;\n",
       "                // kql_Magic + window_name should be a global variable \n",
       "                window_obj = window.open(url, window_name, window_params + params);\n",
       "                if (url == '') {\n",
       "                    let decodedData = atob(file_path_or_data);\n",
       "                    if (host_or_text == 'text') {\n",
       "                        var el = window_obj.document.createElement('p');\n",
       "                        window_obj.document.body.overflow = 'auto';\n",
       "                        el.style.top = 0;\n",
       "                        el.style.left = 0;\n",
       "                        el.innerHTML = decodedData;\n",
       "                        window_obj.document.body.appendChild(el);\n",
       "                    } else {\n",
       "                        window_obj.document.body.innerHTML = decodedData;\n",
       "                    }\n",
       "                }\n",
       "                kql_Magic_what_new_history = window_obj;\n",
       "            }\n",
       "            </script>\n",
       "\n",
       "            </body></html>"
      ],
      "text/plain": [
       "<IPython.core.display.HTML object>"
      ]
     },
     "metadata": {},
     "output_type": "display_data"
    }
   ],
   "source": [
    "%reload_ext Kqlmagic"
   ]
  },
  {
   "cell_type": "markdown",
   "metadata": {},
   "source": []
  },
  {
   "cell_type": "code",
   "execution_count": 5,
   "metadata": {},
   "outputs": [
    {
     "data": {
      "text/html": [
       "<!DOCTYPE html>\n",
       "                            <html><body><script>\n",
       "\n",
       "                                // close authentication window\n",
       "                                if (kql_MagicUserCodeAuthWindow && kql_MagicUserCodeAuthWindow.opener != null && !kql_MagicUserCodeAuthWindow.closed) {\n",
       "                                    kql_MagicUserCodeAuthWindow.close()\n",
       "                                }\n",
       "                                // TODO: make sure, you clear the right cell. BTW, not sure it is a must to do any clearing\n",
       "\n",
       "                                // clear output cell\n",
       "                                Jupyter.notebook.clear_output(Jupyter.notebook.get_selected_index())\n",
       "\n",
       "                                // TODO: if in run all mode, move to last cell, otherwise move to next cell\n",
       "                                // move to next cell\n",
       "\n",
       "                            </script></body></html>"
      ],
      "text/plain": [
       "<IPython.core.display.HTML object>"
      ]
     },
     "metadata": {},
     "output_type": "display_data"
    },
    {
     "data": {
      "text/html": [
       "<!DOCTYPE html>\n",
       "            <html><body>\n",
       "            <div style=''>\n",
       "            \n",
       "            <button onclick=\"this.style.visibility='visible';\n",
       "            kql_MagicLaunchWindowFunction('kqlmagic/temp_files/5492d697-c95c-4655-a648-c43a331014bf/_arturol76-edge-benchmark_at_loganalytics_schema.html', 'fullscreen=no,directories=no,location=no,menubar=no,resizable=yes,scrollbars=yes,status=no,titlebar=no,toolbar=no,', '_arturol76_edge_benchmark_at_loganalytics_schema', '');\n",
       "            kql_MagicCloseWindow(kql_Magic__arturol76_edge_benchmark_at_loganalytics_schema, -1, -1);\">\n",
       "            popup schema arturol76-edge-benchmark@loganalytics</button>\n",
       "            </div>\n",
       "\n",
       "            <script>\n",
       "            var kql_Magic__arturol76_edge_benchmark_at_loganalytics_schema = null;\n",
       "\n",
       "\n",
       "            function kql_MagicCloseWindow(window_obj, obj_secs, itself_secs) {\n",
       "                if (obj_secs >= 0) {\n",
       "                    _timeout = setTimeout(function(){\n",
       "                        window_obj.close();\n",
       "                        if (itself_secs >= 0) {\n",
       "                            __timeout = setTimeout(function(){window.close();}, itself_secs * 1000);\n",
       "                        }\n",
       "                    }, obj_secs * 1000);\n",
       "                } else if (itself_secs >= 0) {\n",
       "                    _timeout = setTimeout(function(){window.close();}, itself_secs * 1000);\n",
       "                }\n",
       "            }\n",
       "\n",
       "            function kql_MagicLaunchWindowFunction(file_path_or_data, window_params, window_name, host_or_text) {\n",
       "                var url;\n",
       "                const baseURI = String(window.location);\n",
       "                if (host_or_text == 'text' || host_or_text == 'body') {\n",
       "                    url = ''\n",
       "                } else if (file_path_or_data.startsWith('http')) {\n",
       "                    url = file_path_or_data;\n",
       "                } else if (host_or_text.endsWith('.azureml.ms') || host_or_text.endsWith('.azureml.net')) {\n",
       "                    let azuremlBaseURI = String(window.document.baseURI);\n",
       "                    let start = azuremlBaseURI.search('activeFilePath=');\n",
       "                    if (start > 0) {\n",
       "                        start += 'activeFilePath='.length;\n",
       "                        let end = azuremlBaseURI.substring(start).search('&');\n",
       "                        if (end < 0) {\n",
       "                            end = undefined;\n",
       "                        }\n",
       "                        let parts = azuremlBaseURI.substring(start, end).split('/');\n",
       "                        parts.pop();\n",
       "                        url = host_or_text + '/tree/' + parts.join('/') + '/' + file_path_or_data;\n",
       "                    } else {\n",
       "                        var parts = baseURI.split('/');\n",
       "                        parts.pop();\n",
       "                        url = parts.join('/') + '/' + file_path_or_data;\n",
       "                    }\n",
       "                } else {\n",
       "                    var base_url = '';\n",
       "\n",
       "                    // check if azure notebook\n",
       "                    var azure_host = (host_or_text == null || host_or_text.length == 0) ? 'https://notebooks.azure.com' : host_or_text;\n",
       "                    var start = azure_host.search('//');\n",
       "                    var azure_host_suffix = '.' + azure_host.substring(start+2);\n",
       "\n",
       "                    var end = baseURI.search(azure_host_suffix);\n",
       "                    start = baseURI.search('//');\n",
       "                    if (start > 0 && end > 0) {\n",
       "                        // # azure notebook environment, assume template: https://library-user.notebooks.azure.com\n",
       "                        var parts = baseURI.substring(start+2, end).split('-');\n",
       "                        if (parts.length == 2) {\n",
       "                            var library = parts[0];\n",
       "                            var user = parts[1];\n",
       "                            base_url = azure_host + '/api/user/' +user+ '/library/' +library+ '/html/';\n",
       "                        }\n",
       "                    }\n",
       "\n",
       "                    // check if local jupyter lab\n",
       "                    if (base_url.length == 0) {\n",
       "                        var configDataScipt  = document.getElementById('jupyter-config-data');\n",
       "                        if (configDataScipt != null) {\n",
       "                            var jupyterConfigData = JSON.parse(configDataScipt.textContent);\n",
       "                            if (jupyterConfigData['appName'] == 'JupyterLab' && jupyterConfigData['serverRoot'] != null &&  jupyterConfigData['treeUrl'] != null) {\n",
       "                                var basePath = '/home/jovyan/work' + '/';\n",
       "                                if (basePath.startsWith(jupyterConfigData['serverRoot'])) {\n",
       "                                    base_url = '/files/' + basePath.substring(jupyterConfigData['serverRoot'].length+1);\n",
       "                                }\n",
       "                            }\n",
       "                        }\n",
       "                    }\n",
       "\n",
       "                    // works for local jupyter notebook\n",
       "                    if (base_url.length == 0) {\n",
       "\n",
       "                        var parts = baseURI.split('/');\n",
       "                        parts.pop(); // remove notebook name segment\n",
       "                        base_url = parts.join('/') + '/';\n",
       "                    }\n",
       "                    url = base_url + file_path_or_data;\n",
       "                }\n",
       "\n",
       "                window.focus();\n",
       "                var w = screen.width / 2;\n",
       "                var h = screen.height / 2;\n",
       "                params = 'width='+w+',height='+h;\n",
       "                // kql_Magic + window_name should be a global variable \n",
       "                window_obj = window.open(url, window_name, window_params + params);\n",
       "                if (url == '') {\n",
       "                    let decodedData = atob(file_path_or_data);\n",
       "                    if (host_or_text == 'text') {\n",
       "                        var el = window_obj.document.createElement('p');\n",
       "                        window_obj.document.body.overflow = 'auto';\n",
       "                        el.style.top = 0;\n",
       "                        el.style.left = 0;\n",
       "                        el.innerHTML = decodedData;\n",
       "                        window_obj.document.body.appendChild(el);\n",
       "                    } else {\n",
       "                        window_obj.document.body.innerHTML = decodedData;\n",
       "                    }\n",
       "                }\n",
       "                kql_Magic__arturol76_edge_benchmark_at_loganalytics_schema = window_obj;\n",
       "            }\n",
       "            </script>\n",
       "\n",
       "            </body></html>"
      ],
      "text/plain": [
       "<IPython.core.display.HTML object>"
      ]
     },
     "metadata": {},
     "output_type": "display_data"
    },
    {
     "data": {
      "application/javascript": [
       "try {IPython.notebook.kernel.reconnect();} catch(err) {;}"
      ],
      "text/plain": [
       "<IPython.core.display.Javascript object>"
      ]
     },
     "metadata": {},
     "output_type": "display_data"
    }
   ],
   "source": [
    "%kql loganalytics://code;workspace='1054c1b0-f063-40a7-823e-91dac02fbabc';alias='arturol76-edge-benchmark'"
   ]
  },
  {
   "cell_type": "markdown",
   "metadata": {},
   "source": [
    "Will the MaxUpstreamBatchSize=100 increase the latency of low-rate streams?\n",
    "\n",
    "# login\n",
    "```bash\n",
    "ssh arturo@standard-ds3-v2-edge-1-2-1626596809.westeurope.cloudapp.azure.com -i ../keys/vm-key\n",
    "```\n",
    "\n",
    "# deploy test\n",
    "```bash\n",
    "az iot edge set-modules -n arturol76-s1-benchmark -d standard-ds3-v2-edge-1-2-1626596809 --content ../tests/test30-low-rate-metrics-1.2.json\n",
    "```\n"
   ]
  },
  {
   "cell_type": "code",
   "execution_count": null,
   "metadata": {},
   "outputs": [],
   "source": [
    "!az iot edge set-modules -n arturol76-s1-benchmark -d standard-ds3-v2-edge-1-2-1626596809 --content ../tests/test30-low-rate-metrics-1.2.json"
   ]
  },
  {
   "cell_type": "code",
   "execution_count": 136,
   "metadata": {},
   "outputs": [],
   "source": [
    "from datetime import datetime, timedelta\n",
    "from dateutil import parser\n",
    "testStart=parser.parse(\"2021-07-28T17:11:00Z\")\n",
    "testStop=parser.parse(\"2021-07-28T17:15:00Z\")"
   ]
  },
  {
   "cell_type": "code",
   "execution_count": 147,
   "metadata": {},
   "outputs": [
    {
     "data": {
      "text/html": [
       "<html>\n",
       "        <head>\n",
       "            \n",
       "            \n",
       "        </head>\n",
       "        <body>\n",
       "            <div><p style=' padding: 10px; color: #3a87ad; background-color: #d9edf7; border-color: #bce9f1'>&nbsp;*&nbsp;arturol76-edge-benchmark@loganalytics</p></div>\n",
       "        </body>\n",
       "        </html>"
      ],
      "text/plain": [
       "<IPython.core.display.HTML object>"
      ]
     },
     "metadata": {},
     "output_type": "display_data"
    },
    {
     "data": {
      "text/html": [
       "<html>\n",
       "        <head>\n",
       "            <style>#uuid-c26442d8ea204a72928c22131fe1212a {\n",
       "                    display: block; \n",
       "                    font-style:italic;\n",
       "                    font-size:300%;\n",
       "                    text-align:center;\n",
       "                } </style>\n",
       "            <title>Kqlmagic - chart</title>\n",
       "        </head>\n",
       "        <body>\n",
       "            <div id=\"uuid-c26442d8ea204a72928c22131fe1212a\"><br><br>EMPTY CHART (no data)<br><br>.</div>\n",
       "        </body>\n",
       "        </html>"
      ],
      "text/plain": [
       "<IPython.core.display.HTML object>"
      ]
     },
     "metadata": {},
     "output_type": "display_data"
    },
    {
     "data": {
      "text/html": [
       "<html>\n",
       "        <head>\n",
       "            \n",
       "            \n",
       "        </head>\n",
       "        <body>\n",
       "            <div><p style=' padding: 10px; color: #3a87ad; background-color: #d9edf7; border-color: #bce9f1'>Done&nbsp;(00:01.781):&nbsp;0&nbsp;records</p></div>\n",
       "        </body>\n",
       "        </html>"
      ],
      "text/plain": [
       "<IPython.core.display.HTML object>"
      ]
     },
     "metadata": {},
     "output_type": "display_data"
    },
    {
     "data": {
      "text/html": [],
      "text/plain": [
       "[]"
      ]
     },
     "execution_count": 147,
     "metadata": {},
     "output_type": "execute_result"
    }
   ],
   "source": [
    "%%kql\n",
    "    let _start=testStart;\n",
    "    let _stop=testStop;\n",
    "    InsightsMetrics \n",
    "    | where Origin == \"iot.azm.ms\" and Namespace == \"metricsmodule\" \n",
    "    | where Name == \"edgehub_queue_length\" \n",
    "    | extend dimensions=parse_json(Tags) \n",
    "    | extend device = tostring(dimensions.edge_device) \n",
    "    | extend ep = tostring(dimensions.endpoint) \n",
    "    | where  ep == \"iothub\"\n",
    "    | extend qlen = toint(Val)\n",
    "    | where qlen > 0 and qlen != 2490317 \n",
    "    | where TimeGenerated > _start and TimeGenerated < _stop \n",
    "    | project TimeGenerated, qlen\n",
    "    | render timechart title='edgehub_queue_length'"
   ]
  },
  {
   "cell_type": "code",
   "execution_count": 148,
   "metadata": {},
   "outputs": [],
   "source": [
    "df = _kql_raw_result_.to_dataframe()\n",
    "df = df.sort_values(by=['TimeGenerated'])"
   ]
  },
  {
   "cell_type": "code",
   "execution_count": 149,
   "metadata": {},
   "outputs": [],
   "source": [
    "qlenDf = df"
   ]
  },
  {
   "cell_type": "code",
   "execution_count": 150,
   "metadata": {},
   "outputs": [
    {
     "data": {
      "text/html": [
       "<html>\n",
       "        <head>\n",
       "            \n",
       "            \n",
       "        </head>\n",
       "        <body>\n",
       "            <div><p style=' padding: 10px; color: #3a87ad; background-color: #d9edf7; border-color: #bce9f1'>&nbsp;*&nbsp;arturol76-edge-benchmark@loganalytics</p></div>\n",
       "        </body>\n",
       "        </html>"
      ],
      "text/plain": [
       "<IPython.core.display.HTML object>"
      ]
     },
     "metadata": {},
     "output_type": "display_data"
    },
    {
     "data": {
      "text/html": [
       "<html>\n",
       "        <head>\n",
       "            \n",
       "            <title>Kqlmagic - table</title>\n",
       "        </head>\n",
       "        <body>\n",
       "            <table>\n",
       "    <thead>\n",
       "        <tr>\n",
       "            <th>TimeGenerated</th>\n",
       "            <th>Val</th>\n",
       "        </tr>\n",
       "    </thead>\n",
       "    <tbody>\n",
       "        <tr>\n",
       "            <td>2021-07-28 17:12:52+00:00</td>\n",
       "            <td>1.79892064761143</td>\n",
       "        </tr>\n",
       "        <tr>\n",
       "            <td>2021-07-28 17:12:32+00:00</td>\n",
       "            <td>1.19928043174096</td>\n",
       "        </tr>\n",
       "        <tr>\n",
       "            <td>2021-07-28 17:12:39+00:00</td>\n",
       "            <td>0</td>\n",
       "        </tr>\n",
       "        <tr>\n",
       "            <td>2021-07-28 17:12:36+00:00</td>\n",
       "            <td>1.19928043174096</td>\n",
       "        </tr>\n",
       "        <tr>\n",
       "            <td>2021-07-28 17:11:02+00:00</td>\n",
       "            <td>0</td>\n",
       "        </tr>\n",
       "        <tr>\n",
       "            <td>2021-07-28 17:11:10+00:00</td>\n",
       "            <td>0</td>\n",
       "        </tr>\n",
       "        <tr>\n",
       "            <td>2021-07-28 17:11:04+00:00</td>\n",
       "            <td>0</td>\n",
       "        </tr>\n",
       "        <tr>\n",
       "            <td>2021-07-28 17:11:06+00:00</td>\n",
       "            <td>0</td>\n",
       "        </tr>\n",
       "        <tr>\n",
       "            <td>2021-07-28 17:11:08+00:00</td>\n",
       "            <td>0</td>\n",
       "        </tr>\n",
       "        <tr>\n",
       "            <td>2021-07-28 17:11:19+00:00</td>\n",
       "            <td>0</td>\n",
       "        </tr>\n",
       "        <tr>\n",
       "            <td>2021-07-28 17:11:28+00:00</td>\n",
       "            <td>0</td>\n",
       "        </tr>\n",
       "        <tr>\n",
       "            <td>2021-07-28 17:11:13+00:00</td>\n",
       "            <td>0</td>\n",
       "        </tr>\n",
       "        <tr>\n",
       "            <td>2021-07-28 17:11:24+00:00</td>\n",
       "            <td>0</td>\n",
       "        </tr>\n",
       "        <tr>\n",
       "            <td>2021-07-28 17:11:15+00:00</td>\n",
       "            <td>0</td>\n",
       "        </tr>\n",
       "        <tr>\n",
       "            <td>2021-07-28 17:11:22+00:00</td>\n",
       "            <td>0</td>\n",
       "        </tr>\n",
       "        <tr>\n",
       "            <td>2021-07-28 17:11:30+00:00</td>\n",
       "            <td>0</td>\n",
       "        </tr>\n",
       "        <tr>\n",
       "            <td>2021-07-28 17:11:40+00:00</td>\n",
       "            <td>0</td>\n",
       "        </tr>\n",
       "        <tr>\n",
       "            <td>2021-07-28 17:12:05+00:00</td>\n",
       "            <td>99.1207034372502</td>\n",
       "        </tr>\n",
       "        <tr>\n",
       "            <td>2021-07-28 17:11:49+00:00</td>\n",
       "            <td>0</td>\n",
       "        </tr>\n",
       "        <tr>\n",
       "            <td>2021-07-28 17:12:10+00:00</td>\n",
       "            <td>99.6996996996997</td>\n",
       "        </tr>\n",
       "        <tr>\n",
       "            <td>2021-07-28 17:11:45+00:00</td>\n",
       "            <td>0</td>\n",
       "        </tr>\n",
       "        <tr>\n",
       "            <td>2021-07-28 17:11:47+00:00</td>\n",
       "            <td>0</td>\n",
       "        </tr>\n",
       "        <tr>\n",
       "            <td>2021-07-28 17:11:51+00:00</td>\n",
       "            <td>0</td>\n",
       "        </tr>\n",
       "        <tr>\n",
       "            <td>2021-07-28 17:12:19+00:00</td>\n",
       "            <td>0</td>\n",
       "        </tr>\n",
       "        <tr>\n",
       "            <td>2021-07-28 17:12:21+00:00</td>\n",
       "            <td>0</td>\n",
       "        </tr>\n",
       "        <tr>\n",
       "            <td>2021-07-28 17:12:16+00:00</td>\n",
       "            <td>1.2</td>\n",
       "        </tr>\n",
       "        <tr>\n",
       "            <td>2021-07-28 17:12:12+00:00</td>\n",
       "            <td>1.2</td>\n",
       "        </tr>\n",
       "        <tr>\n",
       "            <td>2021-07-28 17:12:25+00:00</td>\n",
       "            <td>-101.159536185526</td>\n",
       "        </tr>\n",
       "        <tr>\n",
       "            <td>2021-07-28 17:12:27+00:00</td>\n",
       "            <td>100.0200040008</td>\n",
       "        </tr>\n",
       "        <tr>\n",
       "            <td>2021-07-28 17:12:14+00:00</td>\n",
       "            <td>1.2</td>\n",
       "        </tr>\n",
       "        <tr>\n",
       "            <td>2021-07-28 17:12:50+00:00</td>\n",
       "            <td>99.619923984797</td>\n",
       "        </tr>\n",
       "        <tr>\n",
       "            <td>2021-07-28 17:12:43+00:00</td>\n",
       "            <td>-101.339196482111</td>\n",
       "        </tr>\n",
       "        <tr>\n",
       "            <td>2021-07-28 17:12:46+00:00</td>\n",
       "            <td>-101.339196482111</td>\n",
       "        </tr>\n",
       "        <tr>\n",
       "            <td>2021-07-28 17:12:41+00:00</td>\n",
       "            <td>0</td>\n",
       "        </tr>\n",
       "        <tr>\n",
       "            <td>2021-07-28 17:12:23+00:00</td>\n",
       "            <td>-101.159536185526</td>\n",
       "        </tr>\n",
       "        <tr>\n",
       "            <td>2021-07-28 17:12:48+00:00</td>\n",
       "            <td>99.619923984797</td>\n",
       "        </tr>\n",
       "        <tr>\n",
       "            <td>2021-07-28 17:11:26+00:00</td>\n",
       "            <td>0</td>\n",
       "        </tr>\n",
       "        <tr>\n",
       "            <td>2021-07-28 17:11:26+00:00</td>\n",
       "            <td>0</td>\n",
       "        </tr>\n",
       "        <tr>\n",
       "            <td>2021-07-28 17:11:33+00:00</td>\n",
       "            <td>0</td>\n",
       "        </tr>\n",
       "        <tr>\n",
       "            <td>2021-07-28 17:11:17+00:00</td>\n",
       "            <td>0</td>\n",
       "        </tr>\n",
       "        <tr>\n",
       "            <td>2021-07-28 17:11:36+00:00</td>\n",
       "            <td>0</td>\n",
       "        </tr>\n",
       "        <tr>\n",
       "            <td>2021-07-28 17:11:38+00:00</td>\n",
       "            <td>0</td>\n",
       "        </tr>\n",
       "        <tr>\n",
       "            <td>2021-07-28 17:11:42+00:00</td>\n",
       "            <td>0</td>\n",
       "        </tr>\n",
       "        <tr>\n",
       "            <td>2021-07-28 17:11:53+00:00</td>\n",
       "            <td>0</td>\n",
       "        </tr>\n",
       "        <tr>\n",
       "            <td>2021-07-28 17:12:08+00:00</td>\n",
       "            <td>99.6996996996997</td>\n",
       "        </tr>\n",
       "    </tbody>\n",
       "</table>\n",
       "        </body>\n",
       "        </html>"
      ],
      "text/plain": [
       "<IPython.core.display.HTML object>"
      ]
     },
     "metadata": {},
     "output_type": "display_data"
    },
    {
     "data": {
      "text/html": [
       "<html>\n",
       "        <head>\n",
       "            \n",
       "            \n",
       "        </head>\n",
       "        <body>\n",
       "            <div><p style=' padding: 10px; color: #3a87ad; background-color: #d9edf7; border-color: #bce9f1'>Done&nbsp;(00:00.810):&nbsp;45&nbsp;records</p></div>\n",
       "        </body>\n",
       "        </html>"
      ],
      "text/plain": [
       "<IPython.core.display.HTML object>"
      ]
     },
     "metadata": {},
     "output_type": "display_data"
    },
    {
     "data": {
      "text/html": [],
      "text/plain": [
       "[{'TimeGenerated': datetime.datetime(2021, 7, 28, 17, 12, 52, tzinfo=tzutc()), 'Val': 1.79892064761143},\n",
       " {'TimeGenerated': datetime.datetime(2021, 7, 28, 17, 12, 32, tzinfo=tzutc()), 'Val': 1.19928043174096},\n",
       " {'TimeGenerated': datetime.datetime(2021, 7, 28, 17, 12, 39, tzinfo=tzutc()), 'Val': 0},\n",
       " {'TimeGenerated': datetime.datetime(2021, 7, 28, 17, 12, 36, tzinfo=tzutc()), 'Val': 1.19928043174096},\n",
       " {'TimeGenerated': datetime.datetime(2021, 7, 28, 17, 11, 2, tzinfo=tzutc()), 'Val': 0},\n",
       " {'TimeGenerated': datetime.datetime(2021, 7, 28, 17, 11, 10, tzinfo=tzutc()), 'Val': 0},\n",
       " {'TimeGenerated': datetime.datetime(2021, 7, 28, 17, 11, 4, tzinfo=tzutc()), 'Val': 0},\n",
       " {'TimeGenerated': datetime.datetime(2021, 7, 28, 17, 11, 6, tzinfo=tzutc()), 'Val': 0},\n",
       " {'TimeGenerated': datetime.datetime(2021, 7, 28, 17, 11, 8, tzinfo=tzutc()), 'Val': 0},\n",
       " {'TimeGenerated': datetime.datetime(2021, 7, 28, 17, 11, 19, tzinfo=tzutc()), 'Val': 0},\n",
       " {'TimeGenerated': datetime.datetime(2021, 7, 28, 17, 11, 28, tzinfo=tzutc()), 'Val': 0},\n",
       " {'TimeGenerated': datetime.datetime(2021, 7, 28, 17, 11, 13, tzinfo=tzutc()), 'Val': 0},\n",
       " {'TimeGenerated': datetime.datetime(2021, 7, 28, 17, 11, 24, tzinfo=tzutc()), 'Val': 0},\n",
       " {'TimeGenerated': datetime.datetime(2021, 7, 28, 17, 11, 15, tzinfo=tzutc()), 'Val': 0},\n",
       " {'TimeGenerated': datetime.datetime(2021, 7, 28, 17, 11, 22, tzinfo=tzutc()), 'Val': 0},\n",
       " {'TimeGenerated': datetime.datetime(2021, 7, 28, 17, 11, 30, tzinfo=tzutc()), 'Val': 0},\n",
       " {'TimeGenerated': datetime.datetime(2021, 7, 28, 17, 11, 40, tzinfo=tzutc()), 'Val': 0},\n",
       " {'TimeGenerated': datetime.datetime(2021, 7, 28, 17, 12, 5, tzinfo=tzutc()), 'Val': 99.1207034372502},\n",
       " {'TimeGenerated': datetime.datetime(2021, 7, 28, 17, 11, 49, tzinfo=tzutc()), 'Val': 0},\n",
       " {'TimeGenerated': datetime.datetime(2021, 7, 28, 17, 12, 10, tzinfo=tzutc()), 'Val': 99.6996996996997},\n",
       " {'TimeGenerated': datetime.datetime(2021, 7, 28, 17, 11, 45, tzinfo=tzutc()), 'Val': 0},\n",
       " {'TimeGenerated': datetime.datetime(2021, 7, 28, 17, 11, 47, tzinfo=tzutc()), 'Val': 0},\n",
       " {'TimeGenerated': datetime.datetime(2021, 7, 28, 17, 11, 51, tzinfo=tzutc()), 'Val': 0},\n",
       " {'TimeGenerated': datetime.datetime(2021, 7, 28, 17, 12, 19, tzinfo=tzutc()), 'Val': 0},\n",
       " {'TimeGenerated': datetime.datetime(2021, 7, 28, 17, 12, 21, tzinfo=tzutc()), 'Val': 0},\n",
       " {'TimeGenerated': datetime.datetime(2021, 7, 28, 17, 12, 16, tzinfo=tzutc()), 'Val': 1.2},\n",
       " {'TimeGenerated': datetime.datetime(2021, 7, 28, 17, 12, 12, tzinfo=tzutc()), 'Val': 1.2},\n",
       " {'TimeGenerated': datetime.datetime(2021, 7, 28, 17, 12, 25, tzinfo=tzutc()), 'Val': -101.159536185526},\n",
       " {'TimeGenerated': datetime.datetime(2021, 7, 28, 17, 12, 27, tzinfo=tzutc()), 'Val': 100.0200040008},\n",
       " {'TimeGenerated': datetime.datetime(2021, 7, 28, 17, 12, 14, tzinfo=tzutc()), 'Val': 1.2},\n",
       " {'TimeGenerated': datetime.datetime(2021, 7, 28, 17, 12, 50, tzinfo=tzutc()), 'Val': 99.619923984797},\n",
       " {'TimeGenerated': datetime.datetime(2021, 7, 28, 17, 12, 43, tzinfo=tzutc()), 'Val': -101.339196482111},\n",
       " {'TimeGenerated': datetime.datetime(2021, 7, 28, 17, 12, 46, tzinfo=tzutc()), 'Val': -101.339196482111},\n",
       " {'TimeGenerated': datetime.datetime(2021, 7, 28, 17, 12, 41, tzinfo=tzutc()), 'Val': 0},\n",
       " {'TimeGenerated': datetime.datetime(2021, 7, 28, 17, 12, 23, tzinfo=tzutc()), 'Val': -101.159536185526},\n",
       " {'TimeGenerated': datetime.datetime(2021, 7, 28, 17, 12, 48, tzinfo=tzutc()), 'Val': 99.619923984797},\n",
       " {'TimeGenerated': datetime.datetime(2021, 7, 28, 17, 11, 26, tzinfo=tzutc()), 'Val': 0},\n",
       " {'TimeGenerated': datetime.datetime(2021, 7, 28, 17, 11, 26, tzinfo=tzutc()), 'Val': 0},\n",
       " {'TimeGenerated': datetime.datetime(2021, 7, 28, 17, 11, 33, tzinfo=tzutc()), 'Val': 0},\n",
       " {'TimeGenerated': datetime.datetime(2021, 7, 28, 17, 11, 17, tzinfo=tzutc()), 'Val': 0},\n",
       " {'TimeGenerated': datetime.datetime(2021, 7, 28, 17, 11, 36, tzinfo=tzutc()), 'Val': 0},\n",
       " {'TimeGenerated': datetime.datetime(2021, 7, 28, 17, 11, 38, tzinfo=tzutc()), 'Val': 0},\n",
       " {'TimeGenerated': datetime.datetime(2021, 7, 28, 17, 11, 42, tzinfo=tzutc()), 'Val': 0},\n",
       " {'TimeGenerated': datetime.datetime(2021, 7, 28, 17, 11, 53, tzinfo=tzutc()), 'Val': 0},\n",
       " {'TimeGenerated': datetime.datetime(2021, 7, 28, 17, 12, 8, tzinfo=tzutc()), 'Val': 99.6996996996997}]"
      ]
     },
     "execution_count": 150,
     "metadata": {},
     "output_type": "execute_result"
    }
   ],
   "source": [
    "%%kql\n",
    "    let _start=testStart;\n",
    "    let _stop=testStop;\n",
    "    let _module_id=\"source\";\n",
    "    InsightsMetrics\n",
    "    | where Origin == \"iot.azm.ms\" and Namespace == \"metricsmodule\"\n",
    "    | where Name == \"rate\"\n",
    "    | extend dimensions = parse_json(Tags)\n",
    "    | extend module_id = dimensions.module_id\n",
    "    | extend channel = dimensions.input_index\n",
    "    | where module_id == _module_id\n",
    "    | where TimeGenerated > _start and TimeGenerated < _stop\n",
    "    | project TimeGenerated, Val"
   ]
  },
  {
   "cell_type": "code",
   "execution_count": 151,
   "metadata": {},
   "outputs": [],
   "source": [
    "df = _kql_raw_result_.to_dataframe()\n",
    "df = df.sort_values(by=['TimeGenerated'])"
   ]
  },
  {
   "cell_type": "code",
   "execution_count": 152,
   "metadata": {},
   "outputs": [],
   "source": [
    "sourceRateDf = df"
   ]
  },
  {
   "cell_type": "code",
   "execution_count": 153,
   "metadata": {},
   "outputs": [
    {
     "data": {
      "text/html": [
       "<html>\n",
       "        <head>\n",
       "            \n",
       "            \n",
       "        </head>\n",
       "        <body>\n",
       "            <div><p style=' padding: 10px; color: #3a87ad; background-color: #d9edf7; border-color: #bce9f1'>&nbsp;*&nbsp;arturol76-edge-benchmark@loganalytics</p></div>\n",
       "        </body>\n",
       "        </html>"
      ],
      "text/plain": [
       "<IPython.core.display.HTML object>"
      ]
     },
     "metadata": {},
     "output_type": "display_data"
    },
    {
     "data": {
      "text/html": [
       "<html>\n",
       "        <head>\n",
       "            \n",
       "            <title>Kqlmagic - table</title>\n",
       "        </head>\n",
       "        <body>\n",
       "            <table>\n",
       "    <thead>\n",
       "        <tr>\n",
       "            <th>TimeGenerated</th>\n",
       "            <th>Val</th>\n",
       "        </tr>\n",
       "    </thead>\n",
       "    <tbody>\n",
       "        <tr>\n",
       "            <td>2021-07-28 17:12:52+00:00</td>\n",
       "            <td>38.0076015203041</td>\n",
       "        </tr>\n",
       "        <tr>\n",
       "            <td>2021-07-28 17:12:32+00:00</td>\n",
       "            <td>37.6075215043009</td>\n",
       "        </tr>\n",
       "        <tr>\n",
       "            <td>2021-07-28 17:12:39+00:00</td>\n",
       "            <td>37.6075215043009</td>\n",
       "        </tr>\n",
       "        <tr>\n",
       "            <td>2021-07-28 17:12:36+00:00</td>\n",
       "            <td>37.6075215043009</td>\n",
       "        </tr>\n",
       "        <tr>\n",
       "            <td>2021-07-28 17:11:02+00:00</td>\n",
       "            <td>9.2</td>\n",
       "        </tr>\n",
       "        <tr>\n",
       "            <td>2021-07-28 17:11:10+00:00</td>\n",
       "            <td>9.2</td>\n",
       "        </tr>\n",
       "        <tr>\n",
       "            <td>2021-07-28 17:11:04+00:00</td>\n",
       "            <td>9.2</td>\n",
       "        </tr>\n",
       "        <tr>\n",
       "            <td>2021-07-28 17:11:06+00:00</td>\n",
       "            <td>9.2</td>\n",
       "        </tr>\n",
       "        <tr>\n",
       "            <td>2021-07-28 17:11:08+00:00</td>\n",
       "            <td>9.2</td>\n",
       "        </tr>\n",
       "        <tr>\n",
       "            <td>2021-07-28 17:11:19+00:00</td>\n",
       "            <td>9.2</td>\n",
       "        </tr>\n",
       "        <tr>\n",
       "            <td>2021-07-28 17:11:28+00:00</td>\n",
       "            <td>9.2</td>\n",
       "        </tr>\n",
       "        <tr>\n",
       "            <td>2021-07-28 17:11:13+00:00</td>\n",
       "            <td>9.2</td>\n",
       "        </tr>\n",
       "        <tr>\n",
       "            <td>2021-07-28 17:11:24+00:00</td>\n",
       "            <td>9.2</td>\n",
       "        </tr>\n",
       "        <tr>\n",
       "            <td>2021-07-28 17:11:15+00:00</td>\n",
       "            <td>9.2</td>\n",
       "        </tr>\n",
       "        <tr>\n",
       "            <td>2021-07-28 17:11:22+00:00</td>\n",
       "            <td>9.2</td>\n",
       "        </tr>\n",
       "        <tr>\n",
       "            <td>2021-07-28 17:11:30+00:00</td>\n",
       "            <td>9.2</td>\n",
       "        </tr>\n",
       "        <tr>\n",
       "            <td>2021-07-28 17:11:40+00:00</td>\n",
       "            <td>9.2</td>\n",
       "        </tr>\n",
       "        <tr>\n",
       "            <td>2021-07-28 17:12:05+00:00</td>\n",
       "            <td>99.7800439912018</td>\n",
       "        </tr>\n",
       "        <tr>\n",
       "            <td>2021-07-28 17:11:49+00:00</td>\n",
       "            <td>9.2</td>\n",
       "        </tr>\n",
       "        <tr>\n",
       "            <td>2021-07-28 17:12:10+00:00</td>\n",
       "            <td>37.4374374374374</td>\n",
       "        </tr>\n",
       "        <tr>\n",
       "            <td>2021-07-28 17:11:45+00:00</td>\n",
       "            <td>9.2</td>\n",
       "        </tr>\n",
       "        <tr>\n",
       "            <td>2021-07-28 17:11:47+00:00</td>\n",
       "            <td>9.2</td>\n",
       "        </tr>\n",
       "        <tr>\n",
       "            <td>2021-07-28 17:11:51+00:00</td>\n",
       "            <td>9.2</td>\n",
       "        </tr>\n",
       "        <tr>\n",
       "            <td>2021-07-28 17:12:19+00:00</td>\n",
       "            <td>37.4374374374374</td>\n",
       "        </tr>\n",
       "        <tr>\n",
       "            <td>2021-07-28 17:12:21+00:00</td>\n",
       "            <td>62.4249699879952</td>\n",
       "        </tr>\n",
       "        <tr>\n",
       "            <td>2021-07-28 17:12:16+00:00</td>\n",
       "            <td>37.4374374374374</td>\n",
       "        </tr>\n",
       "        <tr>\n",
       "            <td>2021-07-28 17:12:12+00:00</td>\n",
       "            <td>37.4374374374374</td>\n",
       "        </tr>\n",
       "        <tr>\n",
       "            <td>2021-07-28 17:12:25+00:00</td>\n",
       "            <td>99.9800039992002</td>\n",
       "        </tr>\n",
       "        <tr>\n",
       "            <td>2021-07-28 17:12:27+00:00</td>\n",
       "            <td>99.9800039992002</td>\n",
       "        </tr>\n",
       "        <tr>\n",
       "            <td>2021-07-28 17:12:14+00:00</td>\n",
       "            <td>37.4374374374374</td>\n",
       "        </tr>\n",
       "        <tr>\n",
       "            <td>2021-07-28 17:12:50+00:00</td>\n",
       "            <td>38.0076015203041</td>\n",
       "        </tr>\n",
       "        <tr>\n",
       "            <td>2021-07-28 17:12:01+00:00</td>\n",
       "            <td>62.8251300520208</td>\n",
       "        </tr>\n",
       "        <tr>\n",
       "            <td>2021-07-28 17:12:43+00:00</td>\n",
       "            <td>62.1627023785729</td>\n",
       "        </tr>\n",
       "        <tr>\n",
       "            <td>2021-07-28 17:12:46+00:00</td>\n",
       "            <td>99.8199639927986</td>\n",
       "        </tr>\n",
       "        <tr>\n",
       "            <td>2021-07-28 17:12:41+00:00</td>\n",
       "            <td>62.1627023785729</td>\n",
       "        </tr>\n",
       "        <tr>\n",
       "            <td>2021-07-28 17:12:23+00:00</td>\n",
       "            <td>62.4249699879952</td>\n",
       "        </tr>\n",
       "        <tr>\n",
       "            <td>2021-07-28 17:12:48+00:00</td>\n",
       "            <td>99.8199639927986</td>\n",
       "        </tr>\n",
       "        <tr>\n",
       "            <td>2021-07-28 17:11:26+00:00</td>\n",
       "            <td>9.2</td>\n",
       "        </tr>\n",
       "        <tr>\n",
       "            <td>2021-07-28 17:11:26+00:00</td>\n",
       "            <td>9.2</td>\n",
       "        </tr>\n",
       "        <tr>\n",
       "            <td>2021-07-28 17:11:33+00:00</td>\n",
       "            <td>9.2</td>\n",
       "        </tr>\n",
       "        <tr>\n",
       "            <td>2021-07-28 17:11:17+00:00</td>\n",
       "            <td>9.2</td>\n",
       "        </tr>\n",
       "        <tr>\n",
       "            <td>2021-07-28 17:11:36+00:00</td>\n",
       "            <td>9.2</td>\n",
       "        </tr>\n",
       "        <tr>\n",
       "            <td>2021-07-28 17:11:38+00:00</td>\n",
       "            <td>9.2</td>\n",
       "        </tr>\n",
       "        <tr>\n",
       "            <td>2021-07-28 17:11:42+00:00</td>\n",
       "            <td>9.2</td>\n",
       "        </tr>\n",
       "        <tr>\n",
       "            <td>2021-07-28 17:11:53+00:00</td>\n",
       "            <td>9.2</td>\n",
       "        </tr>\n",
       "        <tr>\n",
       "            <td>2021-07-28 17:11:56+00:00</td>\n",
       "            <td>9.2</td>\n",
       "        </tr>\n",
       "        <tr>\n",
       "            <td>2021-07-28 17:12:08+00:00</td>\n",
       "            <td>99.7800439912018</td>\n",
       "        </tr>\n",
       "    </tbody>\n",
       "</table>\n",
       "        </body>\n",
       "        </html>"
      ],
      "text/plain": [
       "<IPython.core.display.HTML object>"
      ]
     },
     "metadata": {},
     "output_type": "display_data"
    },
    {
     "data": {
      "text/html": [
       "<html>\n",
       "        <head>\n",
       "            \n",
       "            \n",
       "        </head>\n",
       "        <body>\n",
       "            <div><p style=' padding: 10px; color: #3a87ad; background-color: #d9edf7; border-color: #bce9f1'>Done&nbsp;(00:00.665):&nbsp;47&nbsp;records</p></div>\n",
       "        </body>\n",
       "        </html>"
      ],
      "text/plain": [
       "<IPython.core.display.HTML object>"
      ]
     },
     "metadata": {},
     "output_type": "display_data"
    },
    {
     "data": {
      "text/html": [],
      "text/plain": [
       "[{'TimeGenerated': datetime.datetime(2021, 7, 28, 17, 12, 52, tzinfo=tzutc()), 'Val': 38.0076015203041},\n",
       " {'TimeGenerated': datetime.datetime(2021, 7, 28, 17, 12, 32, tzinfo=tzutc()), 'Val': 37.6075215043009},\n",
       " {'TimeGenerated': datetime.datetime(2021, 7, 28, 17, 12, 39, tzinfo=tzutc()), 'Val': 37.6075215043009},\n",
       " {'TimeGenerated': datetime.datetime(2021, 7, 28, 17, 12, 36, tzinfo=tzutc()), 'Val': 37.6075215043009},\n",
       " {'TimeGenerated': datetime.datetime(2021, 7, 28, 17, 11, 2, tzinfo=tzutc()), 'Val': 9.2},\n",
       " {'TimeGenerated': datetime.datetime(2021, 7, 28, 17, 11, 10, tzinfo=tzutc()), 'Val': 9.2},\n",
       " {'TimeGenerated': datetime.datetime(2021, 7, 28, 17, 11, 4, tzinfo=tzutc()), 'Val': 9.2},\n",
       " {'TimeGenerated': datetime.datetime(2021, 7, 28, 17, 11, 6, tzinfo=tzutc()), 'Val': 9.2},\n",
       " {'TimeGenerated': datetime.datetime(2021, 7, 28, 17, 11, 8, tzinfo=tzutc()), 'Val': 9.2},\n",
       " {'TimeGenerated': datetime.datetime(2021, 7, 28, 17, 11, 19, tzinfo=tzutc()), 'Val': 9.2},\n",
       " {'TimeGenerated': datetime.datetime(2021, 7, 28, 17, 11, 28, tzinfo=tzutc()), 'Val': 9.2},\n",
       " {'TimeGenerated': datetime.datetime(2021, 7, 28, 17, 11, 13, tzinfo=tzutc()), 'Val': 9.2},\n",
       " {'TimeGenerated': datetime.datetime(2021, 7, 28, 17, 11, 24, tzinfo=tzutc()), 'Val': 9.2},\n",
       " {'TimeGenerated': datetime.datetime(2021, 7, 28, 17, 11, 15, tzinfo=tzutc()), 'Val': 9.2},\n",
       " {'TimeGenerated': datetime.datetime(2021, 7, 28, 17, 11, 22, tzinfo=tzutc()), 'Val': 9.2},\n",
       " {'TimeGenerated': datetime.datetime(2021, 7, 28, 17, 11, 30, tzinfo=tzutc()), 'Val': 9.2},\n",
       " {'TimeGenerated': datetime.datetime(2021, 7, 28, 17, 11, 40, tzinfo=tzutc()), 'Val': 9.2},\n",
       " {'TimeGenerated': datetime.datetime(2021, 7, 28, 17, 12, 5, tzinfo=tzutc()), 'Val': 99.7800439912018},\n",
       " {'TimeGenerated': datetime.datetime(2021, 7, 28, 17, 11, 49, tzinfo=tzutc()), 'Val': 9.2},\n",
       " {'TimeGenerated': datetime.datetime(2021, 7, 28, 17, 12, 10, tzinfo=tzutc()), 'Val': 37.4374374374374},\n",
       " {'TimeGenerated': datetime.datetime(2021, 7, 28, 17, 11, 45, tzinfo=tzutc()), 'Val': 9.2},\n",
       " {'TimeGenerated': datetime.datetime(2021, 7, 28, 17, 11, 47, tzinfo=tzutc()), 'Val': 9.2},\n",
       " {'TimeGenerated': datetime.datetime(2021, 7, 28, 17, 11, 51, tzinfo=tzutc()), 'Val': 9.2},\n",
       " {'TimeGenerated': datetime.datetime(2021, 7, 28, 17, 12, 19, tzinfo=tzutc()), 'Val': 37.4374374374374},\n",
       " {'TimeGenerated': datetime.datetime(2021, 7, 28, 17, 12, 21, tzinfo=tzutc()), 'Val': 62.4249699879952},\n",
       " {'TimeGenerated': datetime.datetime(2021, 7, 28, 17, 12, 16, tzinfo=tzutc()), 'Val': 37.4374374374374},\n",
       " {'TimeGenerated': datetime.datetime(2021, 7, 28, 17, 12, 12, tzinfo=tzutc()), 'Val': 37.4374374374374},\n",
       " {'TimeGenerated': datetime.datetime(2021, 7, 28, 17, 12, 25, tzinfo=tzutc()), 'Val': 99.9800039992002},\n",
       " {'TimeGenerated': datetime.datetime(2021, 7, 28, 17, 12, 27, tzinfo=tzutc()), 'Val': 99.9800039992002},\n",
       " {'TimeGenerated': datetime.datetime(2021, 7, 28, 17, 12, 14, tzinfo=tzutc()), 'Val': 37.4374374374374},\n",
       " {'TimeGenerated': datetime.datetime(2021, 7, 28, 17, 12, 50, tzinfo=tzutc()), 'Val': 38.0076015203041},\n",
       " {'TimeGenerated': datetime.datetime(2021, 7, 28, 17, 12, 1, tzinfo=tzutc()), 'Val': 62.8251300520208},\n",
       " {'TimeGenerated': datetime.datetime(2021, 7, 28, 17, 12, 43, tzinfo=tzutc()), 'Val': 62.1627023785729},\n",
       " {'TimeGenerated': datetime.datetime(2021, 7, 28, 17, 12, 46, tzinfo=tzutc()), 'Val': 99.8199639927986},\n",
       " {'TimeGenerated': datetime.datetime(2021, 7, 28, 17, 12, 41, tzinfo=tzutc()), 'Val': 62.1627023785729},\n",
       " {'TimeGenerated': datetime.datetime(2021, 7, 28, 17, 12, 23, tzinfo=tzutc()), 'Val': 62.4249699879952},\n",
       " {'TimeGenerated': datetime.datetime(2021, 7, 28, 17, 12, 48, tzinfo=tzutc()), 'Val': 99.8199639927986},\n",
       " {'TimeGenerated': datetime.datetime(2021, 7, 28, 17, 11, 26, tzinfo=tzutc()), 'Val': 9.2},\n",
       " {'TimeGenerated': datetime.datetime(2021, 7, 28, 17, 11, 26, tzinfo=tzutc()), 'Val': 9.2},\n",
       " {'TimeGenerated': datetime.datetime(2021, 7, 28, 17, 11, 33, tzinfo=tzutc()), 'Val': 9.2},\n",
       " {'TimeGenerated': datetime.datetime(2021, 7, 28, 17, 11, 17, tzinfo=tzutc()), 'Val': 9.2},\n",
       " {'TimeGenerated': datetime.datetime(2021, 7, 28, 17, 11, 36, tzinfo=tzutc()), 'Val': 9.2},\n",
       " {'TimeGenerated': datetime.datetime(2021, 7, 28, 17, 11, 38, tzinfo=tzutc()), 'Val': 9.2},\n",
       " {'TimeGenerated': datetime.datetime(2021, 7, 28, 17, 11, 42, tzinfo=tzutc()), 'Val': 9.2},\n",
       " {'TimeGenerated': datetime.datetime(2021, 7, 28, 17, 11, 53, tzinfo=tzutc()), 'Val': 9.2},\n",
       " {'TimeGenerated': datetime.datetime(2021, 7, 28, 17, 11, 56, tzinfo=tzutc()), 'Val': 9.2},\n",
       " {'TimeGenerated': datetime.datetime(2021, 7, 28, 17, 12, 8, tzinfo=tzutc()), 'Val': 99.7800439912018}]"
      ]
     },
     "execution_count": 153,
     "metadata": {},
     "output_type": "execute_result"
    }
   ],
   "source": [
    "%%kql\n",
    "    let _start=testStart;\n",
    "    let _stop=testStop;\n",
    "    let _module_id=\"sink\";\n",
    "    let _input_index=\"input1\";\n",
    "    InsightsMetrics\n",
    "    | where Origin == \"iot.azm.ms\" and Namespace == \"metricsmodule\"\n",
    "    | where Name == \"rate\"\n",
    "    | extend dimensions = parse_json(Tags)\n",
    "    | extend module_id = dimensions.module_id\n",
    "    | extend channel = dimensions.input_index\n",
    "    | where module_id == _module_id and dimensions.input_index == _input_index\n",
    "    | where TimeGenerated > _start and TimeGenerated < _stop\n",
    "    | project TimeGenerated, Val"
   ]
  },
  {
   "cell_type": "code",
   "execution_count": 154,
   "metadata": {},
   "outputs": [],
   "source": [
    "df = _kql_raw_result_.to_dataframe()\n",
    "df = df.sort_values(by=['TimeGenerated'])"
   ]
  },
  {
   "cell_type": "code",
   "execution_count": 155,
   "metadata": {},
   "outputs": [],
   "source": [
    "sinkRateDf = df"
   ]
  },
  {
   "cell_type": "code",
   "execution_count": 156,
   "metadata": {},
   "outputs": [
    {
     "data": {
      "application/vnd.plotly.v1+json": {
       "config": {
        "plotlyServerURL": "https://plot.ly"
       },
       "data": [
        {
         "type": "scatter",
         "x": [
          "2021-07-28T17:11:02+00:00",
          "2021-07-28T17:11:04+00:00",
          "2021-07-28T17:11:06+00:00",
          "2021-07-28T17:11:08+00:00",
          "2021-07-28T17:11:10+00:00",
          "2021-07-28T17:11:13+00:00",
          "2021-07-28T17:11:15+00:00",
          "2021-07-28T17:11:17+00:00",
          "2021-07-28T17:11:19+00:00",
          "2021-07-28T17:11:22+00:00",
          "2021-07-28T17:11:24+00:00",
          "2021-07-28T17:11:26+00:00",
          "2021-07-28T17:11:26+00:00",
          "2021-07-28T17:11:28+00:00",
          "2021-07-28T17:11:30+00:00",
          "2021-07-28T17:11:33+00:00",
          "2021-07-28T17:11:36+00:00",
          "2021-07-28T17:11:38+00:00",
          "2021-07-28T17:11:40+00:00",
          "2021-07-28T17:11:42+00:00",
          "2021-07-28T17:11:45+00:00",
          "2021-07-28T17:11:47+00:00",
          "2021-07-28T17:11:49+00:00",
          "2021-07-28T17:11:51+00:00",
          "2021-07-28T17:11:53+00:00",
          "2021-07-28T17:12:05+00:00",
          "2021-07-28T17:12:08+00:00",
          "2021-07-28T17:12:10+00:00",
          "2021-07-28T17:12:12+00:00",
          "2021-07-28T17:12:14+00:00",
          "2021-07-28T17:12:16+00:00",
          "2021-07-28T17:12:19+00:00",
          "2021-07-28T17:12:21+00:00",
          "2021-07-28T17:12:23+00:00",
          "2021-07-28T17:12:25+00:00",
          "2021-07-28T17:12:27+00:00",
          "2021-07-28T17:12:32+00:00",
          "2021-07-28T17:12:36+00:00",
          "2021-07-28T17:12:39+00:00",
          "2021-07-28T17:12:41+00:00",
          "2021-07-28T17:12:43+00:00",
          "2021-07-28T17:12:46+00:00",
          "2021-07-28T17:12:48+00:00",
          "2021-07-28T17:12:50+00:00",
          "2021-07-28T17:12:52+00:00"
         ],
         "xaxis": "x",
         "y": [
          0,
          0,
          0,
          0,
          0,
          0,
          0,
          0,
          0,
          0,
          0,
          0,
          0,
          0,
          0,
          0,
          0,
          0,
          0,
          0,
          0,
          0,
          0,
          0,
          0,
          99.1207034372502,
          99.6996996996997,
          99.6996996996997,
          1.2,
          1.2,
          1.2,
          0,
          0,
          -101.159536185526,
          -101.159536185526,
          100.0200040008,
          1.19928043174096,
          1.19928043174096,
          0,
          0,
          -101.339196482111,
          -101.339196482111,
          99.619923984797,
          99.619923984797,
          1.79892064761143
         ],
         "yaxis": "y"
        },
        {
         "type": "scatter",
         "x": [
          "2021-07-28T17:11:02+00:00",
          "2021-07-28T17:11:04+00:00",
          "2021-07-28T17:11:06+00:00",
          "2021-07-28T17:11:08+00:00",
          "2021-07-28T17:11:10+00:00",
          "2021-07-28T17:11:13+00:00",
          "2021-07-28T17:11:15+00:00",
          "2021-07-28T17:11:17+00:00",
          "2021-07-28T17:11:19+00:00",
          "2021-07-28T17:11:22+00:00",
          "2021-07-28T17:11:24+00:00",
          "2021-07-28T17:11:26+00:00",
          "2021-07-28T17:11:26+00:00",
          "2021-07-28T17:11:28+00:00",
          "2021-07-28T17:11:30+00:00",
          "2021-07-28T17:11:33+00:00",
          "2021-07-28T17:11:36+00:00",
          "2021-07-28T17:11:38+00:00",
          "2021-07-28T17:11:40+00:00",
          "2021-07-28T17:11:42+00:00",
          "2021-07-28T17:11:45+00:00",
          "2021-07-28T17:11:47+00:00",
          "2021-07-28T17:11:49+00:00",
          "2021-07-28T17:11:51+00:00",
          "2021-07-28T17:11:53+00:00",
          "2021-07-28T17:11:56+00:00",
          "2021-07-28T17:12:01+00:00",
          "2021-07-28T17:12:05+00:00",
          "2021-07-28T17:12:08+00:00",
          "2021-07-28T17:12:10+00:00",
          "2021-07-28T17:12:12+00:00",
          "2021-07-28T17:12:14+00:00",
          "2021-07-28T17:12:16+00:00",
          "2021-07-28T17:12:19+00:00",
          "2021-07-28T17:12:21+00:00",
          "2021-07-28T17:12:23+00:00",
          "2021-07-28T17:12:25+00:00",
          "2021-07-28T17:12:27+00:00",
          "2021-07-28T17:12:32+00:00",
          "2021-07-28T17:12:36+00:00",
          "2021-07-28T17:12:39+00:00",
          "2021-07-28T17:12:41+00:00",
          "2021-07-28T17:12:43+00:00",
          "2021-07-28T17:12:46+00:00",
          "2021-07-28T17:12:48+00:00",
          "2021-07-28T17:12:50+00:00",
          "2021-07-28T17:12:52+00:00"
         ],
         "xaxis": "x2",
         "y": [
          9.2,
          9.2,
          9.2,
          9.2,
          9.2,
          9.2,
          9.2,
          9.2,
          9.2,
          9.2,
          9.2,
          9.2,
          9.2,
          9.2,
          9.2,
          9.2,
          9.2,
          9.2,
          9.2,
          9.2,
          9.2,
          9.2,
          9.2,
          9.2,
          9.2,
          9.2,
          62.8251300520208,
          99.7800439912018,
          99.7800439912018,
          37.4374374374374,
          37.4374374374374,
          37.4374374374374,
          37.4374374374374,
          37.4374374374374,
          62.4249699879952,
          62.4249699879952,
          99.9800039992002,
          99.9800039992002,
          37.6075215043009,
          37.6075215043009,
          37.6075215043009,
          62.1627023785729,
          62.1627023785729,
          99.8199639927986,
          99.8199639927986,
          38.0076015203041,
          38.0076015203041
         ],
         "yaxis": "y2"
        }
       ],
       "layout": {
        "template": {
         "data": {
          "bar": [
           {
            "error_x": {
             "color": "#2a3f5f"
            },
            "error_y": {
             "color": "#2a3f5f"
            },
            "marker": {
             "line": {
              "color": "#E5ECF6",
              "width": 0.5
             },
             "pattern": {
              "fillmode": "overlay",
              "size": 10,
              "solidity": 0.2
             }
            },
            "type": "bar"
           }
          ],
          "barpolar": [
           {
            "marker": {
             "line": {
              "color": "#E5ECF6",
              "width": 0.5
             },
             "pattern": {
              "fillmode": "overlay",
              "size": 10,
              "solidity": 0.2
             }
            },
            "type": "barpolar"
           }
          ],
          "carpet": [
           {
            "aaxis": {
             "endlinecolor": "#2a3f5f",
             "gridcolor": "white",
             "linecolor": "white",
             "minorgridcolor": "white",
             "startlinecolor": "#2a3f5f"
            },
            "baxis": {
             "endlinecolor": "#2a3f5f",
             "gridcolor": "white",
             "linecolor": "white",
             "minorgridcolor": "white",
             "startlinecolor": "#2a3f5f"
            },
            "type": "carpet"
           }
          ],
          "choropleth": [
           {
            "colorbar": {
             "outlinewidth": 0,
             "ticks": ""
            },
            "type": "choropleth"
           }
          ],
          "contour": [
           {
            "colorbar": {
             "outlinewidth": 0,
             "ticks": ""
            },
            "colorscale": [
             [
              0,
              "#0d0887"
             ],
             [
              0.1111111111111111,
              "#46039f"
             ],
             [
              0.2222222222222222,
              "#7201a8"
             ],
             [
              0.3333333333333333,
              "#9c179e"
             ],
             [
              0.4444444444444444,
              "#bd3786"
             ],
             [
              0.5555555555555556,
              "#d8576b"
             ],
             [
              0.6666666666666666,
              "#ed7953"
             ],
             [
              0.7777777777777778,
              "#fb9f3a"
             ],
             [
              0.8888888888888888,
              "#fdca26"
             ],
             [
              1,
              "#f0f921"
             ]
            ],
            "type": "contour"
           }
          ],
          "contourcarpet": [
           {
            "colorbar": {
             "outlinewidth": 0,
             "ticks": ""
            },
            "type": "contourcarpet"
           }
          ],
          "heatmap": [
           {
            "colorbar": {
             "outlinewidth": 0,
             "ticks": ""
            },
            "colorscale": [
             [
              0,
              "#0d0887"
             ],
             [
              0.1111111111111111,
              "#46039f"
             ],
             [
              0.2222222222222222,
              "#7201a8"
             ],
             [
              0.3333333333333333,
              "#9c179e"
             ],
             [
              0.4444444444444444,
              "#bd3786"
             ],
             [
              0.5555555555555556,
              "#d8576b"
             ],
             [
              0.6666666666666666,
              "#ed7953"
             ],
             [
              0.7777777777777778,
              "#fb9f3a"
             ],
             [
              0.8888888888888888,
              "#fdca26"
             ],
             [
              1,
              "#f0f921"
             ]
            ],
            "type": "heatmap"
           }
          ],
          "heatmapgl": [
           {
            "colorbar": {
             "outlinewidth": 0,
             "ticks": ""
            },
            "colorscale": [
             [
              0,
              "#0d0887"
             ],
             [
              0.1111111111111111,
              "#46039f"
             ],
             [
              0.2222222222222222,
              "#7201a8"
             ],
             [
              0.3333333333333333,
              "#9c179e"
             ],
             [
              0.4444444444444444,
              "#bd3786"
             ],
             [
              0.5555555555555556,
              "#d8576b"
             ],
             [
              0.6666666666666666,
              "#ed7953"
             ],
             [
              0.7777777777777778,
              "#fb9f3a"
             ],
             [
              0.8888888888888888,
              "#fdca26"
             ],
             [
              1,
              "#f0f921"
             ]
            ],
            "type": "heatmapgl"
           }
          ],
          "histogram": [
           {
            "marker": {
             "pattern": {
              "fillmode": "overlay",
              "size": 10,
              "solidity": 0.2
             }
            },
            "type": "histogram"
           }
          ],
          "histogram2d": [
           {
            "colorbar": {
             "outlinewidth": 0,
             "ticks": ""
            },
            "colorscale": [
             [
              0,
              "#0d0887"
             ],
             [
              0.1111111111111111,
              "#46039f"
             ],
             [
              0.2222222222222222,
              "#7201a8"
             ],
             [
              0.3333333333333333,
              "#9c179e"
             ],
             [
              0.4444444444444444,
              "#bd3786"
             ],
             [
              0.5555555555555556,
              "#d8576b"
             ],
             [
              0.6666666666666666,
              "#ed7953"
             ],
             [
              0.7777777777777778,
              "#fb9f3a"
             ],
             [
              0.8888888888888888,
              "#fdca26"
             ],
             [
              1,
              "#f0f921"
             ]
            ],
            "type": "histogram2d"
           }
          ],
          "histogram2dcontour": [
           {
            "colorbar": {
             "outlinewidth": 0,
             "ticks": ""
            },
            "colorscale": [
             [
              0,
              "#0d0887"
             ],
             [
              0.1111111111111111,
              "#46039f"
             ],
             [
              0.2222222222222222,
              "#7201a8"
             ],
             [
              0.3333333333333333,
              "#9c179e"
             ],
             [
              0.4444444444444444,
              "#bd3786"
             ],
             [
              0.5555555555555556,
              "#d8576b"
             ],
             [
              0.6666666666666666,
              "#ed7953"
             ],
             [
              0.7777777777777778,
              "#fb9f3a"
             ],
             [
              0.8888888888888888,
              "#fdca26"
             ],
             [
              1,
              "#f0f921"
             ]
            ],
            "type": "histogram2dcontour"
           }
          ],
          "mesh3d": [
           {
            "colorbar": {
             "outlinewidth": 0,
             "ticks": ""
            },
            "type": "mesh3d"
           }
          ],
          "parcoords": [
           {
            "line": {
             "colorbar": {
              "outlinewidth": 0,
              "ticks": ""
             }
            },
            "type": "parcoords"
           }
          ],
          "pie": [
           {
            "automargin": true,
            "type": "pie"
           }
          ],
          "scatter": [
           {
            "marker": {
             "colorbar": {
              "outlinewidth": 0,
              "ticks": ""
             }
            },
            "type": "scatter"
           }
          ],
          "scatter3d": [
           {
            "line": {
             "colorbar": {
              "outlinewidth": 0,
              "ticks": ""
             }
            },
            "marker": {
             "colorbar": {
              "outlinewidth": 0,
              "ticks": ""
             }
            },
            "type": "scatter3d"
           }
          ],
          "scattercarpet": [
           {
            "marker": {
             "colorbar": {
              "outlinewidth": 0,
              "ticks": ""
             }
            },
            "type": "scattercarpet"
           }
          ],
          "scattergeo": [
           {
            "marker": {
             "colorbar": {
              "outlinewidth": 0,
              "ticks": ""
             }
            },
            "type": "scattergeo"
           }
          ],
          "scattergl": [
           {
            "marker": {
             "colorbar": {
              "outlinewidth": 0,
              "ticks": ""
             }
            },
            "type": "scattergl"
           }
          ],
          "scattermapbox": [
           {
            "marker": {
             "colorbar": {
              "outlinewidth": 0,
              "ticks": ""
             }
            },
            "type": "scattermapbox"
           }
          ],
          "scatterpolar": [
           {
            "marker": {
             "colorbar": {
              "outlinewidth": 0,
              "ticks": ""
             }
            },
            "type": "scatterpolar"
           }
          ],
          "scatterpolargl": [
           {
            "marker": {
             "colorbar": {
              "outlinewidth": 0,
              "ticks": ""
             }
            },
            "type": "scatterpolargl"
           }
          ],
          "scatterternary": [
           {
            "marker": {
             "colorbar": {
              "outlinewidth": 0,
              "ticks": ""
             }
            },
            "type": "scatterternary"
           }
          ],
          "surface": [
           {
            "colorbar": {
             "outlinewidth": 0,
             "ticks": ""
            },
            "colorscale": [
             [
              0,
              "#0d0887"
             ],
             [
              0.1111111111111111,
              "#46039f"
             ],
             [
              0.2222222222222222,
              "#7201a8"
             ],
             [
              0.3333333333333333,
              "#9c179e"
             ],
             [
              0.4444444444444444,
              "#bd3786"
             ],
             [
              0.5555555555555556,
              "#d8576b"
             ],
             [
              0.6666666666666666,
              "#ed7953"
             ],
             [
              0.7777777777777778,
              "#fb9f3a"
             ],
             [
              0.8888888888888888,
              "#fdca26"
             ],
             [
              1,
              "#f0f921"
             ]
            ],
            "type": "surface"
           }
          ],
          "table": [
           {
            "cells": {
             "fill": {
              "color": "#EBF0F8"
             },
             "line": {
              "color": "white"
             }
            },
            "header": {
             "fill": {
              "color": "#C8D4E3"
             },
             "line": {
              "color": "white"
             }
            },
            "type": "table"
           }
          ]
         },
         "layout": {
          "annotationdefaults": {
           "arrowcolor": "#2a3f5f",
           "arrowhead": 0,
           "arrowwidth": 1
          },
          "autotypenumbers": "strict",
          "coloraxis": {
           "colorbar": {
            "outlinewidth": 0,
            "ticks": ""
           }
          },
          "colorscale": {
           "diverging": [
            [
             0,
             "#8e0152"
            ],
            [
             0.1,
             "#c51b7d"
            ],
            [
             0.2,
             "#de77ae"
            ],
            [
             0.3,
             "#f1b6da"
            ],
            [
             0.4,
             "#fde0ef"
            ],
            [
             0.5,
             "#f7f7f7"
            ],
            [
             0.6,
             "#e6f5d0"
            ],
            [
             0.7,
             "#b8e186"
            ],
            [
             0.8,
             "#7fbc41"
            ],
            [
             0.9,
             "#4d9221"
            ],
            [
             1,
             "#276419"
            ]
           ],
           "sequential": [
            [
             0,
             "#0d0887"
            ],
            [
             0.1111111111111111,
             "#46039f"
            ],
            [
             0.2222222222222222,
             "#7201a8"
            ],
            [
             0.3333333333333333,
             "#9c179e"
            ],
            [
             0.4444444444444444,
             "#bd3786"
            ],
            [
             0.5555555555555556,
             "#d8576b"
            ],
            [
             0.6666666666666666,
             "#ed7953"
            ],
            [
             0.7777777777777778,
             "#fb9f3a"
            ],
            [
             0.8888888888888888,
             "#fdca26"
            ],
            [
             1,
             "#f0f921"
            ]
           ],
           "sequentialminus": [
            [
             0,
             "#0d0887"
            ],
            [
             0.1111111111111111,
             "#46039f"
            ],
            [
             0.2222222222222222,
             "#7201a8"
            ],
            [
             0.3333333333333333,
             "#9c179e"
            ],
            [
             0.4444444444444444,
             "#bd3786"
            ],
            [
             0.5555555555555556,
             "#d8576b"
            ],
            [
             0.6666666666666666,
             "#ed7953"
            ],
            [
             0.7777777777777778,
             "#fb9f3a"
            ],
            [
             0.8888888888888888,
             "#fdca26"
            ],
            [
             1,
             "#f0f921"
            ]
           ]
          },
          "colorway": [
           "#636efa",
           "#EF553B",
           "#00cc96",
           "#ab63fa",
           "#FFA15A",
           "#19d3f3",
           "#FF6692",
           "#B6E880",
           "#FF97FF",
           "#FECB52"
          ],
          "font": {
           "color": "#2a3f5f"
          },
          "geo": {
           "bgcolor": "white",
           "lakecolor": "white",
           "landcolor": "#E5ECF6",
           "showlakes": true,
           "showland": true,
           "subunitcolor": "white"
          },
          "hoverlabel": {
           "align": "left"
          },
          "hovermode": "closest",
          "mapbox": {
           "style": "light"
          },
          "paper_bgcolor": "white",
          "plot_bgcolor": "#E5ECF6",
          "polar": {
           "angularaxis": {
            "gridcolor": "white",
            "linecolor": "white",
            "ticks": ""
           },
           "bgcolor": "#E5ECF6",
           "radialaxis": {
            "gridcolor": "white",
            "linecolor": "white",
            "ticks": ""
           }
          },
          "scene": {
           "xaxis": {
            "backgroundcolor": "#E5ECF6",
            "gridcolor": "white",
            "gridwidth": 2,
            "linecolor": "white",
            "showbackground": true,
            "ticks": "",
            "zerolinecolor": "white"
           },
           "yaxis": {
            "backgroundcolor": "#E5ECF6",
            "gridcolor": "white",
            "gridwidth": 2,
            "linecolor": "white",
            "showbackground": true,
            "ticks": "",
            "zerolinecolor": "white"
           },
           "zaxis": {
            "backgroundcolor": "#E5ECF6",
            "gridcolor": "white",
            "gridwidth": 2,
            "linecolor": "white",
            "showbackground": true,
            "ticks": "",
            "zerolinecolor": "white"
           }
          },
          "shapedefaults": {
           "line": {
            "color": "#2a3f5f"
           }
          },
          "ternary": {
           "aaxis": {
            "gridcolor": "white",
            "linecolor": "white",
            "ticks": ""
           },
           "baxis": {
            "gridcolor": "white",
            "linecolor": "white",
            "ticks": ""
           },
           "bgcolor": "#E5ECF6",
           "caxis": {
            "gridcolor": "white",
            "linecolor": "white",
            "ticks": ""
           }
          },
          "title": {
           "x": 0.05
          },
          "xaxis": {
           "automargin": true,
           "gridcolor": "white",
           "linecolor": "white",
           "ticks": "",
           "title": {
            "standoff": 15
           },
           "zerolinecolor": "white",
           "zerolinewidth": 2
          },
          "yaxis": {
           "automargin": true,
           "gridcolor": "white",
           "linecolor": "white",
           "ticks": "",
           "title": {
            "standoff": 15
           },
           "zerolinecolor": "white",
           "zerolinewidth": 2
          }
         }
        },
        "title": {
         "text": "Side By Side Subplots"
        },
        "xaxis": {
         "anchor": "y",
         "domain": [
          0,
          1
         ],
         "matches": "x3",
         "showticklabels": false
        },
        "xaxis2": {
         "anchor": "y2",
         "domain": [
          0,
          1
         ],
         "matches": "x3",
         "showticklabels": false
        },
        "xaxis3": {
         "anchor": "y3",
         "domain": [
          0,
          1
         ]
        },
        "yaxis": {
         "anchor": "x",
         "domain": [
          0.68,
          1
         ]
        },
        "yaxis2": {
         "anchor": "x2",
         "domain": [
          0.34,
          0.66
         ]
        },
        "yaxis3": {
         "anchor": "x3",
         "domain": [
          0,
          0.32
         ]
        }
       }
      },
      "text/html": [
       "<div>                            <div id=\"13b77f76-24b2-44d7-bcba-701b2cb35fee\" class=\"plotly-graph-div\" style=\"height:525px; width:100%;\"></div>            <script type=\"text/javascript\">                require([\"plotly\"], function(Plotly) {                    window.PLOTLYENV=window.PLOTLYENV || {};                                    if (document.getElementById(\"13b77f76-24b2-44d7-bcba-701b2cb35fee\")) {                    Plotly.newPlot(                        \"13b77f76-24b2-44d7-bcba-701b2cb35fee\",                        [{\"type\":\"scatter\",\"x\":[\"2021-07-28T17:11:02+00:00\",\"2021-07-28T17:11:04+00:00\",\"2021-07-28T17:11:06+00:00\",\"2021-07-28T17:11:08+00:00\",\"2021-07-28T17:11:10+00:00\",\"2021-07-28T17:11:13+00:00\",\"2021-07-28T17:11:15+00:00\",\"2021-07-28T17:11:17+00:00\",\"2021-07-28T17:11:19+00:00\",\"2021-07-28T17:11:22+00:00\",\"2021-07-28T17:11:24+00:00\",\"2021-07-28T17:11:26+00:00\",\"2021-07-28T17:11:26+00:00\",\"2021-07-28T17:11:28+00:00\",\"2021-07-28T17:11:30+00:00\",\"2021-07-28T17:11:33+00:00\",\"2021-07-28T17:11:36+00:00\",\"2021-07-28T17:11:38+00:00\",\"2021-07-28T17:11:40+00:00\",\"2021-07-28T17:11:42+00:00\",\"2021-07-28T17:11:45+00:00\",\"2021-07-28T17:11:47+00:00\",\"2021-07-28T17:11:49+00:00\",\"2021-07-28T17:11:51+00:00\",\"2021-07-28T17:11:53+00:00\",\"2021-07-28T17:12:05+00:00\",\"2021-07-28T17:12:08+00:00\",\"2021-07-28T17:12:10+00:00\",\"2021-07-28T17:12:12+00:00\",\"2021-07-28T17:12:14+00:00\",\"2021-07-28T17:12:16+00:00\",\"2021-07-28T17:12:19+00:00\",\"2021-07-28T17:12:21+00:00\",\"2021-07-28T17:12:23+00:00\",\"2021-07-28T17:12:25+00:00\",\"2021-07-28T17:12:27+00:00\",\"2021-07-28T17:12:32+00:00\",\"2021-07-28T17:12:36+00:00\",\"2021-07-28T17:12:39+00:00\",\"2021-07-28T17:12:41+00:00\",\"2021-07-28T17:12:43+00:00\",\"2021-07-28T17:12:46+00:00\",\"2021-07-28T17:12:48+00:00\",\"2021-07-28T17:12:50+00:00\",\"2021-07-28T17:12:52+00:00\"],\"xaxis\":\"x\",\"y\":[0.0,0.0,0.0,0.0,0.0,0.0,0.0,0.0,0.0,0.0,0.0,0.0,0.0,0.0,0.0,0.0,0.0,0.0,0.0,0.0,0.0,0.0,0.0,0.0,0.0,99.1207034372502,99.6996996996997,99.6996996996997,1.2,1.2,1.2,0.0,0.0,-101.159536185526,-101.159536185526,100.0200040008,1.19928043174096,1.19928043174096,0.0,0.0,-101.339196482111,-101.339196482111,99.619923984797,99.619923984797,1.79892064761143],\"yaxis\":\"y\"},{\"type\":\"scatter\",\"x\":[\"2021-07-28T17:11:02+00:00\",\"2021-07-28T17:11:04+00:00\",\"2021-07-28T17:11:06+00:00\",\"2021-07-28T17:11:08+00:00\",\"2021-07-28T17:11:10+00:00\",\"2021-07-28T17:11:13+00:00\",\"2021-07-28T17:11:15+00:00\",\"2021-07-28T17:11:17+00:00\",\"2021-07-28T17:11:19+00:00\",\"2021-07-28T17:11:22+00:00\",\"2021-07-28T17:11:24+00:00\",\"2021-07-28T17:11:26+00:00\",\"2021-07-28T17:11:26+00:00\",\"2021-07-28T17:11:28+00:00\",\"2021-07-28T17:11:30+00:00\",\"2021-07-28T17:11:33+00:00\",\"2021-07-28T17:11:36+00:00\",\"2021-07-28T17:11:38+00:00\",\"2021-07-28T17:11:40+00:00\",\"2021-07-28T17:11:42+00:00\",\"2021-07-28T17:11:45+00:00\",\"2021-07-28T17:11:47+00:00\",\"2021-07-28T17:11:49+00:00\",\"2021-07-28T17:11:51+00:00\",\"2021-07-28T17:11:53+00:00\",\"2021-07-28T17:11:56+00:00\",\"2021-07-28T17:12:01+00:00\",\"2021-07-28T17:12:05+00:00\",\"2021-07-28T17:12:08+00:00\",\"2021-07-28T17:12:10+00:00\",\"2021-07-28T17:12:12+00:00\",\"2021-07-28T17:12:14+00:00\",\"2021-07-28T17:12:16+00:00\",\"2021-07-28T17:12:19+00:00\",\"2021-07-28T17:12:21+00:00\",\"2021-07-28T17:12:23+00:00\",\"2021-07-28T17:12:25+00:00\",\"2021-07-28T17:12:27+00:00\",\"2021-07-28T17:12:32+00:00\",\"2021-07-28T17:12:36+00:00\",\"2021-07-28T17:12:39+00:00\",\"2021-07-28T17:12:41+00:00\",\"2021-07-28T17:12:43+00:00\",\"2021-07-28T17:12:46+00:00\",\"2021-07-28T17:12:48+00:00\",\"2021-07-28T17:12:50+00:00\",\"2021-07-28T17:12:52+00:00\"],\"xaxis\":\"x2\",\"y\":[9.2,9.2,9.2,9.2,9.2,9.2,9.2,9.2,9.2,9.2,9.2,9.2,9.2,9.2,9.2,9.2,9.2,9.2,9.2,9.2,9.2,9.2,9.2,9.2,9.2,9.2,62.8251300520208,99.7800439912018,99.7800439912018,37.4374374374374,37.4374374374374,37.4374374374374,37.4374374374374,37.4374374374374,62.4249699879952,62.4249699879952,99.9800039992002,99.9800039992002,37.6075215043009,37.6075215043009,37.6075215043009,62.1627023785729,62.1627023785729,99.8199639927986,99.8199639927986,38.0076015203041,38.0076015203041],\"yaxis\":\"y2\"}],                        {\"template\":{\"data\":{\"bar\":[{\"error_x\":{\"color\":\"#2a3f5f\"},\"error_y\":{\"color\":\"#2a3f5f\"},\"marker\":{\"line\":{\"color\":\"#E5ECF6\",\"width\":0.5},\"pattern\":{\"fillmode\":\"overlay\",\"size\":10,\"solidity\":0.2}},\"type\":\"bar\"}],\"barpolar\":[{\"marker\":{\"line\":{\"color\":\"#E5ECF6\",\"width\":0.5},\"pattern\":{\"fillmode\":\"overlay\",\"size\":10,\"solidity\":0.2}},\"type\":\"barpolar\"}],\"carpet\":[{\"aaxis\":{\"endlinecolor\":\"#2a3f5f\",\"gridcolor\":\"white\",\"linecolor\":\"white\",\"minorgridcolor\":\"white\",\"startlinecolor\":\"#2a3f5f\"},\"baxis\":{\"endlinecolor\":\"#2a3f5f\",\"gridcolor\":\"white\",\"linecolor\":\"white\",\"minorgridcolor\":\"white\",\"startlinecolor\":\"#2a3f5f\"},\"type\":\"carpet\"}],\"choropleth\":[{\"colorbar\":{\"outlinewidth\":0,\"ticks\":\"\"},\"type\":\"choropleth\"}],\"contour\":[{\"colorbar\":{\"outlinewidth\":0,\"ticks\":\"\"},\"colorscale\":[[0.0,\"#0d0887\"],[0.1111111111111111,\"#46039f\"],[0.2222222222222222,\"#7201a8\"],[0.3333333333333333,\"#9c179e\"],[0.4444444444444444,\"#bd3786\"],[0.5555555555555556,\"#d8576b\"],[0.6666666666666666,\"#ed7953\"],[0.7777777777777778,\"#fb9f3a\"],[0.8888888888888888,\"#fdca26\"],[1.0,\"#f0f921\"]],\"type\":\"contour\"}],\"contourcarpet\":[{\"colorbar\":{\"outlinewidth\":0,\"ticks\":\"\"},\"type\":\"contourcarpet\"}],\"heatmap\":[{\"colorbar\":{\"outlinewidth\":0,\"ticks\":\"\"},\"colorscale\":[[0.0,\"#0d0887\"],[0.1111111111111111,\"#46039f\"],[0.2222222222222222,\"#7201a8\"],[0.3333333333333333,\"#9c179e\"],[0.4444444444444444,\"#bd3786\"],[0.5555555555555556,\"#d8576b\"],[0.6666666666666666,\"#ed7953\"],[0.7777777777777778,\"#fb9f3a\"],[0.8888888888888888,\"#fdca26\"],[1.0,\"#f0f921\"]],\"type\":\"heatmap\"}],\"heatmapgl\":[{\"colorbar\":{\"outlinewidth\":0,\"ticks\":\"\"},\"colorscale\":[[0.0,\"#0d0887\"],[0.1111111111111111,\"#46039f\"],[0.2222222222222222,\"#7201a8\"],[0.3333333333333333,\"#9c179e\"],[0.4444444444444444,\"#bd3786\"],[0.5555555555555556,\"#d8576b\"],[0.6666666666666666,\"#ed7953\"],[0.7777777777777778,\"#fb9f3a\"],[0.8888888888888888,\"#fdca26\"],[1.0,\"#f0f921\"]],\"type\":\"heatmapgl\"}],\"histogram\":[{\"marker\":{\"pattern\":{\"fillmode\":\"overlay\",\"size\":10,\"solidity\":0.2}},\"type\":\"histogram\"}],\"histogram2d\":[{\"colorbar\":{\"outlinewidth\":0,\"ticks\":\"\"},\"colorscale\":[[0.0,\"#0d0887\"],[0.1111111111111111,\"#46039f\"],[0.2222222222222222,\"#7201a8\"],[0.3333333333333333,\"#9c179e\"],[0.4444444444444444,\"#bd3786\"],[0.5555555555555556,\"#d8576b\"],[0.6666666666666666,\"#ed7953\"],[0.7777777777777778,\"#fb9f3a\"],[0.8888888888888888,\"#fdca26\"],[1.0,\"#f0f921\"]],\"type\":\"histogram2d\"}],\"histogram2dcontour\":[{\"colorbar\":{\"outlinewidth\":0,\"ticks\":\"\"},\"colorscale\":[[0.0,\"#0d0887\"],[0.1111111111111111,\"#46039f\"],[0.2222222222222222,\"#7201a8\"],[0.3333333333333333,\"#9c179e\"],[0.4444444444444444,\"#bd3786\"],[0.5555555555555556,\"#d8576b\"],[0.6666666666666666,\"#ed7953\"],[0.7777777777777778,\"#fb9f3a\"],[0.8888888888888888,\"#fdca26\"],[1.0,\"#f0f921\"]],\"type\":\"histogram2dcontour\"}],\"mesh3d\":[{\"colorbar\":{\"outlinewidth\":0,\"ticks\":\"\"},\"type\":\"mesh3d\"}],\"parcoords\":[{\"line\":{\"colorbar\":{\"outlinewidth\":0,\"ticks\":\"\"}},\"type\":\"parcoords\"}],\"pie\":[{\"automargin\":true,\"type\":\"pie\"}],\"scatter\":[{\"marker\":{\"colorbar\":{\"outlinewidth\":0,\"ticks\":\"\"}},\"type\":\"scatter\"}],\"scatter3d\":[{\"line\":{\"colorbar\":{\"outlinewidth\":0,\"ticks\":\"\"}},\"marker\":{\"colorbar\":{\"outlinewidth\":0,\"ticks\":\"\"}},\"type\":\"scatter3d\"}],\"scattercarpet\":[{\"marker\":{\"colorbar\":{\"outlinewidth\":0,\"ticks\":\"\"}},\"type\":\"scattercarpet\"}],\"scattergeo\":[{\"marker\":{\"colorbar\":{\"outlinewidth\":0,\"ticks\":\"\"}},\"type\":\"scattergeo\"}],\"scattergl\":[{\"marker\":{\"colorbar\":{\"outlinewidth\":0,\"ticks\":\"\"}},\"type\":\"scattergl\"}],\"scattermapbox\":[{\"marker\":{\"colorbar\":{\"outlinewidth\":0,\"ticks\":\"\"}},\"type\":\"scattermapbox\"}],\"scatterpolar\":[{\"marker\":{\"colorbar\":{\"outlinewidth\":0,\"ticks\":\"\"}},\"type\":\"scatterpolar\"}],\"scatterpolargl\":[{\"marker\":{\"colorbar\":{\"outlinewidth\":0,\"ticks\":\"\"}},\"type\":\"scatterpolargl\"}],\"scatterternary\":[{\"marker\":{\"colorbar\":{\"outlinewidth\":0,\"ticks\":\"\"}},\"type\":\"scatterternary\"}],\"surface\":[{\"colorbar\":{\"outlinewidth\":0,\"ticks\":\"\"},\"colorscale\":[[0.0,\"#0d0887\"],[0.1111111111111111,\"#46039f\"],[0.2222222222222222,\"#7201a8\"],[0.3333333333333333,\"#9c179e\"],[0.4444444444444444,\"#bd3786\"],[0.5555555555555556,\"#d8576b\"],[0.6666666666666666,\"#ed7953\"],[0.7777777777777778,\"#fb9f3a\"],[0.8888888888888888,\"#fdca26\"],[1.0,\"#f0f921\"]],\"type\":\"surface\"}],\"table\":[{\"cells\":{\"fill\":{\"color\":\"#EBF0F8\"},\"line\":{\"color\":\"white\"}},\"header\":{\"fill\":{\"color\":\"#C8D4E3\"},\"line\":{\"color\":\"white\"}},\"type\":\"table\"}]},\"layout\":{\"annotationdefaults\":{\"arrowcolor\":\"#2a3f5f\",\"arrowhead\":0,\"arrowwidth\":1},\"autotypenumbers\":\"strict\",\"coloraxis\":{\"colorbar\":{\"outlinewidth\":0,\"ticks\":\"\"}},\"colorscale\":{\"diverging\":[[0,\"#8e0152\"],[0.1,\"#c51b7d\"],[0.2,\"#de77ae\"],[0.3,\"#f1b6da\"],[0.4,\"#fde0ef\"],[0.5,\"#f7f7f7\"],[0.6,\"#e6f5d0\"],[0.7,\"#b8e186\"],[0.8,\"#7fbc41\"],[0.9,\"#4d9221\"],[1,\"#276419\"]],\"sequential\":[[0.0,\"#0d0887\"],[0.1111111111111111,\"#46039f\"],[0.2222222222222222,\"#7201a8\"],[0.3333333333333333,\"#9c179e\"],[0.4444444444444444,\"#bd3786\"],[0.5555555555555556,\"#d8576b\"],[0.6666666666666666,\"#ed7953\"],[0.7777777777777778,\"#fb9f3a\"],[0.8888888888888888,\"#fdca26\"],[1.0,\"#f0f921\"]],\"sequentialminus\":[[0.0,\"#0d0887\"],[0.1111111111111111,\"#46039f\"],[0.2222222222222222,\"#7201a8\"],[0.3333333333333333,\"#9c179e\"],[0.4444444444444444,\"#bd3786\"],[0.5555555555555556,\"#d8576b\"],[0.6666666666666666,\"#ed7953\"],[0.7777777777777778,\"#fb9f3a\"],[0.8888888888888888,\"#fdca26\"],[1.0,\"#f0f921\"]]},\"colorway\":[\"#636efa\",\"#EF553B\",\"#00cc96\",\"#ab63fa\",\"#FFA15A\",\"#19d3f3\",\"#FF6692\",\"#B6E880\",\"#FF97FF\",\"#FECB52\"],\"font\":{\"color\":\"#2a3f5f\"},\"geo\":{\"bgcolor\":\"white\",\"lakecolor\":\"white\",\"landcolor\":\"#E5ECF6\",\"showlakes\":true,\"showland\":true,\"subunitcolor\":\"white\"},\"hoverlabel\":{\"align\":\"left\"},\"hovermode\":\"closest\",\"mapbox\":{\"style\":\"light\"},\"paper_bgcolor\":\"white\",\"plot_bgcolor\":\"#E5ECF6\",\"polar\":{\"angularaxis\":{\"gridcolor\":\"white\",\"linecolor\":\"white\",\"ticks\":\"\"},\"bgcolor\":\"#E5ECF6\",\"radialaxis\":{\"gridcolor\":\"white\",\"linecolor\":\"white\",\"ticks\":\"\"}},\"scene\":{\"xaxis\":{\"backgroundcolor\":\"#E5ECF6\",\"gridcolor\":\"white\",\"gridwidth\":2,\"linecolor\":\"white\",\"showbackground\":true,\"ticks\":\"\",\"zerolinecolor\":\"white\"},\"yaxis\":{\"backgroundcolor\":\"#E5ECF6\",\"gridcolor\":\"white\",\"gridwidth\":2,\"linecolor\":\"white\",\"showbackground\":true,\"ticks\":\"\",\"zerolinecolor\":\"white\"},\"zaxis\":{\"backgroundcolor\":\"#E5ECF6\",\"gridcolor\":\"white\",\"gridwidth\":2,\"linecolor\":\"white\",\"showbackground\":true,\"ticks\":\"\",\"zerolinecolor\":\"white\"}},\"shapedefaults\":{\"line\":{\"color\":\"#2a3f5f\"}},\"ternary\":{\"aaxis\":{\"gridcolor\":\"white\",\"linecolor\":\"white\",\"ticks\":\"\"},\"baxis\":{\"gridcolor\":\"white\",\"linecolor\":\"white\",\"ticks\":\"\"},\"bgcolor\":\"#E5ECF6\",\"caxis\":{\"gridcolor\":\"white\",\"linecolor\":\"white\",\"ticks\":\"\"}},\"title\":{\"x\":0.05},\"xaxis\":{\"automargin\":true,\"gridcolor\":\"white\",\"linecolor\":\"white\",\"ticks\":\"\",\"title\":{\"standoff\":15},\"zerolinecolor\":\"white\",\"zerolinewidth\":2},\"yaxis\":{\"automargin\":true,\"gridcolor\":\"white\",\"linecolor\":\"white\",\"ticks\":\"\",\"title\":{\"standoff\":15},\"zerolinecolor\":\"white\",\"zerolinewidth\":2}}},\"title\":{\"text\":\"Side By Side Subplots\"},\"xaxis\":{\"anchor\":\"y\",\"domain\":[0.0,1.0],\"matches\":\"x3\",\"showticklabels\":false},\"xaxis2\":{\"anchor\":\"y2\",\"domain\":[0.0,1.0],\"matches\":\"x3\",\"showticklabels\":false},\"xaxis3\":{\"anchor\":\"y3\",\"domain\":[0.0,1.0]},\"yaxis\":{\"anchor\":\"x\",\"domain\":[0.68,1.0]},\"yaxis2\":{\"anchor\":\"x2\",\"domain\":[0.34,0.66]},\"yaxis3\":{\"anchor\":\"x3\",\"domain\":[0.0,0.32]}},                        {\"responsive\": true}                    ).then(function(){\n",
       "                            \n",
       "var gd = document.getElementById('13b77f76-24b2-44d7-bcba-701b2cb35fee');\n",
       "var x = new MutationObserver(function (mutations, observer) {{\n",
       "        var display = window.getComputedStyle(gd).display;\n",
       "        if (!display || display === 'none') {{\n",
       "            console.log([gd, 'removed!']);\n",
       "            Plotly.purge(gd);\n",
       "            observer.disconnect();\n",
       "        }}\n",
       "}});\n",
       "\n",
       "// Listen for the removal of the full notebook cells\n",
       "var notebookContainer = gd.closest('#notebook-container');\n",
       "if (notebookContainer) {{\n",
       "    x.observe(notebookContainer, {childList: true});\n",
       "}}\n",
       "\n",
       "// Listen for the clearing of the current output cell\n",
       "var outputEl = gd.closest('.output');\n",
       "if (outputEl) {{\n",
       "    x.observe(outputEl, {childList: true});\n",
       "}}\n",
       "\n",
       "                        })                };                });            </script>        </div>"
      ]
     },
     "metadata": {},
     "output_type": "display_data"
    }
   ],
   "source": [
    "from plotly.subplots import make_subplots\n",
    "import plotly.graph_objects as go\n",
    "\n",
    "fig = make_subplots(rows=3, cols=1, shared_xaxes=True,\n",
    "                    vertical_spacing=0.02)\n",
    "\n",
    "fig.add_trace( \n",
    "    go.Line(x=sourceRateDf['TimeGenerated'], y=sourceRateDf['Val']), row=1, col=1\n",
    ")\n",
    "\n",
    "fig.add_trace( \n",
    "    go.Line(x=sinkRateDf['TimeGenerated'], y=sinkRateDf['Val']), row=2, col=1\n",
    ")\n",
    "\n",
    "\n",
    "\n",
    "\n",
    "fig.update_layout(title_text=\"Side By Side Subplots\")\n",
    "fig.show()"
   ]
  },
  {
   "cell_type": "code",
   "execution_count": null,
   "metadata": {},
   "outputs": [],
   "source": []
  },
  {
   "cell_type": "code",
   "execution_count": null,
   "metadata": {},
   "outputs": [],
   "source": []
  }
 ],
 "metadata": {
  "interpreter": {
   "hash": "31f2aee4e71d21fbe5cf8b01ff0e069b9275f58929596ceb00d14d90e3e16cd6"
  },
  "kernelspec": {
   "display_name": "Python 3 (ipykernel)",
   "language": "python",
   "name": "python3"
  },
  "language_info": {
   "codemirror_mode": {
    "name": "ipython",
    "version": 3
   },
   "file_extension": ".py",
   "mimetype": "text/x-python",
   "name": "python",
   "nbconvert_exporter": "python",
   "pygments_lexer": "ipython3",
   "version": "3.9.6"
  }
 },
 "nbformat": 4,
 "nbformat_minor": 4
}
